{
 "cells": [
  {
   "cell_type": "code",
   "execution_count": 1,
   "metadata": {},
   "outputs": [],
   "source": [
    "import pandas as pd\n",
    "import numpy as np\n",
    "\n",
    "from scipy import stats\n",
    "pd.options.display.max_columns = 23"
   ]
  },
  {
   "cell_type": "code",
   "execution_count": 2,
   "metadata": {},
   "outputs": [],
   "source": [
    "path = 'data/'\n",
    "DF = pd.read_csv(path+'vote.csv')"
   ]
  },
  {
   "cell_type": "code",
   "execution_count": 3,
   "metadata": {},
   "outputs": [
    {
     "data": {
      "text/html": [
       "<div>\n",
       "<style scoped>\n",
       "    .dataframe tbody tr th:only-of-type {\n",
       "        vertical-align: middle;\n",
       "    }\n",
       "\n",
       "    .dataframe tbody tr th {\n",
       "        vertical-align: top;\n",
       "    }\n",
       "\n",
       "    .dataframe thead th {\n",
       "        text-align: right;\n",
       "    }\n",
       "</style>\n",
       "<table border=\"1\" class=\"dataframe\">\n",
       "  <thead>\n",
       "    <tr style=\"text-align: right;\">\n",
       "      <th></th>\n",
       "      <th>acc_id</th>\n",
       "      <th>EF_model0</th>\n",
       "      <th>EF_model1</th>\n",
       "      <th>EF_model2</th>\n",
       "      <th>EF_model3</th>\n",
       "      <th>EF_model4</th>\n",
       "      <th>RF_model0</th>\n",
       "      <th>RF_model1</th>\n",
       "      <th>RF_model2</th>\n",
       "      <th>RF_model3</th>\n",
       "      <th>RF_model4</th>\n",
       "      <th>EF_PCA_model0</th>\n",
       "      <th>EF_PCA_model1</th>\n",
       "      <th>EF_PCA_model2</th>\n",
       "      <th>EF_PCA_model3</th>\n",
       "      <th>EF_PCA_model4</th>\n",
       "      <th>RF_PCA_model0</th>\n",
       "      <th>RF_PCA_model1</th>\n",
       "      <th>RF_PCA_model2</th>\n",
       "      <th>RF_PCA_model3</th>\n",
       "      <th>RF_PCA_model4</th>\n",
       "    </tr>\n",
       "  </thead>\n",
       "  <tbody>\n",
       "    <tr>\n",
       "      <th>0</th>\n",
       "      <td>6ac252acf5ce113d2eb251d62ee2713c269655be3f8bec...</td>\n",
       "      <td>retained</td>\n",
       "      <td>retained</td>\n",
       "      <td>retained</td>\n",
       "      <td>retained</td>\n",
       "      <td>retained</td>\n",
       "      <td>retained</td>\n",
       "      <td>retained</td>\n",
       "      <td>retained</td>\n",
       "      <td>retained</td>\n",
       "      <td>retained</td>\n",
       "      <td>retained</td>\n",
       "      <td>retained</td>\n",
       "      <td>retained</td>\n",
       "      <td>retained</td>\n",
       "      <td>retained</td>\n",
       "      <td>retained</td>\n",
       "      <td>retained</td>\n",
       "      <td>retained</td>\n",
       "      <td>retained</td>\n",
       "      <td>retained</td>\n",
       "    </tr>\n",
       "    <tr>\n",
       "      <th>1</th>\n",
       "      <td>be14d8ed6f435440d8b8e50b3997a30682a113458204e4...</td>\n",
       "      <td>2month</td>\n",
       "      <td>2month</td>\n",
       "      <td>2month</td>\n",
       "      <td>2month</td>\n",
       "      <td>2month</td>\n",
       "      <td>2month</td>\n",
       "      <td>2month</td>\n",
       "      <td>2month</td>\n",
       "      <td>2month</td>\n",
       "      <td>2month</td>\n",
       "      <td>2month</td>\n",
       "      <td>2month</td>\n",
       "      <td>2month</td>\n",
       "      <td>2month</td>\n",
       "      <td>2month</td>\n",
       "      <td>2month</td>\n",
       "      <td>2month</td>\n",
       "      <td>2month</td>\n",
       "      <td>2month</td>\n",
       "      <td>2month</td>\n",
       "    </tr>\n",
       "    <tr>\n",
       "      <th>2</th>\n",
       "      <td>911660b6ab8860b6d27fe2ff17d715938b33f261919bf1...</td>\n",
       "      <td>retained</td>\n",
       "      <td>retained</td>\n",
       "      <td>retained</td>\n",
       "      <td>retained</td>\n",
       "      <td>retained</td>\n",
       "      <td>retained</td>\n",
       "      <td>retained</td>\n",
       "      <td>retained</td>\n",
       "      <td>retained</td>\n",
       "      <td>retained</td>\n",
       "      <td>retained</td>\n",
       "      <td>retained</td>\n",
       "      <td>retained</td>\n",
       "      <td>retained</td>\n",
       "      <td>retained</td>\n",
       "      <td>retained</td>\n",
       "      <td>retained</td>\n",
       "      <td>retained</td>\n",
       "      <td>retained</td>\n",
       "      <td>retained</td>\n",
       "    </tr>\n",
       "    <tr>\n",
       "      <th>3</th>\n",
       "      <td>9f8fefd8917c0406b108e95cb578d46ea9b360e39200e9...</td>\n",
       "      <td>week</td>\n",
       "      <td>week</td>\n",
       "      <td>week</td>\n",
       "      <td>week</td>\n",
       "      <td>week</td>\n",
       "      <td>week</td>\n",
       "      <td>week</td>\n",
       "      <td>week</td>\n",
       "      <td>week</td>\n",
       "      <td>week</td>\n",
       "      <td>week</td>\n",
       "      <td>week</td>\n",
       "      <td>week</td>\n",
       "      <td>week</td>\n",
       "      <td>week</td>\n",
       "      <td>week</td>\n",
       "      <td>week</td>\n",
       "      <td>week</td>\n",
       "      <td>week</td>\n",
       "      <td>week</td>\n",
       "    </tr>\n",
       "    <tr>\n",
       "      <th>4</th>\n",
       "      <td>6a3f52c863e97184ee8487c34b59c364e8427724aa29b8...</td>\n",
       "      <td>retained</td>\n",
       "      <td>retained</td>\n",
       "      <td>retained</td>\n",
       "      <td>retained</td>\n",
       "      <td>retained</td>\n",
       "      <td>retained</td>\n",
       "      <td>retained</td>\n",
       "      <td>retained</td>\n",
       "      <td>retained</td>\n",
       "      <td>retained</td>\n",
       "      <td>retained</td>\n",
       "      <td>retained</td>\n",
       "      <td>retained</td>\n",
       "      <td>retained</td>\n",
       "      <td>retained</td>\n",
       "      <td>retained</td>\n",
       "      <td>retained</td>\n",
       "      <td>retained</td>\n",
       "      <td>retained</td>\n",
       "      <td>retained</td>\n",
       "    </tr>\n",
       "  </tbody>\n",
       "</table>\n",
       "</div>"
      ],
      "text/plain": [
       "                                              acc_id EF_model0 EF_model1  \\\n",
       "0  6ac252acf5ce113d2eb251d62ee2713c269655be3f8bec...  retained  retained   \n",
       "1  be14d8ed6f435440d8b8e50b3997a30682a113458204e4...    2month    2month   \n",
       "2  911660b6ab8860b6d27fe2ff17d715938b33f261919bf1...  retained  retained   \n",
       "3  9f8fefd8917c0406b108e95cb578d46ea9b360e39200e9...      week      week   \n",
       "4  6a3f52c863e97184ee8487c34b59c364e8427724aa29b8...  retained  retained   \n",
       "\n",
       "  EF_model2 EF_model3 EF_model4 RF_model0 RF_model1 RF_model2 RF_model3  \\\n",
       "0  retained  retained  retained  retained  retained  retained  retained   \n",
       "1    2month    2month    2month    2month    2month    2month    2month   \n",
       "2  retained  retained  retained  retained  retained  retained  retained   \n",
       "3      week      week      week      week      week      week      week   \n",
       "4  retained  retained  retained  retained  retained  retained  retained   \n",
       "\n",
       "  RF_model4 EF_PCA_model0 EF_PCA_model1 EF_PCA_model2 EF_PCA_model3  \\\n",
       "0  retained      retained      retained      retained      retained   \n",
       "1    2month        2month        2month        2month        2month   \n",
       "2  retained      retained      retained      retained      retained   \n",
       "3      week          week          week          week          week   \n",
       "4  retained      retained      retained      retained      retained   \n",
       "\n",
       "  EF_PCA_model4 RF_PCA_model0 RF_PCA_model1 RF_PCA_model2 RF_PCA_model3  \\\n",
       "0      retained      retained      retained      retained      retained   \n",
       "1        2month        2month        2month        2month        2month   \n",
       "2      retained      retained      retained      retained      retained   \n",
       "3          week          week          week          week          week   \n",
       "4      retained      retained      retained      retained      retained   \n",
       "\n",
       "  RF_PCA_model4  \n",
       "0      retained  \n",
       "1        2month  \n",
       "2      retained  \n",
       "3          week  \n",
       "4      retained  "
      ]
     },
     "execution_count": 3,
     "metadata": {},
     "output_type": "execute_result"
    }
   ],
   "source": [
    "DF.head()"
   ]
  },
  {
   "cell_type": "code",
   "execution_count": 5,
   "metadata": {},
   "outputs": [],
   "source": [
    "lst = []\n",
    "for i in range(DF.shape[0]):\n",
    "    lst.append([DF.loc[i,name] for name in DF.columns.tolist()[1:]])\n",
    "DF['lst'] = lst"
   ]
  },
  {
   "cell_type": "code",
   "execution_count": 7,
   "metadata": {
    "scrolled": true
   },
   "outputs": [],
   "source": [
    "lst = []\n",
    "for i in range(DF.shape[0]):\n",
    "    lst.append(pd.value_counts(DF.loc[i,'lst']).index[0])\n",
    "DF['mode_1'] = lst"
   ]
  },
  {
   "cell_type": "code",
   "execution_count": 10,
   "metadata": {},
   "outputs": [],
   "source": [
    "lst = []\n",
    "for i in range(DF.shape[0]):\n",
    "    lst.append(pd.value_counts(DF.loc[i,'lst'])[0])\n",
    "DF['max_num_1'] = lst"
   ]
  },
  {
   "cell_type": "code",
   "execution_count": 24,
   "metadata": {
    "scrolled": true
   },
   "outputs": [],
   "source": [
    "result = DF[['acc_id', 'mode_1']]\n",
    "result.columns = ['acc_id', 'label']"
   ]
  },
  {
   "cell_type": "code",
   "execution_count": 25,
   "metadata": {},
   "outputs": [],
   "source": [
    "result.to_csv('last_result.csv', encoding = False, index = False)"
   ]
  },
  {
   "cell_type": "code",
   "execution_count": 23,
   "metadata": {
    "scrolled": true
   },
   "outputs": [],
   "source": [
    "lst = []\n",
    "for i in range(X.shape[0]):\n",
    "    if (X.loc[i,'max_num'] != 1):\n",
    "        lst.append(X.loc[i,'mode'])\n",
    "    else:\n",
    "        idx = X.loc[i,'Random']\n",
    "        lst.append(X.loc[i,'lst'][idx])"
   ]
  },
  {
   "cell_type": "code",
   "execution_count": 24,
   "metadata": {},
   "outputs": [],
   "source": [
    "X['Result'] = lst"
   ]
  },
  {
   "cell_type": "code",
   "execution_count": 34,
   "metadata": {
    "scrolled": true
   },
   "outputs": [],
   "source": [
    "RESULT = X[['acc_id', 'Result']]\n",
    "RESULT.columns = ['acc_id', 'label']\n",
    "RESULT.to_csv('result0901_ensemble.csv', encoding = False, index = False)"
   ]
  },
  {
   "cell_type": "code",
   "execution_count": 10,
   "metadata": {},
   "outputs": [],
   "source": [
    "temp = X['LSTM']"
   ]
  },
  {
   "cell_type": "code",
   "execution_count": 19,
   "metadata": {},
   "outputs": [],
   "source": [
    "lst = ['retained','retained','week']"
   ]
  },
  {
   "cell_type": "code",
   "execution_count": 20,
   "metadata": {},
   "outputs": [],
   "source": [
    "lst = np.array(lst)"
   ]
  },
  {
   "cell_type": "code",
   "execution_count": 22,
   "metadata": {},
   "outputs": [
    {
     "name": "stderr",
     "output_type": "stream",
     "text": [
      "C:\\ProgramData\\Anaconda3\\envs\\venv\\lib\\site-packages\\scipy\\stats\\stats.py:245: RuntimeWarning: The input array could not be properly checked for nan values. nan values will be ignored.\n",
      "  \"values. nan values will be ignored.\", RuntimeWarning)\n"
     ]
    },
    {
     "data": {
      "text/plain": [
       "ModeResult(mode=array(['retained'], dtype='<U8'), count=array([2]))"
      ]
     },
     "execution_count": 22,
     "metadata": {},
     "output_type": "execute_result"
    }
   ],
   "source": [
    "stats.mode(lst)"
   ]
  },
  {
   "cell_type": "code",
   "execution_count": 29,
   "metadata": {},
   "outputs": [
    {
     "data": {
      "text/plain": [
       "'retained'"
      ]
     },
     "execution_count": 29,
     "metadata": {},
     "output_type": "execute_result"
    }
   ],
   "source": [
    "pd.value_counts(lst).index[0]"
   ]
  },
  {
   "cell_type": "code",
   "execution_count": null,
   "metadata": {},
   "outputs": [],
   "source": []
  }
 ],
 "metadata": {
  "kernelspec": {
   "display_name": "Python 3",
   "language": "python",
   "name": "python3"
  },
  "language_info": {
   "codemirror_mode": {
    "name": "ipython",
    "version": 3
   },
   "file_extension": ".py",
   "mimetype": "text/x-python",
   "name": "python",
   "nbconvert_exporter": "python",
   "pygments_lexer": "ipython3",
   "version": "3.6.5"
  }
 },
 "nbformat": 4,
 "nbformat_minor": 2
}
