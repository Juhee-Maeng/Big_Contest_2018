{
 "cells": [
  {
   "cell_type": "code",
   "execution_count": 1,
   "metadata": {},
   "outputs": [],
   "source": [
    "import pandas as pd\n",
    "import numpy as np\n",
    "\n",
    "from sklearn.model_selection import train_test_split\n",
    "from sklearn.model_selection import KFold\n",
    "from sklearn.decomposition import PCA\n",
    "\n",
    "from sklearn.svm import SVC\n",
    "from sklearn.ensemble import RandomForestClassifier\n",
    "from sklearn.ensemble import ExtraTreesClassifier\n",
    "from sklearn.linear_model import LogisticRegression\n",
    "from sklearn.metrics import f1_score\n",
    "\n",
    "pd.options.display.max_columns = 410"
   ]
  },
  {
   "cell_type": "code",
   "execution_count": 2,
   "metadata": {},
   "outputs": [],
   "source": [
    "# Load Data\n",
    "TRAIN_META = pd.read_csv('data/train_meta.csv')\n",
    "TEST_META = pd.read_csv('data/test_meta.csv')\n",
    "TRAIN_META = TRAIN_META[['acc_id', 'label', 'Model1', 'Model2', 'Model3', 'Model4','Model0', 'Model6', 'Model7', 'Model8', 'Model9']]\n",
    "TEST_META = TEST_META[['acc_id', 'label', 'Model1', 'Model2', 'Model3', 'Model4','Model0', 'Model6', 'Model7', 'Model8', 'Model9']]"
   ]
  },
  {
   "cell_type": "code",
   "execution_count": 3,
   "metadata": {
    "scrolled": true
   },
   "outputs": [],
   "source": [
    "# Preprocessing train dataset\n",
    "TRAIN_META = pd.concat([TRAIN_META['label'], pd.get_dummies(TRAIN_META.iloc[:,2:])], axis = 1)\n",
    "TRAIN_META['NUM_2month'] = (TRAIN_META['Model1_2month'] + TRAIN_META['Model2_2month'] + \n",
    "                            TRAIN_META['Model3_2month'] + TRAIN_META['Model4_2month'] + TRAIN_META['Model0_2month'] +\n",
    "                            TRAIN_META['Model6_2month'] + TRAIN_META['Model7_2month'] + TRAIN_META['Model8_2month'] + TRAIN_META['Model9_2month'])\n",
    "TRAIN_META['NUM_month'] = (TRAIN_META['Model1_month'] + TRAIN_META['Model2_month'] + \n",
    "                           TRAIN_META['Model3_month'] + TRAIN_META['Model4_month'] + TRAIN_META['Model0_month'] +\n",
    "                           TRAIN_META['Model6_month'] + TRAIN_META['Model7_month'] + TRAIN_META['Model8_month']+ TRAIN_META['Model9_month'])\n",
    "TRAIN_META['NUM_week'] = (TRAIN_META['Model1_week'] + TRAIN_META['Model2_week'] + \n",
    "                          TRAIN_META['Model3_week'] + TRAIN_META['Model4_week'] + TRAIN_META['Model0_week'] +\n",
    "                          TRAIN_META['Model6_week'] + TRAIN_META['Model7_week'] + TRAIN_META['Model8_week']+ TRAIN_META['Model9_week'])\n",
    "TRAIN_META['NUM_retained'] = (TRAIN_META['Model1_retained'] + TRAIN_META['Model2_retained'] + \n",
    "                              TRAIN_META['Model3_retained'] + TRAIN_META['Model4_retained'] + TRAIN_META['Model0_retained'] +\n",
    "                              TRAIN_META['Model6_retained'] + TRAIN_META['Model7_retained'] + TRAIN_META['Model8_retained']+ TRAIN_META['Model9_retained'])\n",
    "\n",
    "# Preprocessing test dataset\n",
    "TEST_META = pd.concat([TEST_META['label'], pd.get_dummies(TEST_META.iloc[:,2:])], axis = 1)\n",
    "TEST_META['NUM_2month'] = (TEST_META['Model1_2month'] + TEST_META['Model2_2month'] + \n",
    "                           TEST_META['Model3_2month'] + TEST_META['Model4_2month'] + TEST_META['Model0_2month'] + \n",
    "                           TEST_META['Model6_2month'] + TEST_META['Model7_2month'] + TEST_META['Model8_2month'] + TEST_META['Model9_2month'])\n",
    "TEST_META['NUM_month'] = (TEST_META['Model1_month'] + TEST_META['Model2_month'] + \n",
    "                          TEST_META['Model3_month'] + TEST_META['Model4_month'] + TEST_META['Model0_month'] + \n",
    "                          TEST_META['Model6_month'] + TEST_META['Model7_month'] + TEST_META['Model8_month'] + TEST_META['Model9_month'])\n",
    "TEST_META['NUM_week'] = (TEST_META['Model1_week'] + TEST_META['Model2_week'] + \n",
    "                         TEST_META['Model3_week'] + TEST_META['Model4_week'] + TEST_META['Model0_week'] + \n",
    "                         TEST_META['Model6_week'] + TEST_META['Model7_week'] + TEST_META['Model8_week'] + TEST_META['Model9_week'])\n",
    "TEST_META['NUM_retained'] = (TEST_META['Model1_retained'] + TEST_META['Model2_retained'] + \n",
    "                             TEST_META['Model3_retained'] + TEST_META['Model4_retained'] + TEST_META['Model0_retained'] + \n",
    "                             TEST_META['Model6_retained'] + TEST_META['Model7_retained'] + TEST_META['Model8_retained'] + TEST_META['Model9_retained'])"
   ]
  },
  {
   "cell_type": "code",
   "execution_count": 4,
   "metadata": {},
   "outputs": [],
   "source": [
    "TRAIN_META.to_csv('train_meta_0913_Model012346789.csv', index = False, encoding = False)\n",
    "TEST_META.to_csv('test_meta_0913_Model012346789.csv', index = False, encoding = False)"
   ]
  },
  {
   "cell_type": "code",
   "execution_count": 6,
   "metadata": {},
   "outputs": [],
   "source": [
    "# Construct train dataset\n",
    "X = TRAIN_META.drop('label', axis = 1).values\n",
    "y = TRAIN_META['label'].values\n",
    "\n",
    "# Construct test dataset\n",
    "X_test = TEST_META.drop('label', axis = 1).values\n",
    "\n",
    "# kfold\n",
    "kf = KFold(n_splits = 5, shuffle = True, random_state = 1)"
   ]
  },
  {
   "cell_type": "code",
   "execution_count": 14,
   "metadata": {},
   "outputs": [
    {
     "name": "stdout",
     "output_type": "stream",
     "text": [
      "1 fold f1:  0.7480963114904821\n",
      "2 fold f1:  0.7379374853822063\n",
      "3 fold f1:  0.7469902268798856\n",
      "4 fold f1:  0.7431889564252019\n",
      "5 fold f1:  0.7377909881644487\n",
      "average f1 :  0.7428007936684449\n",
      "std f1 :  0.0043472853285064445\n"
     ]
    }
   ],
   "source": [
    "model = RandomForestClassifier(n_estimators = 150, random_state = 1)\n",
    "accuracy = []\n",
    "count = 1\n",
    "for train_index, test_index in kf.split(X):\n",
    "    X_train, X_val, y_train, y_val = X[train_index], X[test_index], y[train_index], y[test_index]\n",
    "    model.fit(X_train, y_train)\n",
    "    f1 = f1_score(y_val, model.predict(X_val), average = 'macro')\n",
    "    print(count,\"fold f1: \", f1)\n",
    "    accuracy.append(f1)\n",
    "    count += 1\n",
    "print(\"average f1 : \", np.array(accuracy).mean())\n",
    "print(\"std f1 : \", np.array(accuracy).std())"
   ]
  },
  {
   "cell_type": "code",
   "execution_count": 15,
   "metadata": {},
   "outputs": [
    {
     "name": "stdout",
     "output_type": "stream",
     "text": [
      "1 fold f1:  0.7483468513534726\n",
      "2 fold f1:  0.7382675007056373\n",
      "3 fold f1:  0.7459765728938573\n",
      "4 fold f1:  0.7433139402550101\n",
      "5 fold f1:  0.737683085974391\n",
      "average f1 :  0.7427175902364735\n",
      "std f1 :  0.004190816436602282\n"
     ]
    }
   ],
   "source": [
    "model = RandomForestClassifier(n_estimators = 200, random_state = 1)\n",
    "accuracy = []\n",
    "count = 1\n",
    "for train_index, test_index in kf.split(X):\n",
    "    X_train, X_val, y_train, y_val = X[train_index], X[test_index], y[train_index], y[test_index]\n",
    "    model.fit(X_train, y_train)\n",
    "    f1 = f1_score(y_val, model.predict(X_val), average = 'macro')\n",
    "    print(count,\"fold f1: \", f1)\n",
    "    accuracy.append(f1)\n",
    "    count += 1\n",
    "print(\"average f1 : \", np.array(accuracy).mean())\n",
    "print(\"std f1 : \", np.array(accuracy).std())"
   ]
  },
  {
   "cell_type": "code",
   "execution_count": 16,
   "metadata": {},
   "outputs": [
    {
     "name": "stdout",
     "output_type": "stream",
     "text": [
      "1 fold f1:  0.7487909972087493\n",
      "2 fold f1:  0.7375526323638883\n",
      "3 fold f1:  0.7462219588619399\n",
      "4 fold f1:  0.7429301543002561\n",
      "5 fold f1:  0.738311682001129\n",
      "average f1 :  0.7427614849471925\n",
      "std f1 :  0.004365575303919608\n"
     ]
    }
   ],
   "source": [
    "model = ExtraTreesClassifier(n_estimators = 150, random_state = 1)\n",
    "accuracy = []\n",
    "count = 1\n",
    "for train_index, test_index in kf.split(X):\n",
    "    X_train, X_val, y_train, y_val = X[train_index], X[test_index], y[train_index], y[test_index]\n",
    "    model.fit(X_train, y_train)\n",
    "    f1 = f1_score(y_val, model.predict(X_val), average = 'macro')\n",
    "    print(count,\"fold f1: \", f1)\n",
    "    accuracy.append(f1)\n",
    "    count += 1\n",
    "print(\"average f1 : \", np.array(accuracy).mean())\n",
    "print(\"std f1 : \", np.array(accuracy).std())"
   ]
  },
  {
   "cell_type": "code",
   "execution_count": 7,
   "metadata": {},
   "outputs": [
    {
     "name": "stdout",
     "output_type": "stream",
     "text": [
      "1 fold f1:  0.7516823477288617\n"
     ]
    },
    {
     "ename": "KeyboardInterrupt",
     "evalue": "",
     "output_type": "error",
     "traceback": [
      "\u001b[1;31m---------------------------------------------------------------------------\u001b[0m",
      "\u001b[1;31mKeyboardInterrupt\u001b[0m                         Traceback (most recent call last)",
      "\u001b[1;32m<ipython-input-7-169cf5dfc0d8>\u001b[0m in \u001b[0;36m<module>\u001b[1;34m()\u001b[0m\n\u001b[0;32m      4\u001b[0m \u001b[1;32mfor\u001b[0m \u001b[0mtrain_index\u001b[0m\u001b[1;33m,\u001b[0m \u001b[0mtest_index\u001b[0m \u001b[1;32min\u001b[0m \u001b[0mkf\u001b[0m\u001b[1;33m.\u001b[0m\u001b[0msplit\u001b[0m\u001b[1;33m(\u001b[0m\u001b[0mX\u001b[0m\u001b[1;33m)\u001b[0m\u001b[1;33m:\u001b[0m\u001b[1;33m\u001b[0m\u001b[0m\n\u001b[0;32m      5\u001b[0m     \u001b[0mX_train\u001b[0m\u001b[1;33m,\u001b[0m \u001b[0mX_val\u001b[0m\u001b[1;33m,\u001b[0m \u001b[0my_train\u001b[0m\u001b[1;33m,\u001b[0m \u001b[0my_val\u001b[0m \u001b[1;33m=\u001b[0m \u001b[0mX\u001b[0m\u001b[1;33m[\u001b[0m\u001b[0mtrain_index\u001b[0m\u001b[1;33m]\u001b[0m\u001b[1;33m,\u001b[0m \u001b[0mX\u001b[0m\u001b[1;33m[\u001b[0m\u001b[0mtest_index\u001b[0m\u001b[1;33m]\u001b[0m\u001b[1;33m,\u001b[0m \u001b[0my\u001b[0m\u001b[1;33m[\u001b[0m\u001b[0mtrain_index\u001b[0m\u001b[1;33m]\u001b[0m\u001b[1;33m,\u001b[0m \u001b[0my\u001b[0m\u001b[1;33m[\u001b[0m\u001b[0mtest_index\u001b[0m\u001b[1;33m]\u001b[0m\u001b[1;33m\u001b[0m\u001b[0m\n\u001b[1;32m----> 6\u001b[1;33m     \u001b[0mmodel\u001b[0m\u001b[1;33m.\u001b[0m\u001b[0mfit\u001b[0m\u001b[1;33m(\u001b[0m\u001b[0mX_train\u001b[0m\u001b[1;33m,\u001b[0m \u001b[0my_train\u001b[0m\u001b[1;33m)\u001b[0m\u001b[1;33m\u001b[0m\u001b[0m\n\u001b[0m\u001b[0;32m      7\u001b[0m     \u001b[0mf1\u001b[0m \u001b[1;33m=\u001b[0m \u001b[0mf1_score\u001b[0m\u001b[1;33m(\u001b[0m\u001b[0my_val\u001b[0m\u001b[1;33m,\u001b[0m \u001b[0mmodel\u001b[0m\u001b[1;33m.\u001b[0m\u001b[0mpredict\u001b[0m\u001b[1;33m(\u001b[0m\u001b[0mX_val\u001b[0m\u001b[1;33m)\u001b[0m\u001b[1;33m,\u001b[0m \u001b[0maverage\u001b[0m \u001b[1;33m=\u001b[0m \u001b[1;34m'macro'\u001b[0m\u001b[1;33m)\u001b[0m\u001b[1;33m\u001b[0m\u001b[0m\n\u001b[0;32m      8\u001b[0m     \u001b[0mprint\u001b[0m\u001b[1;33m(\u001b[0m\u001b[0mcount\u001b[0m\u001b[1;33m,\u001b[0m\u001b[1;34m\"fold f1: \"\u001b[0m\u001b[1;33m,\u001b[0m \u001b[0mf1\u001b[0m\u001b[1;33m)\u001b[0m\u001b[1;33m\u001b[0m\u001b[0m\n",
      "\u001b[1;32mC:\\ProgramData\\Anaconda3\\envs\\venv\\lib\\site-packages\\sklearn\\svm\\base.py\u001b[0m in \u001b[0;36mfit\u001b[1;34m(self, X, y, sample_weight)\u001b[0m\n\u001b[0;32m    185\u001b[0m \u001b[1;33m\u001b[0m\u001b[0m\n\u001b[0;32m    186\u001b[0m         \u001b[0mseed\u001b[0m \u001b[1;33m=\u001b[0m \u001b[0mrnd\u001b[0m\u001b[1;33m.\u001b[0m\u001b[0mrandint\u001b[0m\u001b[1;33m(\u001b[0m\u001b[0mnp\u001b[0m\u001b[1;33m.\u001b[0m\u001b[0miinfo\u001b[0m\u001b[1;33m(\u001b[0m\u001b[1;34m'i'\u001b[0m\u001b[1;33m)\u001b[0m\u001b[1;33m.\u001b[0m\u001b[0mmax\u001b[0m\u001b[1;33m)\u001b[0m\u001b[1;33m\u001b[0m\u001b[0m\n\u001b[1;32m--> 187\u001b[1;33m         \u001b[0mfit\u001b[0m\u001b[1;33m(\u001b[0m\u001b[0mX\u001b[0m\u001b[1;33m,\u001b[0m \u001b[0my\u001b[0m\u001b[1;33m,\u001b[0m \u001b[0msample_weight\u001b[0m\u001b[1;33m,\u001b[0m \u001b[0msolver_type\u001b[0m\u001b[1;33m,\u001b[0m \u001b[0mkernel\u001b[0m\u001b[1;33m,\u001b[0m \u001b[0mrandom_seed\u001b[0m\u001b[1;33m=\u001b[0m\u001b[0mseed\u001b[0m\u001b[1;33m)\u001b[0m\u001b[1;33m\u001b[0m\u001b[0m\n\u001b[0m\u001b[0;32m    188\u001b[0m         \u001b[1;31m# see comment on the other call to np.iinfo in this file\u001b[0m\u001b[1;33m\u001b[0m\u001b[1;33m\u001b[0m\u001b[0m\n\u001b[0;32m    189\u001b[0m \u001b[1;33m\u001b[0m\u001b[0m\n",
      "\u001b[1;32mC:\\ProgramData\\Anaconda3\\envs\\venv\\lib\\site-packages\\sklearn\\svm\\base.py\u001b[0m in \u001b[0;36m_dense_fit\u001b[1;34m(self, X, y, sample_weight, solver_type, kernel, random_seed)\u001b[0m\n\u001b[0;32m    252\u001b[0m                 \u001b[0mcache_size\u001b[0m\u001b[1;33m=\u001b[0m\u001b[0mself\u001b[0m\u001b[1;33m.\u001b[0m\u001b[0mcache_size\u001b[0m\u001b[1;33m,\u001b[0m \u001b[0mcoef0\u001b[0m\u001b[1;33m=\u001b[0m\u001b[0mself\u001b[0m\u001b[1;33m.\u001b[0m\u001b[0mcoef0\u001b[0m\u001b[1;33m,\u001b[0m\u001b[1;33m\u001b[0m\u001b[0m\n\u001b[0;32m    253\u001b[0m                 \u001b[0mgamma\u001b[0m\u001b[1;33m=\u001b[0m\u001b[0mself\u001b[0m\u001b[1;33m.\u001b[0m\u001b[0m_gamma\u001b[0m\u001b[1;33m,\u001b[0m \u001b[0mepsilon\u001b[0m\u001b[1;33m=\u001b[0m\u001b[0mself\u001b[0m\u001b[1;33m.\u001b[0m\u001b[0mepsilon\u001b[0m\u001b[1;33m,\u001b[0m\u001b[1;33m\u001b[0m\u001b[0m\n\u001b[1;32m--> 254\u001b[1;33m                 max_iter=self.max_iter, random_seed=random_seed)\n\u001b[0m\u001b[0;32m    255\u001b[0m \u001b[1;33m\u001b[0m\u001b[0m\n\u001b[0;32m    256\u001b[0m         \u001b[0mself\u001b[0m\u001b[1;33m.\u001b[0m\u001b[0m_warn_from_fit_status\u001b[0m\u001b[1;33m(\u001b[0m\u001b[1;33m)\u001b[0m\u001b[1;33m\u001b[0m\u001b[0m\n",
      "\u001b[1;31mKeyboardInterrupt\u001b[0m: "
     ]
    }
   ],
   "source": [
    "model = SVC()\n",
    "accuracy = []\n",
    "count = 1\n",
    "for train_index, test_index in kf.split(X):\n",
    "    X_train, X_val, y_train, y_val = X[train_index], X[test_index], y[train_index], y[test_index]\n",
    "    model.fit(X_train, y_train)\n",
    "    f1 = f1_score(y_val, model.predict(X_val), average = 'macro')\n",
    "    print(count,\"fold f1: \", f1)\n",
    "    accuracy.append(f1)\n",
    "    count += 1\n",
    "print(\"average f1 : \", np.array(accuracy).mean())\n",
    "print(\"std f1 : \", np.array(accuracy).std())"
   ]
  },
  {
   "cell_type": "code",
   "execution_count": null,
   "metadata": {},
   "outputs": [],
   "source": []
  }
 ],
 "metadata": {
  "kernelspec": {
   "display_name": "Python 3",
   "language": "python",
   "name": "python3"
  },
  "language_info": {
   "codemirror_mode": {
    "name": "ipython",
    "version": 3
   },
   "file_extension": ".py",
   "mimetype": "text/x-python",
   "name": "python",
   "nbconvert_exporter": "python",
   "pygments_lexer": "ipython3",
   "version": "3.6.5"
  }
 },
 "nbformat": 4,
 "nbformat_minor": 2
}
