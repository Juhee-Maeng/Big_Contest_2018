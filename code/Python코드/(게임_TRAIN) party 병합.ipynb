{
 "cells": [
  {
   "cell_type": "markdown",
   "metadata": {},
   "source": [
    "# train_party 데이터와 train_label 데이터 병합\n",
    "# 순서\n",
    "## 1. [Importing Packages 및 Loading Data](#1)\n",
    "## 2. [파티 멤버 각각을 행으로 분리](#2)\n",
    "## 3. [id별로 파티 시간 합치기 - groupby](#3)\n",
    "## 4. [train_label 데이터와 병합 - merge](#4)"
   ]
  },
  {
   "cell_type": "markdown",
   "metadata": {},
   "source": [
    "## 1. Importing Packages 및 Loading Data<a name = 1></a>"
   ]
  },
  {
   "cell_type": "code",
   "execution_count": 1,
   "metadata": {},
   "outputs": [],
   "source": [
    "import pandas as pd\n",
    "import numpy as np\n",
    "from datetime import datetime"
   ]
  },
  {
   "cell_type": "code",
   "execution_count": 2,
   "metadata": {},
   "outputs": [],
   "source": [
    "path = 'data/final_data_rev/train/'\n",
    "DF_temp = pd.read_csv(path+'party_temp2.csv')\n",
    "DF_label = pd.read_csv(path+'train_label.csv')"
   ]
  },
  {
   "cell_type": "code",
   "execution_count": 3,
   "metadata": {},
   "outputs": [
    {
     "data": {
      "text/html": [
       "<div>\n",
       "<style scoped>\n",
       "    .dataframe tbody tr th:only-of-type {\n",
       "        vertical-align: middle;\n",
       "    }\n",
       "\n",
       "    .dataframe tbody tr th {\n",
       "        vertical-align: top;\n",
       "    }\n",
       "\n",
       "    .dataframe thead th {\n",
       "        text-align: right;\n",
       "    }\n",
       "</style>\n",
       "<table border=\"1\" class=\"dataframe\">\n",
       "  <thead>\n",
       "    <tr style=\"text-align: right;\">\n",
       "      <th></th>\n",
       "      <th>party_start_week</th>\n",
       "      <th>party_end_week</th>\n",
       "      <th>hashed</th>\n",
       "      <th>minutes</th>\n",
       "    </tr>\n",
       "  </thead>\n",
       "  <tbody>\n",
       "    <tr>\n",
       "      <th>0</th>\n",
       "      <td>1</td>\n",
       "      <td>1</td>\n",
       "      <td>11fc85879e5ac9d5c83bfba10d73c4c84c154b9f4d9e1d...</td>\n",
       "      <td>26.527367</td>\n",
       "    </tr>\n",
       "    <tr>\n",
       "      <th>1</th>\n",
       "      <td>3</td>\n",
       "      <td>3</td>\n",
       "      <td>7176c1516207692857535c30a4650b8e8e586af1fed0fd...</td>\n",
       "      <td>122.622317</td>\n",
       "    </tr>\n",
       "    <tr>\n",
       "      <th>2</th>\n",
       "      <td>3</td>\n",
       "      <td>3</td>\n",
       "      <td>8092e194a750aae539862ed4405f67a6dd5b492e7e57e3...</td>\n",
       "      <td>10.250083</td>\n",
       "    </tr>\n",
       "    <tr>\n",
       "      <th>3</th>\n",
       "      <td>4</td>\n",
       "      <td>4</td>\n",
       "      <td>4ec597c569b92bd0e1bae4e2a06e13b9657fb81795e194...</td>\n",
       "      <td>25.637600</td>\n",
       "    </tr>\n",
       "    <tr>\n",
       "      <th>4</th>\n",
       "      <td>4</td>\n",
       "      <td>4</td>\n",
       "      <td>a4b6aea6cb58e43911e7cb7d6c0497197db7c4ed16e1c9...</td>\n",
       "      <td>21.563700</td>\n",
       "    </tr>\n",
       "  </tbody>\n",
       "</table>\n",
       "</div>"
      ],
      "text/plain": [
       "   party_start_week  party_end_week  \\\n",
       "0                 1               1   \n",
       "1                 3               3   \n",
       "2                 3               3   \n",
       "3                 4               4   \n",
       "4                 4               4   \n",
       "\n",
       "                                              hashed     minutes  \n",
       "0  11fc85879e5ac9d5c83bfba10d73c4c84c154b9f4d9e1d...   26.527367  \n",
       "1  7176c1516207692857535c30a4650b8e8e586af1fed0fd...  122.622317  \n",
       "2  8092e194a750aae539862ed4405f67a6dd5b492e7e57e3...   10.250083  \n",
       "3  4ec597c569b92bd0e1bae4e2a06e13b9657fb81795e194...   25.637600  \n",
       "4  a4b6aea6cb58e43911e7cb7d6c0497197db7c4ed16e1c9...   21.563700  "
      ]
     },
     "execution_count": 3,
     "metadata": {},
     "output_type": "execute_result"
    }
   ],
   "source": [
    "DF_temp.head()"
   ]
  },
  {
   "cell_type": "markdown",
   "metadata": {},
   "source": [
    "## 2. 파티 멤버 각각을 행으로 분리<a name=2></a>\n",
    "아래 함수는 github의 재야의 숨은 고수가 만들어놓은 함수입니다. 코드를 이해하려고 노력했으나, 쉽지 않네요.<br/>\n",
    "혹시나 아래 함수 코드를 이해하신 분은 저에게도 설명을 해주시면 감사하겠습니다!!"
   ]
  },
  {
   "cell_type": "code",
   "execution_count": 4,
   "metadata": {},
   "outputs": [],
   "source": [
    "def splitDataFrameList(df,target_column,separator):\n",
    "    ''' df = dataframe to split,\n",
    "    target_column = the column containing the values to split\n",
    "    separator = the symbol used to perform the split\n",
    "    returns: a dataframe with each entry for the target column separated, with each element moved into a new row. \n",
    "    The values in the other columns are duplicated across the newly divided rows.\n",
    "    '''\n",
    "    def splitListToRows(row,row_accumulator,target_column,separator):\n",
    "        split_row = row[target_column].split(separator)\n",
    "        for s in split_row:\n",
    "            new_row = row.to_dict()\n",
    "            new_row[target_column] = s\n",
    "            row_accumulator.append(new_row)\n",
    "    new_rows = []\n",
    "    df.apply(splitListToRows,axis=1,args = (new_rows,target_column,separator))\n",
    "    new_df = pd.DataFrame(new_rows)\n",
    "    return new_df"
   ]
  },
  {
   "cell_type": "code",
   "execution_count": 5,
   "metadata": {},
   "outputs": [
    {
     "name": "stdout",
     "output_type": "stream",
     "text": [
      "run time :  0:27:38.259916\n",
      "Data shape :  (34284282, 4)\n"
     ]
    },
    {
     "data": {
      "text/html": [
       "<div>\n",
       "<style scoped>\n",
       "    .dataframe tbody tr th:only-of-type {\n",
       "        vertical-align: middle;\n",
       "    }\n",
       "\n",
       "    .dataframe tbody tr th {\n",
       "        vertical-align: top;\n",
       "    }\n",
       "\n",
       "    .dataframe thead th {\n",
       "        text-align: right;\n",
       "    }\n",
       "</style>\n",
       "<table border=\"1\" class=\"dataframe\">\n",
       "  <thead>\n",
       "    <tr style=\"text-align: right;\">\n",
       "      <th></th>\n",
       "      <th>hashed</th>\n",
       "      <th>minutes</th>\n",
       "      <th>party_end_week</th>\n",
       "      <th>party_start_week</th>\n",
       "    </tr>\n",
       "  </thead>\n",
       "  <tbody>\n",
       "    <tr>\n",
       "      <th>0</th>\n",
       "      <td>11fc85879e5ac9d5c83bfba10d73c4c84c154b9f4d9e1d...</td>\n",
       "      <td>26.527367</td>\n",
       "      <td>1</td>\n",
       "      <td>1</td>\n",
       "    </tr>\n",
       "    <tr>\n",
       "      <th>1</th>\n",
       "      <td>cbe1b3a37225ef716a739d504fc13e45466487976546d5...</td>\n",
       "      <td>26.527367</td>\n",
       "      <td>1</td>\n",
       "      <td>1</td>\n",
       "    </tr>\n",
       "    <tr>\n",
       "      <th>2</th>\n",
       "      <td>9537dfd85f3afe656d736e9950118548d493b05f66c524...</td>\n",
       "      <td>26.527367</td>\n",
       "      <td>1</td>\n",
       "      <td>1</td>\n",
       "    </tr>\n",
       "    <tr>\n",
       "      <th>3</th>\n",
       "      <td>b08d19ef636db20720d8456ba6457a215a35dae9450e82...</td>\n",
       "      <td>26.527367</td>\n",
       "      <td>1</td>\n",
       "      <td>1</td>\n",
       "    </tr>\n",
       "    <tr>\n",
       "      <th>4</th>\n",
       "      <td>114c3f7736f37824cdacdac7f288054b21c526470c2ea7...</td>\n",
       "      <td>26.527367</td>\n",
       "      <td>1</td>\n",
       "      <td>1</td>\n",
       "    </tr>\n",
       "    <tr>\n",
       "      <th>5</th>\n",
       "      <td>831fc4830fc0da35a5c505e5ae7665f0c1cfa5b3df28e9...</td>\n",
       "      <td>26.527367</td>\n",
       "      <td>1</td>\n",
       "      <td>1</td>\n",
       "    </tr>\n",
       "    <tr>\n",
       "      <th>6</th>\n",
       "      <td>7176c1516207692857535c30a4650b8e8e586af1fed0fd...</td>\n",
       "      <td>122.622317</td>\n",
       "      <td>3</td>\n",
       "      <td>3</td>\n",
       "    </tr>\n",
       "    <tr>\n",
       "      <th>7</th>\n",
       "      <td>2209514bcb9b8408d678cb6e7393eafec86bea2531e4eb...</td>\n",
       "      <td>122.622317</td>\n",
       "      <td>3</td>\n",
       "      <td>3</td>\n",
       "    </tr>\n",
       "    <tr>\n",
       "      <th>8</th>\n",
       "      <td>fa1958e7846690088273f7f55c04bdbee9715ff2d3c085...</td>\n",
       "      <td>122.622317</td>\n",
       "      <td>3</td>\n",
       "      <td>3</td>\n",
       "    </tr>\n",
       "    <tr>\n",
       "      <th>9</th>\n",
       "      <td>e2f97c5cb6a71a627eb4590856d47bfb0f80c68ca76429...</td>\n",
       "      <td>122.622317</td>\n",
       "      <td>3</td>\n",
       "      <td>3</td>\n",
       "    </tr>\n",
       "  </tbody>\n",
       "</table>\n",
       "</div>"
      ],
      "text/plain": [
       "                                              hashed     minutes  \\\n",
       "0  11fc85879e5ac9d5c83bfba10d73c4c84c154b9f4d9e1d...   26.527367   \n",
       "1  cbe1b3a37225ef716a739d504fc13e45466487976546d5...   26.527367   \n",
       "2  9537dfd85f3afe656d736e9950118548d493b05f66c524...   26.527367   \n",
       "3  b08d19ef636db20720d8456ba6457a215a35dae9450e82...   26.527367   \n",
       "4  114c3f7736f37824cdacdac7f288054b21c526470c2ea7...   26.527367   \n",
       "5  831fc4830fc0da35a5c505e5ae7665f0c1cfa5b3df28e9...   26.527367   \n",
       "6  7176c1516207692857535c30a4650b8e8e586af1fed0fd...  122.622317   \n",
       "7  2209514bcb9b8408d678cb6e7393eafec86bea2531e4eb...  122.622317   \n",
       "8  fa1958e7846690088273f7f55c04bdbee9715ff2d3c085...  122.622317   \n",
       "9  e2f97c5cb6a71a627eb4590856d47bfb0f80c68ca76429...  122.622317   \n",
       "\n",
       "   party_end_week  party_start_week  \n",
       "0               1                 1  \n",
       "1               1                 1  \n",
       "2               1                 1  \n",
       "3               1                 1  \n",
       "4               1                 1  \n",
       "5               1                 1  \n",
       "6               3                 3  \n",
       "7               3                 3  \n",
       "8               3                 3  \n",
       "9               3                 3  "
      ]
     },
     "execution_count": 5,
     "metadata": {},
     "output_type": "execute_result"
    }
   ],
   "source": [
    "start = datetime.now()\n",
    "new_df = splitDataFrameList(DF_temp, 'hashed', ',')\n",
    "print(\"run time : \",datetime.now()-start)\n",
    "print(\"Data shape : \",new_df.shape)\n",
    "new_df.head(10)"
   ]
  },
  {
   "cell_type": "markdown",
   "metadata": {},
   "source": [
    "파티 구성원을 1열로 나열하니 34,559,610개나 되네요 ...<br/>\n",
    "datetime.now()를 사용해서 코드의 run time을 확인할 수 있습니다.<br/>\n",
    "혹시 모르니깐 결과가 맞는지 맨 마지막 2개 파티로 확인해보겠습니다."
   ]
  },
  {
   "cell_type": "code",
   "execution_count": 6,
   "metadata": {},
   "outputs": [
    {
     "data": {
      "text/html": [
       "<div>\n",
       "<style scoped>\n",
       "    .dataframe tbody tr th:only-of-type {\n",
       "        vertical-align: middle;\n",
       "    }\n",
       "\n",
       "    .dataframe tbody tr th {\n",
       "        vertical-align: top;\n",
       "    }\n",
       "\n",
       "    .dataframe thead th {\n",
       "        text-align: right;\n",
       "    }\n",
       "</style>\n",
       "<table border=\"1\" class=\"dataframe\">\n",
       "  <thead>\n",
       "    <tr style=\"text-align: right;\">\n",
       "      <th></th>\n",
       "      <th>party_start_week</th>\n",
       "      <th>party_end_week</th>\n",
       "      <th>hashed</th>\n",
       "      <th>minutes</th>\n",
       "    </tr>\n",
       "  </thead>\n",
       "  <tbody>\n",
       "    <tr>\n",
       "      <th>6962339</th>\n",
       "      <td>7</td>\n",
       "      <td>7</td>\n",
       "      <td>02181a0c962f34f019bc9d5b582fb0ec79b1441f96aa4d...</td>\n",
       "      <td>3.96700</td>\n",
       "    </tr>\n",
       "    <tr>\n",
       "      <th>6962340</th>\n",
       "      <td>6</td>\n",
       "      <td>6</td>\n",
       "      <td>967393e81d99ce8e577ee130b7ce8e4fd45e3e9cecb560...</td>\n",
       "      <td>3.50345</td>\n",
       "    </tr>\n",
       "  </tbody>\n",
       "</table>\n",
       "</div>"
      ],
      "text/plain": [
       "         party_start_week  party_end_week  \\\n",
       "6962339                 7               7   \n",
       "6962340                 6               6   \n",
       "\n",
       "                                                    hashed  minutes  \n",
       "6962339  02181a0c962f34f019bc9d5b582fb0ec79b1441f96aa4d...  3.96700  \n",
       "6962340  967393e81d99ce8e577ee130b7ce8e4fd45e3e9cecb560...  3.50345  "
      ]
     },
     "metadata": {},
     "output_type": "display_data"
    },
    {
     "data": {
      "text/plain": [
       "6"
      ]
     },
     "metadata": {},
     "output_type": "display_data"
    },
    {
     "data": {
      "text/plain": [
       "7"
      ]
     },
     "metadata": {},
     "output_type": "display_data"
    },
    {
     "data": {
      "text/html": [
       "<div>\n",
       "<style scoped>\n",
       "    .dataframe tbody tr th:only-of-type {\n",
       "        vertical-align: middle;\n",
       "    }\n",
       "\n",
       "    .dataframe tbody tr th {\n",
       "        vertical-align: top;\n",
       "    }\n",
       "\n",
       "    .dataframe thead th {\n",
       "        text-align: right;\n",
       "    }\n",
       "</style>\n",
       "<table border=\"1\" class=\"dataframe\">\n",
       "  <thead>\n",
       "    <tr style=\"text-align: right;\">\n",
       "      <th></th>\n",
       "      <th>hashed</th>\n",
       "      <th>minutes</th>\n",
       "      <th>party_end_week</th>\n",
       "      <th>party_start_week</th>\n",
       "    </tr>\n",
       "  </thead>\n",
       "  <tbody>\n",
       "    <tr>\n",
       "      <th>34284273</th>\n",
       "      <td>8657cb79d60cf11c28a786b6ff515d3eaf1a16ff7279a3...</td>\n",
       "      <td>0.45840</td>\n",
       "      <td>7</td>\n",
       "      <td>7</td>\n",
       "    </tr>\n",
       "    <tr>\n",
       "      <th>34284274</th>\n",
       "      <td>02181a0c962f34f019bc9d5b582fb0ec79b1441f96aa4d...</td>\n",
       "      <td>3.96700</td>\n",
       "      <td>7</td>\n",
       "      <td>7</td>\n",
       "    </tr>\n",
       "    <tr>\n",
       "      <th>34284275</th>\n",
       "      <td>769f00750d87fa59f8b6083aae62fb394e165101796fe5...</td>\n",
       "      <td>3.96700</td>\n",
       "      <td>7</td>\n",
       "      <td>7</td>\n",
       "    </tr>\n",
       "    <tr>\n",
       "      <th>34284276</th>\n",
       "      <td>3893d4da8854ada5484099d8017c1504d62d98cf11fb2a...</td>\n",
       "      <td>3.96700</td>\n",
       "      <td>7</td>\n",
       "      <td>7</td>\n",
       "    </tr>\n",
       "    <tr>\n",
       "      <th>34284277</th>\n",
       "      <td>039f09f2d5c1206d51c9299a774fe2041db91dcf60b487...</td>\n",
       "      <td>3.96700</td>\n",
       "      <td>7</td>\n",
       "      <td>7</td>\n",
       "    </tr>\n",
       "    <tr>\n",
       "      <th>34284278</th>\n",
       "      <td>2a8053c8632f8116fa8a8319709d73c09f3cf409d56afb...</td>\n",
       "      <td>3.96700</td>\n",
       "      <td>7</td>\n",
       "      <td>7</td>\n",
       "    </tr>\n",
       "    <tr>\n",
       "      <th>34284279</th>\n",
       "      <td>967393e81d99ce8e577ee130b7ce8e4fd45e3e9cecb560...</td>\n",
       "      <td>3.50345</td>\n",
       "      <td>6</td>\n",
       "      <td>6</td>\n",
       "    </tr>\n",
       "    <tr>\n",
       "      <th>34284280</th>\n",
       "      <td>a0b6ecbec654b18fe36ebe6230e25a653fb12125733583...</td>\n",
       "      <td>3.50345</td>\n",
       "      <td>6</td>\n",
       "      <td>6</td>\n",
       "    </tr>\n",
       "    <tr>\n",
       "      <th>34284281</th>\n",
       "      <td>3193ab18168bcadbcb8342c06c4a35fa0d6e58d9619fe8...</td>\n",
       "      <td>3.50345</td>\n",
       "      <td>6</td>\n",
       "      <td>6</td>\n",
       "    </tr>\n",
       "  </tbody>\n",
       "</table>\n",
       "</div>"
      ],
      "text/plain": [
       "                                                     hashed  minutes  \\\n",
       "34284273  8657cb79d60cf11c28a786b6ff515d3eaf1a16ff7279a3...  0.45840   \n",
       "34284274  02181a0c962f34f019bc9d5b582fb0ec79b1441f96aa4d...  3.96700   \n",
       "34284275  769f00750d87fa59f8b6083aae62fb394e165101796fe5...  3.96700   \n",
       "34284276  3893d4da8854ada5484099d8017c1504d62d98cf11fb2a...  3.96700   \n",
       "34284277  039f09f2d5c1206d51c9299a774fe2041db91dcf60b487...  3.96700   \n",
       "34284278  2a8053c8632f8116fa8a8319709d73c09f3cf409d56afb...  3.96700   \n",
       "34284279  967393e81d99ce8e577ee130b7ce8e4fd45e3e9cecb560...  3.50345   \n",
       "34284280  a0b6ecbec654b18fe36ebe6230e25a653fb12125733583...  3.50345   \n",
       "34284281  3193ab18168bcadbcb8342c06c4a35fa0d6e58d9619fe8...  3.50345   \n",
       "\n",
       "          party_end_week  party_start_week  \n",
       "34284273               7                 7  \n",
       "34284274               7                 7  \n",
       "34284275               7                 7  \n",
       "34284276               7                 7  \n",
       "34284277               7                 7  \n",
       "34284278               7                 7  \n",
       "34284279               6                 6  \n",
       "34284280               6                 6  \n",
       "34284281               6                 6  "
      ]
     },
     "execution_count": 6,
     "metadata": {},
     "output_type": "execute_result"
    }
   ],
   "source": [
    "display(DF_temp.tail(2))\n",
    "display(DF_temp.iloc[-1,0])\n",
    "display(DF_temp.iloc[-2,0])\n",
    "new_df.tail(9)"
   ]
  },
  {
   "cell_type": "markdown",
   "metadata": {},
   "source": [
    "아주 잘 맞습니다! 다음 단계로 넘어갑시다!"
   ]
  },
  {
   "cell_type": "code",
   "execution_count": 7,
   "metadata": {},
   "outputs": [
    {
     "data": {
      "text/html": [
       "<div>\n",
       "<style scoped>\n",
       "    .dataframe tbody tr th:only-of-type {\n",
       "        vertical-align: middle;\n",
       "    }\n",
       "\n",
       "    .dataframe tbody tr th {\n",
       "        vertical-align: top;\n",
       "    }\n",
       "\n",
       "    .dataframe thead th {\n",
       "        text-align: right;\n",
       "    }\n",
       "</style>\n",
       "<table border=\"1\" class=\"dataframe\">\n",
       "  <thead>\n",
       "    <tr style=\"text-align: right;\">\n",
       "      <th></th>\n",
       "      <th>hashed</th>\n",
       "      <th>minutes</th>\n",
       "      <th>party_end_week</th>\n",
       "      <th>party_start_week</th>\n",
       "    </tr>\n",
       "  </thead>\n",
       "  <tbody>\n",
       "    <tr>\n",
       "      <th>0</th>\n",
       "      <td>000020b4fa2af1e40c813436e5054bce70b703d0039dcd...</td>\n",
       "      <td>4104.470133</td>\n",
       "      <td>50</td>\n",
       "      <td>48</td>\n",
       "    </tr>\n",
       "    <tr>\n",
       "      <th>1</th>\n",
       "      <td>000291b3c6e9c6012afed9dd99bbc834082622667fe3b7...</td>\n",
       "      <td>8369.737217</td>\n",
       "      <td>12</td>\n",
       "      <td>11</td>\n",
       "    </tr>\n",
       "    <tr>\n",
       "      <th>2</th>\n",
       "      <td>0002cb165b57f8ab2bea2e387a3bebcd1ee57b44229150...</td>\n",
       "      <td>5177.057167</td>\n",
       "      <td>55</td>\n",
       "      <td>54</td>\n",
       "    </tr>\n",
       "    <tr>\n",
       "      <th>3</th>\n",
       "      <td>00036e5b6a197c196fa10fc0ad4e2853b22294dff64d27...</td>\n",
       "      <td>159.565000</td>\n",
       "      <td>14</td>\n",
       "      <td>14</td>\n",
       "    </tr>\n",
       "    <tr>\n",
       "      <th>4</th>\n",
       "      <td>00038d64fb50e6967fa4488c077614ba9509ed0869f0ad...</td>\n",
       "      <td>3334.939967</td>\n",
       "      <td>2</td>\n",
       "      <td>2</td>\n",
       "    </tr>\n",
       "    <tr>\n",
       "      <th>5</th>\n",
       "      <td>0003b127aa1c0c34490db8817574482464aad9f99cffde...</td>\n",
       "      <td>174.979467</td>\n",
       "      <td>7</td>\n",
       "      <td>7</td>\n",
       "    </tr>\n",
       "    <tr>\n",
       "      <th>6</th>\n",
       "      <td>000572abb83d1eb94235085bc9400a8ead0afb42d5e952...</td>\n",
       "      <td>12651.321067</td>\n",
       "      <td>4</td>\n",
       "      <td>2</td>\n",
       "    </tr>\n",
       "    <tr>\n",
       "      <th>7</th>\n",
       "      <td>00062d723bff3fcefb50370a299af303ecbadf6dfba59b...</td>\n",
       "      <td>302.640283</td>\n",
       "      <td>15</td>\n",
       "      <td>15</td>\n",
       "    </tr>\n",
       "    <tr>\n",
       "      <th>8</th>\n",
       "      <td>0006502148dc2533ef4ac4b9939ee19f18483a7c3c7256...</td>\n",
       "      <td>321.728967</td>\n",
       "      <td>143</td>\n",
       "      <td>143</td>\n",
       "    </tr>\n",
       "    <tr>\n",
       "      <th>9</th>\n",
       "      <td>0008f58eaf2c598838dd8cf5e3ab598025f1381abdfdd7...</td>\n",
       "      <td>338.517033</td>\n",
       "      <td>14</td>\n",
       "      <td>14</td>\n",
       "    </tr>\n",
       "  </tbody>\n",
       "</table>\n",
       "</div>"
      ],
      "text/plain": [
       "                                              hashed       minutes  \\\n",
       "0  000020b4fa2af1e40c813436e5054bce70b703d0039dcd...   4104.470133   \n",
       "1  000291b3c6e9c6012afed9dd99bbc834082622667fe3b7...   8369.737217   \n",
       "2  0002cb165b57f8ab2bea2e387a3bebcd1ee57b44229150...   5177.057167   \n",
       "3  00036e5b6a197c196fa10fc0ad4e2853b22294dff64d27...    159.565000   \n",
       "4  00038d64fb50e6967fa4488c077614ba9509ed0869f0ad...   3334.939967   \n",
       "5  0003b127aa1c0c34490db8817574482464aad9f99cffde...    174.979467   \n",
       "6  000572abb83d1eb94235085bc9400a8ead0afb42d5e952...  12651.321067   \n",
       "7  00062d723bff3fcefb50370a299af303ecbadf6dfba59b...    302.640283   \n",
       "8  0006502148dc2533ef4ac4b9939ee19f18483a7c3c7256...    321.728967   \n",
       "9  0008f58eaf2c598838dd8cf5e3ab598025f1381abdfdd7...    338.517033   \n",
       "\n",
       "   party_end_week  party_start_week  \n",
       "0              50                48  \n",
       "1              12                11  \n",
       "2              55                54  \n",
       "3              14                14  \n",
       "4               2                 2  \n",
       "5               7                 7  \n",
       "6               4                 2  \n",
       "7              15                15  \n",
       "8             143               143  \n",
       "9              14                14  "
      ]
     },
     "execution_count": 7,
     "metadata": {},
     "output_type": "execute_result"
    }
   ],
   "source": [
    "### 2차 전처리 추가 코드입니다.(2018.08.03)\n",
    "week = 1\n",
    "\n",
    "DF_week = new_df[new_df['party_start_week'] == week]\n",
    "DF_week_groupby = DF_week.groupby('hashed').agg('sum')\n",
    "DF_week_groupby = DF_week_groupby.reset_index()\n",
    "\n",
    "DF_week_groupby = DF_week_groupby.drop(['party_end_week', 'party_start_week'], axis = 1)\n",
    "DF_week_groupby.columns = ['acc_id', str(week)+'_party_time']\n",
    "\n",
    "DF_merge = pd.merge(left = DF_label, right = DF_week_groupby, how='left', on='acc_id')"
   ]
  },
  {
   "cell_type": "code",
   "execution_count": 27,
   "metadata": {},
   "outputs": [],
   "source": [
    "### 2차 전처리 추가 코드입니다.(2018.08.03)\n",
    "week = 2\n",
    "\n",
    "DF_week = new_df[new_df['party_start_week'] == week]\n",
    "DF_week_groupby = DF_week.groupby('hashed').agg('sum')\n",
    "DF_week_groupby = DF_week_groupby.reset_index()\n",
    "\n",
    "DF_week_groupby = DF_week_groupby.drop(['party_end_week', 'party_start_week'], axis = 1)\n",
    "DF_week_groupby.columns = ['acc_id', str(week)+'_party_time']\n",
    "\n",
    "DF_merge = pd.merge(left = DF_merge, right = DF_week_groupby, how='left', on='acc_id')"
   ]
  },
  {
   "cell_type": "code",
   "execution_count": 28,
   "metadata": {},
   "outputs": [],
   "source": [
    "### 2차 전처리 추가 코드입니다.(2018.08.03)\n",
    "week = 3\n",
    "\n",
    "DF_week = new_df[new_df['party_start_week'] == week]\n",
    "DF_week_groupby = DF_week.groupby('hashed').agg('sum')\n",
    "DF_week_groupby = DF_week_groupby.reset_index()\n",
    "\n",
    "DF_week_groupby = DF_week_groupby.drop(['party_end_week', 'party_start_week'], axis = 1)\n",
    "DF_week_groupby.columns = ['acc_id', str(week)+'_party_time']\n",
    "\n",
    "DF_merge = pd.merge(left = DF_merge, right = DF_week_groupby, how='left', on='acc_id')"
   ]
  },
  {
   "cell_type": "code",
   "execution_count": 29,
   "metadata": {},
   "outputs": [],
   "source": [
    "### 2차 전처리 추가 코드입니다.(2018.08.03)\n",
    "week = 4\n",
    "\n",
    "DF_week = new_df[new_df['party_start_week'] == week]\n",
    "DF_week_groupby = DF_week.groupby('hashed').agg('sum')\n",
    "DF_week_groupby = DF_week_groupby.reset_index()\n",
    "\n",
    "DF_week_groupby = DF_week_groupby.drop(['party_end_week', 'party_start_week'], axis = 1)\n",
    "DF_week_groupby.columns = ['acc_id', str(week)+'_party_time']\n",
    "\n",
    "DF_merge = pd.merge(left = DF_merge, right = DF_week_groupby, how='left', on='acc_id')"
   ]
  },
  {
   "cell_type": "code",
   "execution_count": 30,
   "metadata": {},
   "outputs": [],
   "source": [
    "### 2차 전처리 추가 코드입니다.(2018.08.03)\n",
    "week = 5\n",
    "\n",
    "DF_week = new_df[new_df['party_start_week'] == week]\n",
    "DF_week_groupby = DF_week.groupby('hashed').agg('sum')\n",
    "DF_week_groupby = DF_week_groupby.reset_index()\n",
    "\n",
    "DF_week_groupby = DF_week_groupby.drop(['party_end_week', 'party_start_week'], axis = 1)\n",
    "DF_week_groupby.columns = ['acc_id', str(week)+'_party_time']\n",
    "\n",
    "DF_merge = pd.merge(left = DF_merge, right = DF_week_groupby, how='left', on='acc_id')"
   ]
  },
  {
   "cell_type": "code",
   "execution_count": 31,
   "metadata": {},
   "outputs": [],
   "source": [
    "### 2차 전처리 추가 코드입니다.(2018.08.03)\n",
    "week = 6\n",
    "\n",
    "DF_week = new_df[new_df['party_start_week'] == week]\n",
    "DF_week_groupby = DF_week.groupby('hashed').agg('sum')\n",
    "DF_week_groupby = DF_week_groupby.reset_index()\n",
    "\n",
    "DF_week_groupby = DF_week_groupby.drop(['party_end_week', 'party_start_week'], axis = 1)\n",
    "DF_week_groupby.columns = ['acc_id', str(week)+'_party_time']\n",
    "\n",
    "DF_merge = pd.merge(left = DF_merge, right = DF_week_groupby, how='left', on='acc_id')"
   ]
  },
  {
   "cell_type": "code",
   "execution_count": 32,
   "metadata": {},
   "outputs": [],
   "source": [
    "### 2차 전처리 추가 코드입니다.(2018.08.03)\n",
    "week = 7\n",
    "\n",
    "DF_week = new_df[new_df['party_start_week'] == week]\n",
    "DF_week_groupby = DF_week.groupby('hashed').agg('sum')\n",
    "DF_week_groupby = DF_week_groupby.reset_index()\n",
    "\n",
    "DF_week_groupby = DF_week_groupby.drop(['party_end_week', 'party_start_week'], axis = 1)\n",
    "DF_week_groupby.columns = ['acc_id', str(week)+'_party_time']\n",
    "\n",
    "DF_merge = pd.merge(left = DF_merge, right = DF_week_groupby, how='left', on='acc_id')"
   ]
  },
  {
   "cell_type": "code",
   "execution_count": 33,
   "metadata": {},
   "outputs": [],
   "source": [
    "### 2차 전처리 추가 코드입니다.(2018.08.03)\n",
    "week = 8\n",
    "\n",
    "DF_week = new_df[new_df['party_start_week'] == week]\n",
    "DF_week_groupby = DF_week.groupby('hashed').agg('sum')\n",
    "DF_week_groupby = DF_week_groupby.reset_index()\n",
    "\n",
    "DF_week_groupby = DF_week_groupby.drop(['party_end_week', 'party_start_week'], axis = 1)\n",
    "DF_week_groupby.columns = ['acc_id', str(week)+'_party_time']\n",
    "\n",
    "DF_merge = pd.merge(left = DF_merge, right = DF_week_groupby, how='left', on='acc_id')"
   ]
  },
  {
   "cell_type": "code",
   "execution_count": 35,
   "metadata": {},
   "outputs": [],
   "source": [
    "DF_merge.to_csv(path+'DF_train.csv', encoding=False, index=False)"
   ]
  },
  {
   "cell_type": "markdown",
   "metadata": {},
   "source": [
    "## 3. id별로 파티 시간 합치기 - groupby<a name =3></a>"
   ]
  },
  {
   "cell_type": "code",
   "execution_count": 7,
   "metadata": {},
   "outputs": [
    {
     "name": "stdout",
     "output_type": "stream",
     "text": [
      "0:01:06.555333\n",
      "Data shape :  (268148, 2)\n"
     ]
    },
    {
     "data": {
      "text/html": [
       "<div>\n",
       "<style scoped>\n",
       "    .dataframe tbody tr th:only-of-type {\n",
       "        vertical-align: middle;\n",
       "    }\n",
       "\n",
       "    .dataframe tbody tr th {\n",
       "        vertical-align: top;\n",
       "    }\n",
       "\n",
       "    .dataframe thead th {\n",
       "        text-align: right;\n",
       "    }\n",
       "</style>\n",
       "<table border=\"1\" class=\"dataframe\">\n",
       "  <thead>\n",
       "    <tr style=\"text-align: right;\">\n",
       "      <th></th>\n",
       "      <th>acc_id</th>\n",
       "      <th>total_party_time</th>\n",
       "    </tr>\n",
       "  </thead>\n",
       "  <tbody>\n",
       "    <tr>\n",
       "      <th>0</th>\n",
       "      <td>000020b4fa2af1e40c813436e5054bce70b703d0039dcd...</td>\n",
       "      <td>56786.555050</td>\n",
       "    </tr>\n",
       "    <tr>\n",
       "      <th>1</th>\n",
       "      <td>0000264b01392acfde44f9d8494f112a701dc5d3e5fda6...</td>\n",
       "      <td>2514.369400</td>\n",
       "    </tr>\n",
       "    <tr>\n",
       "      <th>2</th>\n",
       "      <td>00006916672106f94f68d18e4a0532b53a40f4549d3a62...</td>\n",
       "      <td>33.826183</td>\n",
       "    </tr>\n",
       "    <tr>\n",
       "      <th>3</th>\n",
       "      <td>0000988c5778e9d6a861fee8fbfd88ec2fdc9108c1acd6...</td>\n",
       "      <td>620.352300</td>\n",
       "    </tr>\n",
       "    <tr>\n",
       "      <th>4</th>\n",
       "      <td>0000a2ff91f6891797708f346d8e3790fa75c1872d6fdc...</td>\n",
       "      <td>1011.070533</td>\n",
       "    </tr>\n",
       "  </tbody>\n",
       "</table>\n",
       "</div>"
      ],
      "text/plain": [
       "                                              acc_id  total_party_time\n",
       "0  000020b4fa2af1e40c813436e5054bce70b703d0039dcd...      56786.555050\n",
       "1  0000264b01392acfde44f9d8494f112a701dc5d3e5fda6...       2514.369400\n",
       "2  00006916672106f94f68d18e4a0532b53a40f4549d3a62...         33.826183\n",
       "3  0000988c5778e9d6a861fee8fbfd88ec2fdc9108c1acd6...        620.352300\n",
       "4  0000a2ff91f6891797708f346d8e3790fa75c1872d6fdc...       1011.070533"
      ]
     },
     "execution_count": 7,
     "metadata": {},
     "output_type": "execute_result"
    }
   ],
   "source": [
    "start = datetime.now()\n",
    "new_df_2 = new_df.groupby('hashed').agg('sum')\n",
    "new_df_2 = new_df_2.reset_index()\n",
    "new_df_2.columns = ['acc_id', 'total_party_time']\n",
    "print(datetime.now()-start)\n",
    "print(\"Data shape : \",new_df_2.shape)\n",
    "new_df_2.head()"
   ]
  },
  {
   "cell_type": "markdown",
   "metadata": {},
   "source": [
    "따로 설명이 필요 없다고 생각이 듭니다."
   ]
  },
  {
   "cell_type": "markdown",
   "metadata": {},
   "source": [
    "## 4. train_label 데이터와 병합 - merge<a name=4></a>"
   ]
  },
  {
   "cell_type": "code",
   "execution_count": 9,
   "metadata": {},
   "outputs": [
    {
     "name": "stdout",
     "output_type": "stream",
     "text": [
      "0:00:00.205476\n",
      "Data shape :  (100000, 3)\n"
     ]
    },
    {
     "data": {
      "text/html": [
       "<div>\n",
       "<style scoped>\n",
       "    .dataframe tbody tr th:only-of-type {\n",
       "        vertical-align: middle;\n",
       "    }\n",
       "\n",
       "    .dataframe tbody tr th {\n",
       "        vertical-align: top;\n",
       "    }\n",
       "\n",
       "    .dataframe thead th {\n",
       "        text-align: right;\n",
       "    }\n",
       "</style>\n",
       "<table border=\"1\" class=\"dataframe\">\n",
       "  <thead>\n",
       "    <tr style=\"text-align: right;\">\n",
       "      <th></th>\n",
       "      <th>acc_id</th>\n",
       "      <th>label</th>\n",
       "      <th>total_party_time</th>\n",
       "    </tr>\n",
       "  </thead>\n",
       "  <tbody>\n",
       "    <tr>\n",
       "      <th>0</th>\n",
       "      <td>b8fbf3f6a70e3f36843bffc70c18ff51a0d755a87616ec...</td>\n",
       "      <td>week</td>\n",
       "      <td>696.442867</td>\n",
       "    </tr>\n",
       "    <tr>\n",
       "      <th>1</th>\n",
       "      <td>ed500c4957956b3e99dc3985666850b582f812405eefb6...</td>\n",
       "      <td>week</td>\n",
       "      <td>2244.687433</td>\n",
       "    </tr>\n",
       "    <tr>\n",
       "      <th>2</th>\n",
       "      <td>acc6afa23a6bf15e18151e4794c7789225ef9d682f473c...</td>\n",
       "      <td>week</td>\n",
       "      <td>334.495633</td>\n",
       "    </tr>\n",
       "    <tr>\n",
       "      <th>3</th>\n",
       "      <td>34095a3c9a2937ced3ea3fd75e22ce177dc5879d2a53f7...</td>\n",
       "      <td>week</td>\n",
       "      <td>NaN</td>\n",
       "    </tr>\n",
       "    <tr>\n",
       "      <th>4</th>\n",
       "      <td>26f3db6e8817a93c4ceda9a16f0832945e43d950b95882...</td>\n",
       "      <td>week</td>\n",
       "      <td>625.470767</td>\n",
       "    </tr>\n",
       "  </tbody>\n",
       "</table>\n",
       "</div>"
      ],
      "text/plain": [
       "                                              acc_id label  total_party_time\n",
       "0  b8fbf3f6a70e3f36843bffc70c18ff51a0d755a87616ec...  week        696.442867\n",
       "1  ed500c4957956b3e99dc3985666850b582f812405eefb6...  week       2244.687433\n",
       "2  acc6afa23a6bf15e18151e4794c7789225ef9d682f473c...  week        334.495633\n",
       "3  34095a3c9a2937ced3ea3fd75e22ce177dc5879d2a53f7...  week               NaN\n",
       "4  26f3db6e8817a93c4ceda9a16f0832945e43d950b95882...  week        625.470767"
      ]
     },
     "execution_count": 9,
     "metadata": {},
     "output_type": "execute_result"
    }
   ],
   "source": [
    "start = datetime.now()\n",
    "\n",
    "DF_train = pd.merge(DF_label,new_df_2, how = 'left', on = 'acc_id')\n",
    "\n",
    "print(datetime.now()-start)\n",
    "print(\"Data shape : \",DF_train.shape)\n",
    "DF_train.head()"
   ]
  },
  {
   "cell_type": "markdown",
   "metadata": {},
   "source": [
    "0.24초 실화입니까??! 내가 짠 코드는 한 행에 34초. 총 34초 x 10,000행 = 340,000초 = 5,666분 = 94시간 = 3.9일이었는데 ....<br/>\n",
    "간단하게 NaN이 몇 개 있고, NaN은 파티를 안 한 것을 의미하니 0으로 채워넣도록 하겠습니다."
   ]
  },
  {
   "cell_type": "code",
   "execution_count": 10,
   "metadata": {},
   "outputs": [
    {
     "data": {
      "text/plain": [
       "acc_id                  0\n",
       "label                   0\n",
       "total_party_time    45642\n",
       "dtype: int64"
      ]
     },
     "execution_count": 10,
     "metadata": {},
     "output_type": "execute_result"
    }
   ],
   "source": [
    "DF_train.isnull().sum()"
   ]
  },
  {
   "cell_type": "code",
   "execution_count": 11,
   "metadata": {
    "scrolled": true
   },
   "outputs": [
    {
     "data": {
      "text/plain": [
       "acc_id              0\n",
       "label               0\n",
       "total_party_time    0\n",
       "dtype: int64"
      ]
     },
     "execution_count": 11,
     "metadata": {},
     "output_type": "execute_result"
    }
   ],
   "source": [
    "DF_train = DF_train.fillna(0)\n",
    "DF_train.isnull().sum()"
   ]
  },
  {
   "cell_type": "markdown",
   "metadata": {},
   "source": [
    "4,5627개나 있네요 .. 혹시 코드가 잘못된 것은 아닌지 걱정이 됩니다 .... <br/>\n",
    "토요일까지 남은 시간에 임의로 몇 개 뽑아서 확인 작업해야겠습니다.<br/>\n",
    "마지막으로 csv파일로 저장하겠습니다."
   ]
  },
  {
   "cell_type": "code",
   "execution_count": 12,
   "metadata": {},
   "outputs": [],
   "source": [
    "DF_train.to_csv(path+'train.csv', index = False, encoding = False)"
   ]
  },
  {
   "cell_type": "markdown",
   "metadata": {},
   "source": [
    "현 시점에서 걱정되는 2가지\n",
    "1. 파티 시간의 분산이 너무 크다. 분 단위를 시간 단위로 바꿔야하는가?\n",
    "2. 대충 데이터로 봤을 때, 큰 상관관계는 없어보인다."
   ]
  }
 ],
 "metadata": {
  "kernelspec": {
   "display_name": "Python 3",
   "language": "python",
   "name": "python3"
  },
  "language_info": {
   "codemirror_mode": {
    "name": "ipython",
    "version": 3
   },
   "file_extension": ".py",
   "mimetype": "text/x-python",
   "name": "python",
   "nbconvert_exporter": "python",
   "pygments_lexer": "ipython3",
   "version": "3.6.5"
  }
 },
 "nbformat": 4,
 "nbformat_minor": 2
}
