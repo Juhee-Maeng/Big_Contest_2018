{
 "cells": [
  {
   "cell_type": "markdown",
   "metadata": {},
   "source": [
    "# README\n",
    "작성일 : 2018년 09월 10일<br/>\n",
    "The Code for `train(0910).csv` and `test(0910).csv`<br/>\n",
    "0910 버전 데이터 설명<br/>\n",
    "`train_outlier.csv` : 기존의 400개 데이터에서 isolation forest를 통해 outliers를 확인하고, 이를 0과 1로 마킹한 열을 추가한 데이터.<br/>\n",
    "`train_outlier.csv`에 PCA를 실시하고 98%의 중요도를 갖는 열을 다시 추가한 데이터\n",
    "\n",
    "변경이력\n",
    "2018년 09월 10일 신규 작성"
   ]
  },
  {
   "cell_type": "code",
   "execution_count": 1,
   "metadata": {},
   "outputs": [],
   "source": [
    "import pandas as pd\n",
    "from sklearn.decomposition import PCA\n",
    "\n",
    "TRAIN = pd.read_csv('data/final_data_rev/train_outlier.csv')\n",
    "TEST = pd.read_csv('data/final_data_rev/test_outlier.csv')"
   ]
  },
  {
   "cell_type": "code",
   "execution_count": 3,
   "metadata": {},
   "outputs": [],
   "source": [
    "FULL = pd.concat([TRAIN, TEST], ignore_index=True)"
   ]
  },
  {
   "cell_type": "code",
   "execution_count": 6,
   "metadata": {},
   "outputs": [],
   "source": [
    "X = FULL.drop(['acc_id', 'label'],axis = 1)\n",
    "X = X.values\n",
    "\n",
    "pca = PCA(0.98)\n",
    "pca.fit(X)\n",
    "pca_result = pca.transform(X)\n",
    "\n",
    "FULL = pd.concat([FULL,pd.DataFrame(pca_result)], axis = 1)\n",
    "\n",
    "TRAIN = FULL.loc[0:99999,:]\n",
    "TEST = FULL.loc[100000:,]\n",
    "\n",
    "TRAIN.to_csv('data/train(0910).csv', index = False, encoding = False)\n",
    "TEST.to_csv('data/test(0910).csv', index = False, encoding = False)"
   ]
  }
 ],
 "metadata": {
  "kernelspec": {
   "display_name": "Python 3",
   "language": "python",
   "name": "python3"
  },
  "language_info": {
   "codemirror_mode": {
    "name": "ipython",
    "version": 3
   },
   "file_extension": ".py",
   "mimetype": "text/x-python",
   "name": "python",
   "nbconvert_exporter": "python",
   "pygments_lexer": "ipython3",
   "version": "3.6.5"
  }
 },
 "nbformat": 4,
 "nbformat_minor": 2
}
