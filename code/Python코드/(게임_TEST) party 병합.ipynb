{
 "cells": [
  {
   "cell_type": "markdown",
   "metadata": {},
   "source": [
    "# train_party 데이터와 train_label 데이터 병합\n",
    "# 순서\n",
    "## 1. [Importing Packages 및 Loading Data](#1)\n",
    "## 2. [파티 멤버 각각을 행으로 분리](#2)\n",
    "## 3. [id별로 파티 시간 합치기 - groupby](#3)\n",
    "## 4. [train_label 데이터와 병합 - merge](#4)"
   ]
  },
  {
   "cell_type": "markdown",
   "metadata": {},
   "source": [
    "## 1. Importing Packages 및 Loading Data<a name = 1></a>"
   ]
  },
  {
   "cell_type": "code",
   "execution_count": 1,
   "metadata": {},
   "outputs": [],
   "source": [
    "import pandas as pd\n",
    "import numpy as np\n",
    "from datetime import datetime"
   ]
  },
  {
   "cell_type": "code",
   "execution_count": 2,
   "metadata": {},
   "outputs": [],
   "source": [
    "path = 'data/final_data_rev/test/'\n",
    "DF_temp = pd.read_csv(path+'party_temp2.csv')\n",
    "DF_label = pd.read_csv(path+'test_label.csv')"
   ]
  },
  {
   "cell_type": "code",
   "execution_count": 3,
   "metadata": {},
   "outputs": [
    {
     "data": {
      "text/html": [
       "<div>\n",
       "<style scoped>\n",
       "    .dataframe tbody tr th:only-of-type {\n",
       "        vertical-align: middle;\n",
       "    }\n",
       "\n",
       "    .dataframe tbody tr th {\n",
       "        vertical-align: top;\n",
       "    }\n",
       "\n",
       "    .dataframe thead th {\n",
       "        text-align: right;\n",
       "    }\n",
       "</style>\n",
       "<table border=\"1\" class=\"dataframe\">\n",
       "  <thead>\n",
       "    <tr style=\"text-align: right;\">\n",
       "      <th></th>\n",
       "      <th>party_start_week</th>\n",
       "      <th>party_end_week</th>\n",
       "      <th>hashed</th>\n",
       "      <th>minutes</th>\n",
       "    </tr>\n",
       "  </thead>\n",
       "  <tbody>\n",
       "    <tr>\n",
       "      <th>0</th>\n",
       "      <td>1</td>\n",
       "      <td>1</td>\n",
       "      <td>633e2b44564d93ff278716bf31db234040287de8bfaab2...</td>\n",
       "      <td>29.455717</td>\n",
       "    </tr>\n",
       "    <tr>\n",
       "      <th>1</th>\n",
       "      <td>3</td>\n",
       "      <td>3</td>\n",
       "      <td>7176c1516207692857535c30a4650b8e8e586af1fed0fd...</td>\n",
       "      <td>122.622317</td>\n",
       "    </tr>\n",
       "    <tr>\n",
       "      <th>2</th>\n",
       "      <td>3</td>\n",
       "      <td>3</td>\n",
       "      <td>8092e194a750aae539862ed4405f67a6dd5b492e7e57e3...</td>\n",
       "      <td>10.250083</td>\n",
       "    </tr>\n",
       "    <tr>\n",
       "      <th>3</th>\n",
       "      <td>6</td>\n",
       "      <td>6</td>\n",
       "      <td>4b33f0b6969e591bb19d7ea939af5e45e08c6799ef18e7...</td>\n",
       "      <td>19.357067</td>\n",
       "    </tr>\n",
       "    <tr>\n",
       "      <th>4</th>\n",
       "      <td>6</td>\n",
       "      <td>6</td>\n",
       "      <td>a284744f3707f84daf525d5040191fda9a46db4c368fe6...</td>\n",
       "      <td>2.608117</td>\n",
       "    </tr>\n",
       "  </tbody>\n",
       "</table>\n",
       "</div>"
      ],
      "text/plain": [
       "   party_start_week  party_end_week  \\\n",
       "0                 1               1   \n",
       "1                 3               3   \n",
       "2                 3               3   \n",
       "3                 6               6   \n",
       "4                 6               6   \n",
       "\n",
       "                                              hashed     minutes  \n",
       "0  633e2b44564d93ff278716bf31db234040287de8bfaab2...   29.455717  \n",
       "1  7176c1516207692857535c30a4650b8e8e586af1fed0fd...  122.622317  \n",
       "2  8092e194a750aae539862ed4405f67a6dd5b492e7e57e3...   10.250083  \n",
       "3  4b33f0b6969e591bb19d7ea939af5e45e08c6799ef18e7...   19.357067  \n",
       "4  a284744f3707f84daf525d5040191fda9a46db4c368fe6...    2.608117  "
      ]
     },
     "execution_count": 3,
     "metadata": {},
     "output_type": "execute_result"
    }
   ],
   "source": [
    "DF_temp.head()"
   ]
  },
  {
   "cell_type": "markdown",
   "metadata": {},
   "source": [
    "## 2. 파티 멤버 각각을 행으로 분리<a name=2></a>\n",
    "아래 함수는 github의 재야의 숨은 고수가 만들어놓은 함수입니다. 코드를 이해하려고 노력했으나, 쉽지 않네요.<br/>\n",
    "혹시나 아래 함수 코드를 이해하신 분은 저에게도 설명을 해주시면 감사하겠습니다!!"
   ]
  },
  {
   "cell_type": "code",
   "execution_count": 4,
   "metadata": {},
   "outputs": [],
   "source": [
    "def splitDataFrameList(df,target_column,separator):\n",
    "    ''' df = dataframe to split,\n",
    "    target_column = the column containing the values to split\n",
    "    separator = the symbol used to perform the split\n",
    "    returns: a dataframe with each entry for the target column separated, with each element moved into a new row. \n",
    "    The values in the other columns are duplicated across the newly divided rows.\n",
    "    '''\n",
    "    def splitListToRows(row,row_accumulator,target_column,separator):\n",
    "        split_row = row[target_column].split(separator)\n",
    "        for s in split_row:\n",
    "            new_row = row.to_dict()\n",
    "            new_row[target_column] = s\n",
    "            row_accumulator.append(new_row)\n",
    "    new_rows = []\n",
    "    df.apply(splitListToRows,axis=1,args = (new_rows,target_column,separator))\n",
    "    new_df = pd.DataFrame(new_rows)\n",
    "    return new_df"
   ]
  },
  {
   "cell_type": "code",
   "execution_count": 5,
   "metadata": {},
   "outputs": [
    {
     "name": "stdout",
     "output_type": "stream",
     "text": [
      "run time :  0:10:13.793300\n",
      "Data shape :  (21849944, 4)\n"
     ]
    },
    {
     "data": {
      "text/html": [
       "<div>\n",
       "<style scoped>\n",
       "    .dataframe tbody tr th:only-of-type {\n",
       "        vertical-align: middle;\n",
       "    }\n",
       "\n",
       "    .dataframe tbody tr th {\n",
       "        vertical-align: top;\n",
       "    }\n",
       "\n",
       "    .dataframe thead th {\n",
       "        text-align: right;\n",
       "    }\n",
       "</style>\n",
       "<table border=\"1\" class=\"dataframe\">\n",
       "  <thead>\n",
       "    <tr style=\"text-align: right;\">\n",
       "      <th></th>\n",
       "      <th>hashed</th>\n",
       "      <th>minutes</th>\n",
       "      <th>party_end_week</th>\n",
       "      <th>party_start_week</th>\n",
       "    </tr>\n",
       "  </thead>\n",
       "  <tbody>\n",
       "    <tr>\n",
       "      <th>0</th>\n",
       "      <td>633e2b44564d93ff278716bf31db234040287de8bfaab2...</td>\n",
       "      <td>29.455717</td>\n",
       "      <td>1</td>\n",
       "      <td>1</td>\n",
       "    </tr>\n",
       "    <tr>\n",
       "      <th>1</th>\n",
       "      <td>2dec63faf79d9a03b66cf9c8b49019fff5521252510449...</td>\n",
       "      <td>29.455717</td>\n",
       "      <td>1</td>\n",
       "      <td>1</td>\n",
       "    </tr>\n",
       "    <tr>\n",
       "      <th>2</th>\n",
       "      <td>7176c1516207692857535c30a4650b8e8e586af1fed0fd...</td>\n",
       "      <td>122.622317</td>\n",
       "      <td>3</td>\n",
       "      <td>3</td>\n",
       "    </tr>\n",
       "    <tr>\n",
       "      <th>3</th>\n",
       "      <td>2209514bcb9b8408d678cb6e7393eafec86bea2531e4eb...</td>\n",
       "      <td>122.622317</td>\n",
       "      <td>3</td>\n",
       "      <td>3</td>\n",
       "    </tr>\n",
       "    <tr>\n",
       "      <th>4</th>\n",
       "      <td>fa1958e7846690088273f7f55c04bdbee9715ff2d3c085...</td>\n",
       "      <td>122.622317</td>\n",
       "      <td>3</td>\n",
       "      <td>3</td>\n",
       "    </tr>\n",
       "    <tr>\n",
       "      <th>5</th>\n",
       "      <td>e2f97c5cb6a71a627eb4590856d47bfb0f80c68ca76429...</td>\n",
       "      <td>122.622317</td>\n",
       "      <td>3</td>\n",
       "      <td>3</td>\n",
       "    </tr>\n",
       "    <tr>\n",
       "      <th>6</th>\n",
       "      <td>58425883f8bb54566f91d5a7fca19b4ec6925641337720...</td>\n",
       "      <td>122.622317</td>\n",
       "      <td>3</td>\n",
       "      <td>3</td>\n",
       "    </tr>\n",
       "    <tr>\n",
       "      <th>7</th>\n",
       "      <td>a97ef0bdc8c48dd18d4e67dce973eeffce0b7537960ede...</td>\n",
       "      <td>122.622317</td>\n",
       "      <td>3</td>\n",
       "      <td>3</td>\n",
       "    </tr>\n",
       "    <tr>\n",
       "      <th>8</th>\n",
       "      <td>8092e194a750aae539862ed4405f67a6dd5b492e7e57e3...</td>\n",
       "      <td>10.250083</td>\n",
       "      <td>3</td>\n",
       "      <td>3</td>\n",
       "    </tr>\n",
       "    <tr>\n",
       "      <th>9</th>\n",
       "      <td>7d73fbe4ddd9d6bde1cf0eeed79c46b9dbde62927f74d2...</td>\n",
       "      <td>10.250083</td>\n",
       "      <td>3</td>\n",
       "      <td>3</td>\n",
       "    </tr>\n",
       "  </tbody>\n",
       "</table>\n",
       "</div>"
      ],
      "text/plain": [
       "                                              hashed     minutes  \\\n",
       "0  633e2b44564d93ff278716bf31db234040287de8bfaab2...   29.455717   \n",
       "1  2dec63faf79d9a03b66cf9c8b49019fff5521252510449...   29.455717   \n",
       "2  7176c1516207692857535c30a4650b8e8e586af1fed0fd...  122.622317   \n",
       "3  2209514bcb9b8408d678cb6e7393eafec86bea2531e4eb...  122.622317   \n",
       "4  fa1958e7846690088273f7f55c04bdbee9715ff2d3c085...  122.622317   \n",
       "5  e2f97c5cb6a71a627eb4590856d47bfb0f80c68ca76429...  122.622317   \n",
       "6  58425883f8bb54566f91d5a7fca19b4ec6925641337720...  122.622317   \n",
       "7  a97ef0bdc8c48dd18d4e67dce973eeffce0b7537960ede...  122.622317   \n",
       "8  8092e194a750aae539862ed4405f67a6dd5b492e7e57e3...   10.250083   \n",
       "9  7d73fbe4ddd9d6bde1cf0eeed79c46b9dbde62927f74d2...   10.250083   \n",
       "\n",
       "   party_end_week  party_start_week  \n",
       "0               1                 1  \n",
       "1               1                 1  \n",
       "2               3                 3  \n",
       "3               3                 3  \n",
       "4               3                 3  \n",
       "5               3                 3  \n",
       "6               3                 3  \n",
       "7               3                 3  \n",
       "8               3                 3  \n",
       "9               3                 3  "
      ]
     },
     "execution_count": 5,
     "metadata": {},
     "output_type": "execute_result"
    }
   ],
   "source": [
    "start = datetime.now()\n",
    "new_df = splitDataFrameList(DF_temp, 'hashed', ',')\n",
    "print(\"run time : \",datetime.now()-start)\n",
    "print(\"Data shape : \",new_df.shape)\n",
    "new_df.head(10)"
   ]
  },
  {
   "cell_type": "markdown",
   "metadata": {},
   "source": [
    "파티 구성원을 1열로 나열하니 34,559,610개나 되네요 ...<br/>\n",
    "datetime.now()를 사용해서 코드의 run time을 확인할 수 있습니다.<br/>\n",
    "혹시 모르니깐 결과가 맞는지 맨 마지막 2개 파티로 확인해보겠습니다."
   ]
  },
  {
   "cell_type": "code",
   "execution_count": 16,
   "metadata": {},
   "outputs": [
    {
     "data": {
      "text/html": [
       "<div>\n",
       "<style scoped>\n",
       "    .dataframe tbody tr th:only-of-type {\n",
       "        vertical-align: middle;\n",
       "    }\n",
       "\n",
       "    .dataframe tbody tr th {\n",
       "        vertical-align: top;\n",
       "    }\n",
       "\n",
       "    .dataframe thead th {\n",
       "        text-align: right;\n",
       "    }\n",
       "</style>\n",
       "<table border=\"1\" class=\"dataframe\">\n",
       "  <thead>\n",
       "    <tr style=\"text-align: right;\">\n",
       "      <th></th>\n",
       "      <th>party_start_week</th>\n",
       "      <th>party_end_week</th>\n",
       "      <th>hashed</th>\n",
       "      <th>minutes</th>\n",
       "    </tr>\n",
       "  </thead>\n",
       "  <tbody>\n",
       "    <tr>\n",
       "      <th>4121510</th>\n",
       "      <td>7</td>\n",
       "      <td>7</td>\n",
       "      <td>02181a0c962f34f019bc9d5b582fb0ec79b1441f96aa4d...</td>\n",
       "      <td>3.96700</td>\n",
       "    </tr>\n",
       "    <tr>\n",
       "      <th>4121511</th>\n",
       "      <td>6</td>\n",
       "      <td>6</td>\n",
       "      <td>a46cce8d986daaca5492e28cae8979c8601f1fe4ba898b...</td>\n",
       "      <td>14.56525</td>\n",
       "    </tr>\n",
       "  </tbody>\n",
       "</table>\n",
       "</div>"
      ],
      "text/plain": [
       "         party_start_week  party_end_week  \\\n",
       "4121510                 7               7   \n",
       "4121511                 6               6   \n",
       "\n",
       "                                                    hashed   minutes  \n",
       "4121510  02181a0c962f34f019bc9d5b582fb0ec79b1441f96aa4d...   3.96700  \n",
       "4121511  a46cce8d986daaca5492e28cae8979c8601f1fe4ba898b...  14.56525  "
      ]
     },
     "metadata": {},
     "output_type": "display_data"
    },
    {
     "data": {
      "text/plain": [
       "6"
      ]
     },
     "metadata": {},
     "output_type": "display_data"
    },
    {
     "data": {
      "text/plain": [
       "7"
      ]
     },
     "metadata": {},
     "output_type": "display_data"
    },
    {
     "data": {
      "text/html": [
       "<div>\n",
       "<style scoped>\n",
       "    .dataframe tbody tr th:only-of-type {\n",
       "        vertical-align: middle;\n",
       "    }\n",
       "\n",
       "    .dataframe tbody tr th {\n",
       "        vertical-align: top;\n",
       "    }\n",
       "\n",
       "    .dataframe thead th {\n",
       "        text-align: right;\n",
       "    }\n",
       "</style>\n",
       "<table border=\"1\" class=\"dataframe\">\n",
       "  <thead>\n",
       "    <tr style=\"text-align: right;\">\n",
       "      <th></th>\n",
       "      <th>hashed</th>\n",
       "      <th>minutes</th>\n",
       "      <th>party_end_week</th>\n",
       "      <th>party_start_week</th>\n",
       "    </tr>\n",
       "  </thead>\n",
       "  <tbody>\n",
       "    <tr>\n",
       "      <th>21849935</th>\n",
       "      <td>3893d4da8854ada5484099d8017c1504d62d98cf11fb2a...</td>\n",
       "      <td>3.96700</td>\n",
       "      <td>7</td>\n",
       "      <td>7</td>\n",
       "    </tr>\n",
       "    <tr>\n",
       "      <th>21849936</th>\n",
       "      <td>039f09f2d5c1206d51c9299a774fe2041db91dcf60b487...</td>\n",
       "      <td>3.96700</td>\n",
       "      <td>7</td>\n",
       "      <td>7</td>\n",
       "    </tr>\n",
       "    <tr>\n",
       "      <th>21849937</th>\n",
       "      <td>2a8053c8632f8116fa8a8319709d73c09f3cf409d56afb...</td>\n",
       "      <td>3.96700</td>\n",
       "      <td>7</td>\n",
       "      <td>7</td>\n",
       "    </tr>\n",
       "    <tr>\n",
       "      <th>21849938</th>\n",
       "      <td>a46cce8d986daaca5492e28cae8979c8601f1fe4ba898b...</td>\n",
       "      <td>14.56525</td>\n",
       "      <td>6</td>\n",
       "      <td>6</td>\n",
       "    </tr>\n",
       "    <tr>\n",
       "      <th>21849939</th>\n",
       "      <td>70e19acc549bacbde5ec2c74b6fe19bc1ef39d63d2fa8b...</td>\n",
       "      <td>14.56525</td>\n",
       "      <td>6</td>\n",
       "      <td>6</td>\n",
       "    </tr>\n",
       "    <tr>\n",
       "      <th>21849940</th>\n",
       "      <td>d158ce3ac4745e1d0e1f44e9e7f345cc2cb7a6c38b183b...</td>\n",
       "      <td>14.56525</td>\n",
       "      <td>6</td>\n",
       "      <td>6</td>\n",
       "    </tr>\n",
       "    <tr>\n",
       "      <th>21849941</th>\n",
       "      <td>97022e70362d7dbd0fc5dc9557192baa99d64e4186802f...</td>\n",
       "      <td>14.56525</td>\n",
       "      <td>6</td>\n",
       "      <td>6</td>\n",
       "    </tr>\n",
       "    <tr>\n",
       "      <th>21849942</th>\n",
       "      <td>ba0f516f43d47b772ef75f631f16a6b91aada8d2c3f9f9...</td>\n",
       "      <td>14.56525</td>\n",
       "      <td>6</td>\n",
       "      <td>6</td>\n",
       "    </tr>\n",
       "    <tr>\n",
       "      <th>21849943</th>\n",
       "      <td>a410f525eb63794ef37d664ec478a44a5c235fefdb40c6...</td>\n",
       "      <td>14.56525</td>\n",
       "      <td>6</td>\n",
       "      <td>6</td>\n",
       "    </tr>\n",
       "  </tbody>\n",
       "</table>\n",
       "</div>"
      ],
      "text/plain": [
       "                                                     hashed   minutes  \\\n",
       "21849935  3893d4da8854ada5484099d8017c1504d62d98cf11fb2a...   3.96700   \n",
       "21849936  039f09f2d5c1206d51c9299a774fe2041db91dcf60b487...   3.96700   \n",
       "21849937  2a8053c8632f8116fa8a8319709d73c09f3cf409d56afb...   3.96700   \n",
       "21849938  a46cce8d986daaca5492e28cae8979c8601f1fe4ba898b...  14.56525   \n",
       "21849939  70e19acc549bacbde5ec2c74b6fe19bc1ef39d63d2fa8b...  14.56525   \n",
       "21849940  d158ce3ac4745e1d0e1f44e9e7f345cc2cb7a6c38b183b...  14.56525   \n",
       "21849941  97022e70362d7dbd0fc5dc9557192baa99d64e4186802f...  14.56525   \n",
       "21849942  ba0f516f43d47b772ef75f631f16a6b91aada8d2c3f9f9...  14.56525   \n",
       "21849943  a410f525eb63794ef37d664ec478a44a5c235fefdb40c6...  14.56525   \n",
       "\n",
       "          party_end_week  party_start_week  \n",
       "21849935               7                 7  \n",
       "21849936               7                 7  \n",
       "21849937               7                 7  \n",
       "21849938               6                 6  \n",
       "21849939               6                 6  \n",
       "21849940               6                 6  \n",
       "21849941               6                 6  \n",
       "21849942               6                 6  \n",
       "21849943               6                 6  "
      ]
     },
     "execution_count": 16,
     "metadata": {},
     "output_type": "execute_result"
    }
   ],
   "source": [
    "display(DF_temp.tail(2))\n",
    "display(DF_temp.iloc[-1,0])\n",
    "display(DF_temp.iloc[-2,0])\n",
    "new_df.tail(9)"
   ]
  },
  {
   "cell_type": "markdown",
   "metadata": {},
   "source": [
    "아주 잘 맞습니다! 다음 단계로 넘어갑시다!"
   ]
  },
  {
   "cell_type": "code",
   "execution_count": 17,
   "metadata": {},
   "outputs": [],
   "source": [
    "### 2차 전처리 추가 코드입니다.(2018.08.03)\n",
    "week = 1\n",
    "\n",
    "DF_week = new_df[new_df['party_start_week'] == week]\n",
    "DF_week_groupby = DF_week.groupby('hashed').agg('sum')\n",
    "DF_week_groupby = DF_week_groupby.reset_index()\n",
    "\n",
    "DF_week_groupby = DF_week_groupby.drop(['party_end_week', 'party_start_week'], axis = 1)\n",
    "DF_week_groupby.columns = ['acc_id', str(week)+'_party_time']\n",
    "\n",
    "DF_merge = pd.merge(left = DF_label, right = DF_week_groupby, how='left', on='acc_id')"
   ]
  },
  {
   "cell_type": "code",
   "execution_count": 18,
   "metadata": {},
   "outputs": [],
   "source": [
    "### 2차 전처리 추가 코드입니다.(2018.08.03)\n",
    "week = 2\n",
    "\n",
    "DF_week = new_df[new_df['party_start_week'] == week]\n",
    "DF_week_groupby = DF_week.groupby('hashed').agg('sum')\n",
    "DF_week_groupby = DF_week_groupby.reset_index()\n",
    "\n",
    "DF_week_groupby = DF_week_groupby.drop(['party_end_week', 'party_start_week'], axis = 1)\n",
    "DF_week_groupby.columns = ['acc_id', str(week)+'_party_time']\n",
    "\n",
    "DF_merge = pd.merge(left = DF_merge, right = DF_week_groupby, how='left', on='acc_id')"
   ]
  },
  {
   "cell_type": "code",
   "execution_count": 19,
   "metadata": {},
   "outputs": [],
   "source": [
    "### 2차 전처리 추가 코드입니다.(2018.08.03)\n",
    "week = 3\n",
    "\n",
    "DF_week = new_df[new_df['party_start_week'] == week]\n",
    "DF_week_groupby = DF_week.groupby('hashed').agg('sum')\n",
    "DF_week_groupby = DF_week_groupby.reset_index()\n",
    "\n",
    "DF_week_groupby = DF_week_groupby.drop(['party_end_week', 'party_start_week'], axis = 1)\n",
    "DF_week_groupby.columns = ['acc_id', str(week)+'_party_time']\n",
    "\n",
    "DF_merge = pd.merge(left = DF_merge, right = DF_week_groupby, how='left', on='acc_id')"
   ]
  },
  {
   "cell_type": "code",
   "execution_count": 20,
   "metadata": {},
   "outputs": [],
   "source": [
    "### 2차 전처리 추가 코드입니다.(2018.08.03)\n",
    "week = 4\n",
    "\n",
    "DF_week = new_df[new_df['party_start_week'] == week]\n",
    "DF_week_groupby = DF_week.groupby('hashed').agg('sum')\n",
    "DF_week_groupby = DF_week_groupby.reset_index()\n",
    "\n",
    "DF_week_groupby = DF_week_groupby.drop(['party_end_week', 'party_start_week'], axis = 1)\n",
    "DF_week_groupby.columns = ['acc_id', str(week)+'_party_time']\n",
    "\n",
    "DF_merge = pd.merge(left = DF_merge, right = DF_week_groupby, how='left', on='acc_id')"
   ]
  },
  {
   "cell_type": "code",
   "execution_count": 21,
   "metadata": {},
   "outputs": [],
   "source": [
    "### 2차 전처리 추가 코드입니다.(2018.08.03)\n",
    "week = 5\n",
    "\n",
    "DF_week = new_df[new_df['party_start_week'] == week]\n",
    "DF_week_groupby = DF_week.groupby('hashed').agg('sum')\n",
    "DF_week_groupby = DF_week_groupby.reset_index()\n",
    "\n",
    "DF_week_groupby = DF_week_groupby.drop(['party_end_week', 'party_start_week'], axis = 1)\n",
    "DF_week_groupby.columns = ['acc_id', str(week)+'_party_time']\n",
    "\n",
    "DF_merge = pd.merge(left = DF_merge, right = DF_week_groupby, how='left', on='acc_id')"
   ]
  },
  {
   "cell_type": "code",
   "execution_count": 22,
   "metadata": {},
   "outputs": [],
   "source": [
    "### 2차 전처리 추가 코드입니다.(2018.08.03)\n",
    "week = 6\n",
    "\n",
    "DF_week = new_df[new_df['party_start_week'] == week]\n",
    "DF_week_groupby = DF_week.groupby('hashed').agg('sum')\n",
    "DF_week_groupby = DF_week_groupby.reset_index()\n",
    "\n",
    "DF_week_groupby = DF_week_groupby.drop(['party_end_week', 'party_start_week'], axis = 1)\n",
    "DF_week_groupby.columns = ['acc_id', str(week)+'_party_time']\n",
    "\n",
    "DF_merge = pd.merge(left = DF_merge, right = DF_week_groupby, how='left', on='acc_id')"
   ]
  },
  {
   "cell_type": "code",
   "execution_count": 23,
   "metadata": {},
   "outputs": [],
   "source": [
    "### 2차 전처리 추가 코드입니다.(2018.08.03)\n",
    "week = 7\n",
    "\n",
    "DF_week = new_df[new_df['party_start_week'] == week]\n",
    "DF_week_groupby = DF_week.groupby('hashed').agg('sum')\n",
    "DF_week_groupby = DF_week_groupby.reset_index()\n",
    "\n",
    "DF_week_groupby = DF_week_groupby.drop(['party_end_week', 'party_start_week'], axis = 1)\n",
    "DF_week_groupby.columns = ['acc_id', str(week)+'_party_time']\n",
    "\n",
    "DF_merge = pd.merge(left = DF_merge, right = DF_week_groupby, how='left', on='acc_id')"
   ]
  },
  {
   "cell_type": "code",
   "execution_count": 24,
   "metadata": {},
   "outputs": [],
   "source": [
    "### 2차 전처리 추가 코드입니다.(2018.08.03)\n",
    "week = 8\n",
    "\n",
    "DF_week = new_df[new_df['party_start_week'] == week]\n",
    "DF_week_groupby = DF_week.groupby('hashed').agg('sum')\n",
    "DF_week_groupby = DF_week_groupby.reset_index()\n",
    "\n",
    "DF_week_groupby = DF_week_groupby.drop(['party_end_week', 'party_start_week'], axis = 1)\n",
    "DF_week_groupby.columns = ['acc_id', str(week)+'_party_time']\n",
    "\n",
    "DF_merge = pd.merge(left = DF_merge, right = DF_week_groupby, how='left', on='acc_id')"
   ]
  },
  {
   "cell_type": "code",
   "execution_count": 26,
   "metadata": {},
   "outputs": [],
   "source": [
    "DF_merge.to_csv(path+'party.csv', encoding=False, index=False)"
   ]
  },
  {
   "cell_type": "markdown",
   "metadata": {},
   "source": [
    "## 3. id별로 파티 시간 합치기 - groupby<a name =3></a>"
   ]
  },
  {
   "cell_type": "code",
   "execution_count": 7,
   "metadata": {},
   "outputs": [
    {
     "name": "stdout",
     "output_type": "stream",
     "text": [
      "0:01:06.555333\n",
      "Data shape :  (268148, 2)\n"
     ]
    },
    {
     "data": {
      "text/html": [
       "<div>\n",
       "<style scoped>\n",
       "    .dataframe tbody tr th:only-of-type {\n",
       "        vertical-align: middle;\n",
       "    }\n",
       "\n",
       "    .dataframe tbody tr th {\n",
       "        vertical-align: top;\n",
       "    }\n",
       "\n",
       "    .dataframe thead th {\n",
       "        text-align: right;\n",
       "    }\n",
       "</style>\n",
       "<table border=\"1\" class=\"dataframe\">\n",
       "  <thead>\n",
       "    <tr style=\"text-align: right;\">\n",
       "      <th></th>\n",
       "      <th>acc_id</th>\n",
       "      <th>total_party_time</th>\n",
       "    </tr>\n",
       "  </thead>\n",
       "  <tbody>\n",
       "    <tr>\n",
       "      <th>0</th>\n",
       "      <td>000020b4fa2af1e40c813436e5054bce70b703d0039dcd...</td>\n",
       "      <td>56786.555050</td>\n",
       "    </tr>\n",
       "    <tr>\n",
       "      <th>1</th>\n",
       "      <td>0000264b01392acfde44f9d8494f112a701dc5d3e5fda6...</td>\n",
       "      <td>2514.369400</td>\n",
       "    </tr>\n",
       "    <tr>\n",
       "      <th>2</th>\n",
       "      <td>00006916672106f94f68d18e4a0532b53a40f4549d3a62...</td>\n",
       "      <td>33.826183</td>\n",
       "    </tr>\n",
       "    <tr>\n",
       "      <th>3</th>\n",
       "      <td>0000988c5778e9d6a861fee8fbfd88ec2fdc9108c1acd6...</td>\n",
       "      <td>620.352300</td>\n",
       "    </tr>\n",
       "    <tr>\n",
       "      <th>4</th>\n",
       "      <td>0000a2ff91f6891797708f346d8e3790fa75c1872d6fdc...</td>\n",
       "      <td>1011.070533</td>\n",
       "    </tr>\n",
       "  </tbody>\n",
       "</table>\n",
       "</div>"
      ],
      "text/plain": [
       "                                              acc_id  total_party_time\n",
       "0  000020b4fa2af1e40c813436e5054bce70b703d0039dcd...      56786.555050\n",
       "1  0000264b01392acfde44f9d8494f112a701dc5d3e5fda6...       2514.369400\n",
       "2  00006916672106f94f68d18e4a0532b53a40f4549d3a62...         33.826183\n",
       "3  0000988c5778e9d6a861fee8fbfd88ec2fdc9108c1acd6...        620.352300\n",
       "4  0000a2ff91f6891797708f346d8e3790fa75c1872d6fdc...       1011.070533"
      ]
     },
     "execution_count": 7,
     "metadata": {},
     "output_type": "execute_result"
    }
   ],
   "source": [
    "start = datetime.now()\n",
    "new_df_2 = new_df.groupby('hashed').agg('sum')\n",
    "new_df_2 = new_df_2.reset_index()\n",
    "new_df_2.columns = ['acc_id', 'total_party_time']\n",
    "print(datetime.now()-start)\n",
    "print(\"Data shape : \",new_df_2.shape)\n",
    "new_df_2.head()"
   ]
  },
  {
   "cell_type": "markdown",
   "metadata": {},
   "source": [
    "따로 설명이 필요 없다고 생각이 듭니다."
   ]
  },
  {
   "cell_type": "markdown",
   "metadata": {},
   "source": [
    "## 4. train_label 데이터와 병합 - merge<a name=4></a>"
   ]
  },
  {
   "cell_type": "code",
   "execution_count": 9,
   "metadata": {},
   "outputs": [
    {
     "name": "stdout",
     "output_type": "stream",
     "text": [
      "0:00:00.205476\n",
      "Data shape :  (100000, 3)\n"
     ]
    },
    {
     "data": {
      "text/html": [
       "<div>\n",
       "<style scoped>\n",
       "    .dataframe tbody tr th:only-of-type {\n",
       "        vertical-align: middle;\n",
       "    }\n",
       "\n",
       "    .dataframe tbody tr th {\n",
       "        vertical-align: top;\n",
       "    }\n",
       "\n",
       "    .dataframe thead th {\n",
       "        text-align: right;\n",
       "    }\n",
       "</style>\n",
       "<table border=\"1\" class=\"dataframe\">\n",
       "  <thead>\n",
       "    <tr style=\"text-align: right;\">\n",
       "      <th></th>\n",
       "      <th>acc_id</th>\n",
       "      <th>label</th>\n",
       "      <th>total_party_time</th>\n",
       "    </tr>\n",
       "  </thead>\n",
       "  <tbody>\n",
       "    <tr>\n",
       "      <th>0</th>\n",
       "      <td>b8fbf3f6a70e3f36843bffc70c18ff51a0d755a87616ec...</td>\n",
       "      <td>week</td>\n",
       "      <td>696.442867</td>\n",
       "    </tr>\n",
       "    <tr>\n",
       "      <th>1</th>\n",
       "      <td>ed500c4957956b3e99dc3985666850b582f812405eefb6...</td>\n",
       "      <td>week</td>\n",
       "      <td>2244.687433</td>\n",
       "    </tr>\n",
       "    <tr>\n",
       "      <th>2</th>\n",
       "      <td>acc6afa23a6bf15e18151e4794c7789225ef9d682f473c...</td>\n",
       "      <td>week</td>\n",
       "      <td>334.495633</td>\n",
       "    </tr>\n",
       "    <tr>\n",
       "      <th>3</th>\n",
       "      <td>34095a3c9a2937ced3ea3fd75e22ce177dc5879d2a53f7...</td>\n",
       "      <td>week</td>\n",
       "      <td>NaN</td>\n",
       "    </tr>\n",
       "    <tr>\n",
       "      <th>4</th>\n",
       "      <td>26f3db6e8817a93c4ceda9a16f0832945e43d950b95882...</td>\n",
       "      <td>week</td>\n",
       "      <td>625.470767</td>\n",
       "    </tr>\n",
       "  </tbody>\n",
       "</table>\n",
       "</div>"
      ],
      "text/plain": [
       "                                              acc_id label  total_party_time\n",
       "0  b8fbf3f6a70e3f36843bffc70c18ff51a0d755a87616ec...  week        696.442867\n",
       "1  ed500c4957956b3e99dc3985666850b582f812405eefb6...  week       2244.687433\n",
       "2  acc6afa23a6bf15e18151e4794c7789225ef9d682f473c...  week        334.495633\n",
       "3  34095a3c9a2937ced3ea3fd75e22ce177dc5879d2a53f7...  week               NaN\n",
       "4  26f3db6e8817a93c4ceda9a16f0832945e43d950b95882...  week        625.470767"
      ]
     },
     "execution_count": 9,
     "metadata": {},
     "output_type": "execute_result"
    }
   ],
   "source": [
    "start = datetime.now()\n",
    "\n",
    "DF_train = pd.merge(DF_label,new_df_2, how = 'left', on = 'acc_id')\n",
    "\n",
    "print(datetime.now()-start)\n",
    "print(\"Data shape : \",DF_train.shape)\n",
    "DF_train.head()"
   ]
  },
  {
   "cell_type": "markdown",
   "metadata": {},
   "source": [
    "0.24초 실화입니까??! 내가 짠 코드는 한 행에 34초. 총 34초 x 10,000행 = 340,000초 = 5,666분 = 94시간 = 3.9일이었는데 ....<br/>\n",
    "간단하게 NaN이 몇 개 있고, NaN은 파티를 안 한 것을 의미하니 0으로 채워넣도록 하겠습니다."
   ]
  },
  {
   "cell_type": "code",
   "execution_count": 10,
   "metadata": {},
   "outputs": [
    {
     "data": {
      "text/plain": [
       "acc_id                  0\n",
       "label                   0\n",
       "total_party_time    45642\n",
       "dtype: int64"
      ]
     },
     "execution_count": 10,
     "metadata": {},
     "output_type": "execute_result"
    }
   ],
   "source": [
    "DF_train.isnull().sum()"
   ]
  },
  {
   "cell_type": "code",
   "execution_count": 11,
   "metadata": {
    "scrolled": true
   },
   "outputs": [
    {
     "data": {
      "text/plain": [
       "acc_id              0\n",
       "label               0\n",
       "total_party_time    0\n",
       "dtype: int64"
      ]
     },
     "execution_count": 11,
     "metadata": {},
     "output_type": "execute_result"
    }
   ],
   "source": [
    "DF_train = DF_train.fillna(0)\n",
    "DF_train.isnull().sum()"
   ]
  },
  {
   "cell_type": "markdown",
   "metadata": {},
   "source": [
    "4,5627개나 있네요 .. 혹시 코드가 잘못된 것은 아닌지 걱정이 됩니다 .... <br/>\n",
    "토요일까지 남은 시간에 임의로 몇 개 뽑아서 확인 작업해야겠습니다.<br/>\n",
    "마지막으로 csv파일로 저장하겠습니다."
   ]
  },
  {
   "cell_type": "code",
   "execution_count": 12,
   "metadata": {},
   "outputs": [],
   "source": [
    "DF_train.to_csv(path+'train.csv', index = False, encoding = False)"
   ]
  },
  {
   "cell_type": "markdown",
   "metadata": {},
   "source": [
    "현 시점에서 걱정되는 2가지\n",
    "1. 파티 시간의 분산이 너무 크다. 분 단위를 시간 단위로 바꿔야하는가?\n",
    "2. 대충 데이터로 봤을 때, 큰 상관관계는 없어보인다."
   ]
  }
 ],
 "metadata": {
  "kernelspec": {
   "display_name": "Python 3",
   "language": "python",
   "name": "python3"
  },
  "language_info": {
   "codemirror_mode": {
    "name": "ipython",
    "version": 3
   },
   "file_extension": ".py",
   "mimetype": "text/x-python",
   "name": "python",
   "nbconvert_exporter": "python",
   "pygments_lexer": "ipython3",
   "version": "3.6.5"
  }
 },
 "nbformat": 4,
 "nbformat_minor": 2
}
