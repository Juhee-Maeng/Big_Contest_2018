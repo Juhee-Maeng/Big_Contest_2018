{
 "cells": [
  {
   "cell_type": "code",
   "execution_count": 1,
   "metadata": {},
   "outputs": [],
   "source": [
    "import pandas as pd\n",
    "import numpy as np\n",
    "\n",
    "from sklearn.model_selection import train_test_split\n",
    "from sklearn.model_selection import KFold\n",
    "from sklearn.decomposition import PCA\n",
    "\n",
    "from sklearn.svm import SVC\n",
    "from sklearn.ensemble import RandomForestClassifier\n",
    "from sklearn.ensemble import ExtraTreesClassifier\n",
    "from sklearn.linear_model import LogisticRegression\n",
    "from sklearn.metrics import f1_score\n",
    "\n",
    "pd.options.display.max_columns = 410"
   ]
  },
  {
   "cell_type": "code",
   "execution_count": 2,
   "metadata": {},
   "outputs": [],
   "source": [
    "# Load Data\n",
    "TRAIN_META = pd.read_csv('data/train_meta.csv')\n",
    "TEST_META = pd.read_csv('data/test_meta.csv')\n",
    "TRAIN_META = TRAIN_META[['acc_id', 'label', 'Model1', 'Model2', 'Model3', 'Model4', 'Model6', 'Model7', 'Model8']]\n",
    "TEST_META = TEST_META[['acc_id', 'label', 'Model1', 'Model2', 'Model3', 'Model4', 'Model6', 'Model7', 'Model8']]"
   ]
  },
  {
   "cell_type": "code",
   "execution_count": 3,
   "metadata": {
    "scrolled": true
   },
   "outputs": [],
   "source": [
    "# Preprocessing train dataset\n",
    "TRAIN_META = pd.concat([TRAIN_META['label'], pd.get_dummies(TRAIN_META.iloc[:,2:])], axis = 1)\n",
    "TRAIN_META['NUM_2month'] = (TRAIN_META['Model1_2month'] + TRAIN_META['Model2_2month'] + \n",
    "                            TRAIN_META['Model3_2month'] + TRAIN_META['Model4_2month'] +\n",
    "                            TRAIN_META['Model6_2month'] + TRAIN_META['Model7_2month'] + TRAIN_META['Model8_2month'])\n",
    "TRAIN_META['NUM_month'] = (TRAIN_META['Model1_month'] + TRAIN_META['Model2_month'] + \n",
    "                           TRAIN_META['Model3_month'] + TRAIN_META['Model4_month'] +\n",
    "                           TRAIN_META['Model6_month'] + TRAIN_META['Model7_month'] + TRAIN_META['Model8_month'])\n",
    "TRAIN_META['NUM_week'] = (TRAIN_META['Model1_week'] + TRAIN_META['Model2_week'] + \n",
    "                          TRAIN_META['Model3_week'] + TRAIN_META['Model4_week'] +\n",
    "                          TRAIN_META['Model6_week'] + TRAIN_META['Model7_week'] + TRAIN_META['Model8_week'])\n",
    "TRAIN_META['NUM_retained'] = (TRAIN_META['Model1_retained'] + TRAIN_META['Model2_retained'] + \n",
    "                              TRAIN_META['Model3_retained'] + TRAIN_META['Model4_retained'] +\n",
    "                              TRAIN_META['Model6_retained'] + TRAIN_META['Model7_retained'] + TRAIN_META['Model8_retained'])\n",
    "\n",
    "# Preprocessing test dataset\n",
    "TEST_META = pd.concat([TEST_META['label'], pd.get_dummies(TEST_META.iloc[:,2:])], axis = 1)\n",
    "TEST_META['NUM_2month'] = (TEST_META['Model1_2month'] + TEST_META['Model2_2month'] + \n",
    "                           TEST_META['Model3_2month'] + TEST_META['Model4_2month'] + \n",
    "                           TEST_META['Model6_2month'] + TEST_META['Model7_2month'] + TEST_META['Model8_2month'])\n",
    "TEST_META['NUM_month'] = (TEST_META['Model1_month'] + TEST_META['Model2_month'] + \n",
    "                          TEST_META['Model3_month'] + TEST_META['Model4_month'] + \n",
    "                          TEST_META['Model6_month'] + TEST_META['Model7_month'] + TEST_META['Model8_month'])\n",
    "TEST_META['NUM_week'] = (TEST_META['Model1_week'] + TEST_META['Model2_week'] + \n",
    "                         TEST_META['Model3_week'] + TEST_META['Model4_week'] + \n",
    "                         TEST_META['Model6_week'] + TEST_META['Model7_week'] + TEST_META['Model8_week'])\n",
    "TEST_META['NUM_retained'] = (TEST_META['Model1_retained'] + TEST_META['Model2_retained'] + \n",
    "                             TEST_META['Model3_retained'] + TEST_META['Model4_retained'] + \n",
    "                             TEST_META['Model6_retained'] + TEST_META['Model7_retained'] + TEST_META['Model8_retained'])"
   ]
  },
  {
   "cell_type": "code",
   "execution_count": 4,
   "metadata": {},
   "outputs": [],
   "source": [
    "# Construct train dataset\n",
    "X = TRAIN_META.drop('label', axis = 1).values\n",
    "y = TRAIN_META['label'].values\n",
    "\n",
    "# Construct test dataset\n",
    "X_test = TEST_META.drop('label', axis = 1).values\n",
    "\n",
    "# kfold\n",
    "kf = KFold(n_splits = 5, shuffle = True, random_state = 1)"
   ]
  },
  {
   "cell_type": "code",
   "execution_count": 5,
   "metadata": {},
   "outputs": [
    {
     "name": "stdout",
     "output_type": "stream",
     "text": [
      "1 fold f1:  0.7494155395115216\n",
      "2 fold f1:  0.7406018862899325\n",
      "3 fold f1:  0.7482639211385888\n",
      "4 fold f1:  0.7444312654238643\n",
      "5 fold f1:  0.7396306457570715\n",
      "average f1 :  0.7444686516241956\n",
      "std f1 :  0.003930275896300823\n"
     ]
    }
   ],
   "source": [
    "model = RandomForestClassifier(n_estimators = 150, random_state = 1)\n",
    "accuracy = []\n",
    "count = 1\n",
    "for train_index, test_index in kf.split(X):\n",
    "    X_train, X_val, y_train, y_val = X[train_index], X[test_index], y[train_index], y[test_index]\n",
    "    model.fit(X_train, y_train)\n",
    "    f1 = f1_score(y_val, model.predict(X_val), average = 'macro')\n",
    "    print(count,\"fold f1: \", f1)\n",
    "    accuracy.append(f1)\n",
    "    count += 1\n",
    "print(\"average f1 : \", np.array(accuracy).mean())\n",
    "print(\"std f1 : \", np.array(accuracy).std())"
   ]
  },
  {
   "cell_type": "code",
   "execution_count": 15,
   "metadata": {},
   "outputs": [
    {
     "name": "stdout",
     "output_type": "stream",
     "text": [
      "1 fold f1:  0.7483468513534726\n",
      "2 fold f1:  0.7382675007056373\n",
      "3 fold f1:  0.7459765728938573\n",
      "4 fold f1:  0.7433139402550101\n",
      "5 fold f1:  0.737683085974391\n",
      "average f1 :  0.7427175902364735\n",
      "std f1 :  0.004190816436602282\n"
     ]
    }
   ],
   "source": [
    "model = RandomForestClassifier(n_estimators = 200, random_state = 1)\n",
    "accuracy = []\n",
    "count = 1\n",
    "for train_index, test_index in kf.split(X):\n",
    "    X_train, X_val, y_train, y_val = X[train_index], X[test_index], y[train_index], y[test_index]\n",
    "    model.fit(X_train, y_train)\n",
    "    f1 = f1_score(y_val, model.predict(X_val), average = 'macro')\n",
    "    print(count,\"fold f1: \", f1)\n",
    "    accuracy.append(f1)\n",
    "    count += 1\n",
    "print(\"average f1 : \", np.array(accuracy).mean())\n",
    "print(\"std f1 : \", np.array(accuracy).std())"
   ]
  },
  {
   "cell_type": "code",
   "execution_count": 16,
   "metadata": {},
   "outputs": [
    {
     "name": "stdout",
     "output_type": "stream",
     "text": [
      "1 fold f1:  0.7487909972087493\n",
      "2 fold f1:  0.7375526323638883\n",
      "3 fold f1:  0.7462219588619399\n",
      "4 fold f1:  0.7429301543002561\n",
      "5 fold f1:  0.738311682001129\n",
      "average f1 :  0.7427614849471925\n",
      "std f1 :  0.004365575303919608\n"
     ]
    }
   ],
   "source": [
    "model = ExtraTreesClassifier(n_estimators = 150, random_state = 1)\n",
    "accuracy = []\n",
    "count = 1\n",
    "for train_index, test_index in kf.split(X):\n",
    "    X_train, X_val, y_train, y_val = X[train_index], X[test_index], y[train_index], y[test_index]\n",
    "    model.fit(X_train, y_train)\n",
    "    f1 = f1_score(y_val, model.predict(X_val), average = 'macro')\n",
    "    print(count,\"fold f1: \", f1)\n",
    "    accuracy.append(f1)\n",
    "    count += 1\n",
    "print(\"average f1 : \", np.array(accuracy).mean())\n",
    "print(\"std f1 : \", np.array(accuracy).std())"
   ]
  },
  {
   "cell_type": "code",
   "execution_count": 6,
   "metadata": {},
   "outputs": [
    {
     "name": "stdout",
     "output_type": "stream",
     "text": [
      "1 fold f1:  0.7511935108372254\n",
      "2 fold f1:  0.7430315644343022\n",
      "3 fold f1:  0.7479305341918491\n",
      "4 fold f1:  0.7450868124836301\n",
      "5 fold f1:  0.743441207090677\n",
      "average f1 :  0.7461367258075366\n",
      "std f1 :  0.0030593786836741453\n"
     ]
    }
   ],
   "source": [
    "model = SVC()\n",
    "accuracy = []\n",
    "count = 1\n",
    "for train_index, test_index in kf.split(X):\n",
    "    X_train, X_val, y_train, y_val = X[train_index], X[test_index], y[train_index], y[test_index]\n",
    "    model.fit(X_train, y_train)\n",
    "    f1 = f1_score(y_val, model.predict(X_val), average = 'macro')\n",
    "    print(count,\"fold f1: \", f1)\n",
    "    accuracy.append(f1)\n",
    "    count += 1\n",
    "print(\"average f1 : \", np.array(accuracy).mean())\n",
    "print(\"std f1 : \", np.array(accuracy).std())"
   ]
  },
  {
   "cell_type": "code",
   "execution_count": null,
   "metadata": {},
   "outputs": [],
   "source": []
  }
 ],
 "metadata": {
  "kernelspec": {
   "display_name": "Python 3",
   "language": "python",
   "name": "python3"
  },
  "language_info": {
   "codemirror_mode": {
    "name": "ipython",
    "version": 3
   },
   "file_extension": ".py",
   "mimetype": "text/x-python",
   "name": "python",
   "nbconvert_exporter": "python",
   "pygments_lexer": "ipython3",
   "version": "3.6.5"
  }
 },
 "nbformat": 4,
 "nbformat_minor": 2
}
