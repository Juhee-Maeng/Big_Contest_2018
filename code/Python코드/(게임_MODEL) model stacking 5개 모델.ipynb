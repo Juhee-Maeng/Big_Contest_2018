{
 "cells": [
  {
   "cell_type": "code",
   "execution_count": 5,
   "metadata": {},
   "outputs": [],
   "source": [
    "import pandas as pd\n",
    "import numpy as np\n",
    "\n",
    "from sklearn.svm import SVC\n",
    "from sklearn.model_selection import train_test_split\n",
    "from sklearn.model_selection import KFold\n",
    "from sklearn.ensemble import RandomForestClassifier\n",
    "from sklearn.ensemble import ExtraTreesClassifier\n",
    "from sklearn.tree import DecisionTreeClassifier\n",
    "from sklearn.linear_model import LogisticRegression\n",
    "from sklearn.metrics import f1_score\n",
    "\n",
    "pd.options.display.max_columns = 410"
   ]
  },
  {
   "cell_type": "code",
   "execution_count": 2,
   "metadata": {},
   "outputs": [],
   "source": [
    "path = 'data/final_data_rev/'\n",
    "# Load Data\n",
    "TRAIN_DATA = pd.read_csv(path+'train_meta.csv')\n",
    "TRAIN_META = TRAIN_DATA[['label', 'Model0', 'Model1', 'Model2', 'Model3', 'Model4']] \n",
    "\n",
    "TEST_DATA = pd.read_csv(path + 'test_meta.csv')\n",
    "TEST_META = TEST_DATA[['label', 'Model0', 'Model1', 'Model2', 'Model3', 'Model4']] \n",
    "\n",
    "# Preprocessing train dataset\n",
    "TRAIN_META = pd.concat([TRAIN_META['label'], pd.get_dummies(TRAIN_META.iloc[:,1:])], axis = 1)\n",
    "TRAIN_META['NUM_2month'] = TRAIN_META['Model0_2month'] + TRAIN_META['Model1_2month'] + TRAIN_META['Model2_2month'] + TRAIN_META['Model3_2month'] + TRAIN_META['Model4_2month']\n",
    "TRAIN_META['NUM_month'] = TRAIN_META['Model0_month'] + TRAIN_META['Model1_month'] + TRAIN_META['Model2_month'] + TRAIN_META['Model3_month'] + TRAIN_META['Model4_month']\n",
    "TRAIN_META['NUM_week'] = TRAIN_META['Model0_week'] + TRAIN_META['Model1_week'] + TRAIN_META['Model2_week'] + TRAIN_META['Model3_week'] + TRAIN_META['Model4_week']\n",
    "TRAIN_META['NUM_retained'] = TRAIN_META['Model0_retained'] + TRAIN_META['Model1_retained'] + TRAIN_META['Model2_retained'] + TRAIN_META['Model3_retained'] + TRAIN_META['Model4_retained']\n",
    "\n",
    "# Preprocessing test dataset\n",
    "TEST_META = pd.concat([TEST_META['label'], pd.get_dummies(TEST_META.iloc[:,1:])], axis = 1)\n",
    "TEST_META['NUM_2month'] = TEST_META['Model0_2month'] + TEST_META['Model1_2month'] + TEST_META['Model2_2month'] + TEST_META['Model3_2month'] + TEST_META['Model4_2month']\n",
    "TEST_META['NUM_month'] = TEST_META['Model0_month'] + TEST_META['Model1_month'] + TEST_META['Model2_month'] + TEST_META['Model3_month'] + TEST_META['Model4_month']\n",
    "TEST_META['NUM_week'] = TEST_META['Model0_week'] + TEST_META['Model1_week'] + TEST_META['Model2_week'] + TEST_META['Model3_week'] + TEST_META['Model4_week']\n",
    "TEST_META['NUM_retained'] = TEST_META['Model0_retained'] + TEST_META['Model1_retained'] + TEST_META['Model2_retained'] + TEST_META['Model3_retained'] + TEST_META['Model4_retained']"
   ]
  },
  {
   "cell_type": "code",
   "execution_count": 6,
   "metadata": {},
   "outputs": [],
   "source": [
    "# Construct train dataset\n",
    "X = TRAIN_META.drop('label', axis = 1).values\n",
    "y = TRAIN_META['label'].values\n",
    "\n",
    "# Construct test dataset\n",
    "X_test = TEST_META.drop('label', axis = 1).values\n",
    "\n",
    "# kfold\n",
    "kf = KFold(n_splits = 5, shuffle = True, random_state = 1)"
   ]
  },
  {
   "cell_type": "code",
   "execution_count": null,
   "metadata": {},
   "outputs": [
    {
     "name": "stdout",
     "output_type": "stream",
     "text": [
      "1 fold f1:  0.7487918524413306\n"
     ]
    }
   ],
   "source": [
    "model = SVC()\n",
    "accuracy = []\n",
    "count = 1\n",
    "for train_index, test_index in kf.split(X):\n",
    "    X_train, X_val, y_train, y_val = X[train_index], X[test_index], y[train_index], y[test_index]\n",
    "    model.fit(X_train, y_train)\n",
    "    f1 = f1_score(y_val, model.predict(X_val), average = 'macro')\n",
    "    print(count,\"fold f1: \", f1)\n",
    "    accuracy.append(f1)\n",
    "    count += 1\n",
    "print(\"average f1 : \", np.array(accuracy).mean())\n",
    "print(\"std f1 : \", np.array(accuracy).std())"
   ]
  },
  {
   "cell_type": "code",
   "execution_count": 41,
   "metadata": {},
   "outputs": [
    {
     "data": {
      "text/html": [
       "<div>\n",
       "<style scoped>\n",
       "    .dataframe tbody tr th:only-of-type {\n",
       "        vertical-align: middle;\n",
       "    }\n",
       "\n",
       "    .dataframe tbody tr th {\n",
       "        vertical-align: top;\n",
       "    }\n",
       "\n",
       "    .dataframe thead th {\n",
       "        text-align: right;\n",
       "    }\n",
       "</style>\n",
       "<table border=\"1\" class=\"dataframe\">\n",
       "  <thead>\n",
       "    <tr style=\"text-align: right;\">\n",
       "      <th></th>\n",
       "      <th>Model0_2month</th>\n",
       "      <th>Model0_month</th>\n",
       "      <th>Model0_retained</th>\n",
       "      <th>Model0_week</th>\n",
       "      <th>Model1_2month</th>\n",
       "      <th>Model1_month</th>\n",
       "      <th>Model1_retained</th>\n",
       "      <th>Model1_week</th>\n",
       "      <th>Model2_2month</th>\n",
       "      <th>Model2_month</th>\n",
       "      <th>Model2_retained</th>\n",
       "      <th>Model2_week</th>\n",
       "      <th>Model3_2month</th>\n",
       "      <th>Model3_month</th>\n",
       "      <th>Model3_retained</th>\n",
       "      <th>Model3_week</th>\n",
       "      <th>Model4_2month</th>\n",
       "      <th>Model4_month</th>\n",
       "      <th>Model4_retained</th>\n",
       "      <th>Model4_week</th>\n",
       "      <th>NUM_2month</th>\n",
       "      <th>NUM_month</th>\n",
       "      <th>NUM_week</th>\n",
       "      <th>NUM_retained</th>\n",
       "    </tr>\n",
       "  </thead>\n",
       "  <tbody>\n",
       "    <tr>\n",
       "      <th>0</th>\n",
       "      <td>0</td>\n",
       "      <td>0</td>\n",
       "      <td>1</td>\n",
       "      <td>0</td>\n",
       "      <td>0</td>\n",
       "      <td>0</td>\n",
       "      <td>1</td>\n",
       "      <td>0</td>\n",
       "      <td>0</td>\n",
       "      <td>0</td>\n",
       "      <td>1</td>\n",
       "      <td>0</td>\n",
       "      <td>0</td>\n",
       "      <td>0</td>\n",
       "      <td>1</td>\n",
       "      <td>0</td>\n",
       "      <td>0</td>\n",
       "      <td>0</td>\n",
       "      <td>1</td>\n",
       "      <td>0</td>\n",
       "      <td>0</td>\n",
       "      <td>0</td>\n",
       "      <td>0</td>\n",
       "      <td>5</td>\n",
       "    </tr>\n",
       "    <tr>\n",
       "      <th>1</th>\n",
       "      <td>1</td>\n",
       "      <td>0</td>\n",
       "      <td>0</td>\n",
       "      <td>0</td>\n",
       "      <td>1</td>\n",
       "      <td>0</td>\n",
       "      <td>0</td>\n",
       "      <td>0</td>\n",
       "      <td>1</td>\n",
       "      <td>0</td>\n",
       "      <td>0</td>\n",
       "      <td>0</td>\n",
       "      <td>1</td>\n",
       "      <td>0</td>\n",
       "      <td>0</td>\n",
       "      <td>0</td>\n",
       "      <td>1</td>\n",
       "      <td>0</td>\n",
       "      <td>0</td>\n",
       "      <td>0</td>\n",
       "      <td>5</td>\n",
       "      <td>0</td>\n",
       "      <td>0</td>\n",
       "      <td>0</td>\n",
       "    </tr>\n",
       "    <tr>\n",
       "      <th>2</th>\n",
       "      <td>0</td>\n",
       "      <td>0</td>\n",
       "      <td>1</td>\n",
       "      <td>0</td>\n",
       "      <td>0</td>\n",
       "      <td>0</td>\n",
       "      <td>1</td>\n",
       "      <td>0</td>\n",
       "      <td>0</td>\n",
       "      <td>0</td>\n",
       "      <td>1</td>\n",
       "      <td>0</td>\n",
       "      <td>0</td>\n",
       "      <td>0</td>\n",
       "      <td>1</td>\n",
       "      <td>0</td>\n",
       "      <td>0</td>\n",
       "      <td>0</td>\n",
       "      <td>1</td>\n",
       "      <td>0</td>\n",
       "      <td>0</td>\n",
       "      <td>0</td>\n",
       "      <td>0</td>\n",
       "      <td>5</td>\n",
       "    </tr>\n",
       "    <tr>\n",
       "      <th>3</th>\n",
       "      <td>0</td>\n",
       "      <td>0</td>\n",
       "      <td>0</td>\n",
       "      <td>1</td>\n",
       "      <td>0</td>\n",
       "      <td>0</td>\n",
       "      <td>0</td>\n",
       "      <td>1</td>\n",
       "      <td>0</td>\n",
       "      <td>0</td>\n",
       "      <td>0</td>\n",
       "      <td>1</td>\n",
       "      <td>0</td>\n",
       "      <td>0</td>\n",
       "      <td>0</td>\n",
       "      <td>1</td>\n",
       "      <td>0</td>\n",
       "      <td>0</td>\n",
       "      <td>0</td>\n",
       "      <td>1</td>\n",
       "      <td>0</td>\n",
       "      <td>0</td>\n",
       "      <td>5</td>\n",
       "      <td>0</td>\n",
       "    </tr>\n",
       "    <tr>\n",
       "      <th>4</th>\n",
       "      <td>0</td>\n",
       "      <td>0</td>\n",
       "      <td>1</td>\n",
       "      <td>0</td>\n",
       "      <td>0</td>\n",
       "      <td>0</td>\n",
       "      <td>1</td>\n",
       "      <td>0</td>\n",
       "      <td>0</td>\n",
       "      <td>0</td>\n",
       "      <td>1</td>\n",
       "      <td>0</td>\n",
       "      <td>0</td>\n",
       "      <td>0</td>\n",
       "      <td>1</td>\n",
       "      <td>0</td>\n",
       "      <td>0</td>\n",
       "      <td>0</td>\n",
       "      <td>1</td>\n",
       "      <td>0</td>\n",
       "      <td>0</td>\n",
       "      <td>0</td>\n",
       "      <td>0</td>\n",
       "      <td>5</td>\n",
       "    </tr>\n",
       "  </tbody>\n",
       "</table>\n",
       "</div>"
      ],
      "text/plain": [
       "   Model0_2month  Model0_month  Model0_retained  Model0_week  Model1_2month  \\\n",
       "0              0             0                1            0              0   \n",
       "1              1             0                0            0              1   \n",
       "2              0             0                1            0              0   \n",
       "3              0             0                0            1              0   \n",
       "4              0             0                1            0              0   \n",
       "\n",
       "   Model1_month  Model1_retained  Model1_week  Model2_2month  Model2_month  \\\n",
       "0             0                1            0              0             0   \n",
       "1             0                0            0              1             0   \n",
       "2             0                1            0              0             0   \n",
       "3             0                0            1              0             0   \n",
       "4             0                1            0              0             0   \n",
       "\n",
       "   Model2_retained  Model2_week  Model3_2month  Model3_month  Model3_retained  \\\n",
       "0                1            0              0             0                1   \n",
       "1                0            0              1             0                0   \n",
       "2                1            0              0             0                1   \n",
       "3                0            1              0             0                0   \n",
       "4                1            0              0             0                1   \n",
       "\n",
       "   Model3_week  Model4_2month  Model4_month  Model4_retained  Model4_week  \\\n",
       "0            0              0             0                1            0   \n",
       "1            0              1             0                0            0   \n",
       "2            0              0             0                1            0   \n",
       "3            1              0             0                0            1   \n",
       "4            0              0             0                1            0   \n",
       "\n",
       "   NUM_2month  NUM_month  NUM_week  NUM_retained  \n",
       "0           0          0         0             5  \n",
       "1           5          0         0             0  \n",
       "2           0          0         0             5  \n",
       "3           0          0         5             0  \n",
       "4           0          0         0             5  "
      ]
     },
     "execution_count": 41,
     "metadata": {},
     "output_type": "execute_result"
    }
   ],
   "source": [
    "'''\n",
    "model = SVC()\n",
    "model.fit(X_train, y_train)\n",
    "f1_score(y_test, model.predict(X_val), average = 'macro')\n",
    "'''"
   ]
  },
  {
   "cell_type": "code",
   "execution_count": 6,
   "metadata": {},
   "outputs": [
    {
     "name": "stdout",
     "output_type": "stream",
     "text": [
      "train score :  0.7462200599918095\n",
      "test score :  0.7462431668744021\n"
     ]
    }
   ],
   "source": [
    "'''\n",
    "model = RandomForestClassifier(n_estimators=300)\n",
    "model.fit(X_train, y_train)\n",
    "\n",
    "print(\"train score : \", f1_score(y_train, model.predict(X_train), average = 'macro'))\n",
    "print(\"test score : \", f1_score(y_val, model.predict(X_val), average = 'macro'))\n",
    "'''"
   ]
  },
  {
   "cell_type": "code",
   "execution_count": 14,
   "metadata": {},
   "outputs": [
    {
     "name": "stdout",
     "output_type": "stream",
     "text": [
      "train score :  0.7462219483846372\n",
      "test score :  0.7459335147888104\n"
     ]
    }
   ],
   "source": [
    "model = ExtraTreesClassifier(n_estimators=300)\n",
    "model.fit(X_train, y_train)\n",
    "\n",
    "print(\"train score : \", f1_score(y_train, model.predict(X_train), average = 'macro'))\n",
    "print(\"test score : \", f1_score(y_val, model.predict(X_val), average = 'macro'))"
   ]
  },
  {
   "cell_type": "code",
   "execution_count": 15,
   "metadata": {},
   "outputs": [
    {
     "name": "stdout",
     "output_type": "stream",
     "text": [
      "train score :  0.7462899638937354\n",
      "test score :  0.7464703256031181\n"
     ]
    }
   ],
   "source": [
    "'''\n",
    "model = DecisionTreeClassifier()\n",
    "model.fit(X_train, y_train)\n",
    "\n",
    "print(\"train score : \", f1_score(y_train, model.predict(X_train), average = 'macro'))\n",
    "print(\"test score : \", f1_score(y_val, model.predict(X_val), average = 'macro'))\n",
    "\n",
    "'''"
   ]
  },
  {
   "cell_type": "code",
   "execution_count": 19,
   "metadata": {},
   "outputs": [
    {
     "name": "stdout",
     "output_type": "stream",
     "text": [
      "train score :  0.7420102386712704\n",
      "test score :  0.7456198207792556\n"
     ]
    }
   ],
   "source": [
    "'''\n",
    "model = LogisticRegression()\n",
    "model.fit(X_train, y_train)\n",
    "\n",
    "print(\"train score : \", f1_score(y_train, model.predict(X_train), average = 'macro'))\n",
    "print(\"test score : \", f1_score(y_val, model.predict(X_val), average = 'macro'))\n",
    "'''"
   ]
  },
  {
   "cell_type": "code",
   "execution_count": 21,
   "metadata": {},
   "outputs": [
    {
     "name": "stdout",
     "output_type": "stream",
     "text": [
      "train score :  0.7451346467087362\n"
     ]
    }
   ],
   "source": [
    "model.fit(X, y)\n",
    "print(\"train score : \", f1_score(y, model.predict(X), average = 'macro'))"
   ]
  },
  {
   "cell_type": "code",
   "execution_count": 11,
   "metadata": {},
   "outputs": [],
   "source": [
    "y_test = model.predict(X_test)\n",
    "TEST_DATA['label'] = y_test\n",
    "TEST_DATA[['acc_id', 'label']].to_csv(path+'result0907_stacking_RF.csv', index = False, encoding = False)"
   ]
  },
  {
   "cell_type": "code",
   "execution_count": 24,
   "metadata": {},
   "outputs": [
    {
     "data": {
      "text/plain": [
       "array([[0.02667654, 0.02861547, 0.07817276, 0.13042366],\n",
       "       [0.01806407, 0.01884893, 0.07149054, 0.09570259],\n",
       "       [0.00829071, 0.01199422, 0.03425666, 0.0792889 ],\n",
       "       [0.00538444, 0.00604851, 0.05439276, 0.03808288],\n",
       "       [0.01168186, 0.00997444, 0.05747004, 0.05688546],\n",
       "       [0.02368627, 0.0180026 , 0.06863335, 0.04793236]])"
      ]
     },
     "execution_count": 24,
     "metadata": {},
     "output_type": "execute_result"
    }
   ],
   "source": [
    "model.feature_importances_.reshape(-1,4)"
   ]
  },
  {
   "cell_type": "code",
   "execution_count": null,
   "metadata": {},
   "outputs": [],
   "source": []
  }
 ],
 "metadata": {
  "kernelspec": {
   "display_name": "Python 3",
   "language": "python",
   "name": "python3"
  },
  "language_info": {
   "codemirror_mode": {
    "name": "ipython",
    "version": 3
   },
   "file_extension": ".py",
   "mimetype": "text/x-python",
   "name": "python",
   "nbconvert_exporter": "python",
   "pygments_lexer": "ipython3",
   "version": "3.6.5"
  }
 },
 "nbformat": 4,
 "nbformat_minor": 2
}
