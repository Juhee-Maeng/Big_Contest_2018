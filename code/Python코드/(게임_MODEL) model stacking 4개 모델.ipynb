{
 "cells": [
  {
   "cell_type": "code",
   "execution_count": 2,
   "metadata": {},
   "outputs": [],
   "source": [
    "import pandas as pd\n",
    "import numpy as np\n",
    "\n",
    "from sklearn.svm import SVC\n",
    "from sklearn.model_selection import train_test_split\n",
    "from sklearn.ensemble import RandomForestClassifier\n",
    "from sklearn.ensemble import ExtraTreesClassifier\n",
    "from sklearn.tree import DecisionTreeClassifier\n",
    "from sklearn.linear_model import LogisticRegression\n",
    "from sklearn.metrics import f1_score\n",
    "\n",
    "pd.options.display.max_columns = 410"
   ]
  },
  {
   "cell_type": "code",
   "execution_count": 9,
   "metadata": {},
   "outputs": [],
   "source": [
    "path = 'data/final_data_rev/'\n",
    "# Load Data\n",
    "TRAIN_DATA = pd.read_csv(path+'train_meta.csv')\n",
    "TRAIN_META = TRAIN_DATA[['label', 'Model0', 'Model1', 'Model2', 'Model4']] \n",
    "\n",
    "TEST_DATA = pd.read_csv(path + 'test_meta.csv')\n",
    "TEST_META = TEST_DATA[['label', 'Model0', 'Model1', 'Model2',  'Model4']] \n",
    "\n",
    "# Preprocessing train dataset\n",
    "TRAIN_META = pd.concat([TRAIN_META['label'], pd.get_dummies(TRAIN_META.iloc[:,1:])], axis = 1)\n",
    "TRAIN_META['NUM_2month'] = TRAIN_META['Model0_2month'] + TRAIN_META['Model1_2month'] + TRAIN_META['Model2_2month']  + TRAIN_META['Model4_2month']\n",
    "TRAIN_META['NUM_month'] = TRAIN_META['Model0_month'] + TRAIN_META['Model1_month'] + TRAIN_META['Model2_month'] + TRAIN_META['Model4_month']\n",
    "TRAIN_META['NUM_week'] = TRAIN_META['Model0_week'] + TRAIN_META['Model1_week'] + TRAIN_META['Model2_week'] + TRAIN_META['Model4_week']\n",
    "TRAIN_META['NUM_retained'] = TRAIN_META['Model0_retained'] + TRAIN_META['Model1_retained'] + TRAIN_META['Model2_retained']  + TRAIN_META['Model4_retained']\n",
    "\n",
    "# Preprocessing test dataset\n",
    "TEST_META = pd.concat([TEST_META['label'], pd.get_dummies(TEST_META.iloc[:,1:])], axis = 1)\n",
    "TEST_META['NUM_2month'] = TEST_META['Model0_2month'] + TEST_META['Model1_2month'] + TEST_META['Model2_2month'] + TEST_META['Model4_2month']\n",
    "TEST_META['NUM_month'] = TEST_META['Model0_month'] + TEST_META['Model1_month'] + TEST_META['Model2_month'] + TEST_META['Model4_month']\n",
    "TEST_META['NUM_week'] = TEST_META['Model0_week'] + TEST_META['Model1_week'] + TEST_META['Model2_week'] + TEST_META['Model4_week']\n",
    "TEST_META['NUM_retained'] = TEST_META['Model0_retained'] + TEST_META['Model1_retained'] + TEST_META['Model2_retained']+ TEST_META['Model4_retained']"
   ]
  },
  {
   "cell_type": "code",
   "execution_count": 10,
   "metadata": {},
   "outputs": [],
   "source": [
    "# Construct train dataset\n",
    "X = TRAIN_META.drop('label', axis = 1).values\n",
    "y = TRAIN_META['label'].values\n",
    "\n",
    "X_train, X_val, y_train, y_val = train_test_split(X,y, test_size = 0.2, random_state = 1)\n",
    "\n",
    "# Construct test dataset\n",
    "X_test = TEST_META.drop('label', axis = 1).values"
   ]
  },
  {
   "cell_type": "code",
   "execution_count": 41,
   "metadata": {},
   "outputs": [
    {
     "data": {
      "text/html": [
       "<div>\n",
       "<style scoped>\n",
       "    .dataframe tbody tr th:only-of-type {\n",
       "        vertical-align: middle;\n",
       "    }\n",
       "\n",
       "    .dataframe tbody tr th {\n",
       "        vertical-align: top;\n",
       "    }\n",
       "\n",
       "    .dataframe thead th {\n",
       "        text-align: right;\n",
       "    }\n",
       "</style>\n",
       "<table border=\"1\" class=\"dataframe\">\n",
       "  <thead>\n",
       "    <tr style=\"text-align: right;\">\n",
       "      <th></th>\n",
       "      <th>Model0_2month</th>\n",
       "      <th>Model0_month</th>\n",
       "      <th>Model0_retained</th>\n",
       "      <th>Model0_week</th>\n",
       "      <th>Model1_2month</th>\n",
       "      <th>Model1_month</th>\n",
       "      <th>Model1_retained</th>\n",
       "      <th>Model1_week</th>\n",
       "      <th>Model2_2month</th>\n",
       "      <th>Model2_month</th>\n",
       "      <th>Model2_retained</th>\n",
       "      <th>Model2_week</th>\n",
       "      <th>Model3_2month</th>\n",
       "      <th>Model3_month</th>\n",
       "      <th>Model3_retained</th>\n",
       "      <th>Model3_week</th>\n",
       "      <th>Model4_2month</th>\n",
       "      <th>Model4_month</th>\n",
       "      <th>Model4_retained</th>\n",
       "      <th>Model4_week</th>\n",
       "      <th>NUM_2month</th>\n",
       "      <th>NUM_month</th>\n",
       "      <th>NUM_week</th>\n",
       "      <th>NUM_retained</th>\n",
       "    </tr>\n",
       "  </thead>\n",
       "  <tbody>\n",
       "    <tr>\n",
       "      <th>0</th>\n",
       "      <td>0</td>\n",
       "      <td>0</td>\n",
       "      <td>1</td>\n",
       "      <td>0</td>\n",
       "      <td>0</td>\n",
       "      <td>0</td>\n",
       "      <td>1</td>\n",
       "      <td>0</td>\n",
       "      <td>0</td>\n",
       "      <td>0</td>\n",
       "      <td>1</td>\n",
       "      <td>0</td>\n",
       "      <td>0</td>\n",
       "      <td>0</td>\n",
       "      <td>1</td>\n",
       "      <td>0</td>\n",
       "      <td>0</td>\n",
       "      <td>0</td>\n",
       "      <td>1</td>\n",
       "      <td>0</td>\n",
       "      <td>0</td>\n",
       "      <td>0</td>\n",
       "      <td>0</td>\n",
       "      <td>5</td>\n",
       "    </tr>\n",
       "    <tr>\n",
       "      <th>1</th>\n",
       "      <td>1</td>\n",
       "      <td>0</td>\n",
       "      <td>0</td>\n",
       "      <td>0</td>\n",
       "      <td>1</td>\n",
       "      <td>0</td>\n",
       "      <td>0</td>\n",
       "      <td>0</td>\n",
       "      <td>1</td>\n",
       "      <td>0</td>\n",
       "      <td>0</td>\n",
       "      <td>0</td>\n",
       "      <td>1</td>\n",
       "      <td>0</td>\n",
       "      <td>0</td>\n",
       "      <td>0</td>\n",
       "      <td>1</td>\n",
       "      <td>0</td>\n",
       "      <td>0</td>\n",
       "      <td>0</td>\n",
       "      <td>5</td>\n",
       "      <td>0</td>\n",
       "      <td>0</td>\n",
       "      <td>0</td>\n",
       "    </tr>\n",
       "    <tr>\n",
       "      <th>2</th>\n",
       "      <td>0</td>\n",
       "      <td>0</td>\n",
       "      <td>1</td>\n",
       "      <td>0</td>\n",
       "      <td>0</td>\n",
       "      <td>0</td>\n",
       "      <td>1</td>\n",
       "      <td>0</td>\n",
       "      <td>0</td>\n",
       "      <td>0</td>\n",
       "      <td>1</td>\n",
       "      <td>0</td>\n",
       "      <td>0</td>\n",
       "      <td>0</td>\n",
       "      <td>1</td>\n",
       "      <td>0</td>\n",
       "      <td>0</td>\n",
       "      <td>0</td>\n",
       "      <td>1</td>\n",
       "      <td>0</td>\n",
       "      <td>0</td>\n",
       "      <td>0</td>\n",
       "      <td>0</td>\n",
       "      <td>5</td>\n",
       "    </tr>\n",
       "    <tr>\n",
       "      <th>3</th>\n",
       "      <td>0</td>\n",
       "      <td>0</td>\n",
       "      <td>0</td>\n",
       "      <td>1</td>\n",
       "      <td>0</td>\n",
       "      <td>0</td>\n",
       "      <td>0</td>\n",
       "      <td>1</td>\n",
       "      <td>0</td>\n",
       "      <td>0</td>\n",
       "      <td>0</td>\n",
       "      <td>1</td>\n",
       "      <td>0</td>\n",
       "      <td>0</td>\n",
       "      <td>0</td>\n",
       "      <td>1</td>\n",
       "      <td>0</td>\n",
       "      <td>0</td>\n",
       "      <td>0</td>\n",
       "      <td>1</td>\n",
       "      <td>0</td>\n",
       "      <td>0</td>\n",
       "      <td>5</td>\n",
       "      <td>0</td>\n",
       "    </tr>\n",
       "    <tr>\n",
       "      <th>4</th>\n",
       "      <td>0</td>\n",
       "      <td>0</td>\n",
       "      <td>1</td>\n",
       "      <td>0</td>\n",
       "      <td>0</td>\n",
       "      <td>0</td>\n",
       "      <td>1</td>\n",
       "      <td>0</td>\n",
       "      <td>0</td>\n",
       "      <td>0</td>\n",
       "      <td>1</td>\n",
       "      <td>0</td>\n",
       "      <td>0</td>\n",
       "      <td>0</td>\n",
       "      <td>1</td>\n",
       "      <td>0</td>\n",
       "      <td>0</td>\n",
       "      <td>0</td>\n",
       "      <td>1</td>\n",
       "      <td>0</td>\n",
       "      <td>0</td>\n",
       "      <td>0</td>\n",
       "      <td>0</td>\n",
       "      <td>5</td>\n",
       "    </tr>\n",
       "  </tbody>\n",
       "</table>\n",
       "</div>"
      ],
      "text/plain": [
       "   Model0_2month  Model0_month  Model0_retained  Model0_week  Model1_2month  \\\n",
       "0              0             0                1            0              0   \n",
       "1              1             0                0            0              1   \n",
       "2              0             0                1            0              0   \n",
       "3              0             0                0            1              0   \n",
       "4              0             0                1            0              0   \n",
       "\n",
       "   Model1_month  Model1_retained  Model1_week  Model2_2month  Model2_month  \\\n",
       "0             0                1            0              0             0   \n",
       "1             0                0            0              1             0   \n",
       "2             0                1            0              0             0   \n",
       "3             0                0            1              0             0   \n",
       "4             0                1            0              0             0   \n",
       "\n",
       "   Model2_retained  Model2_week  Model3_2month  Model3_month  Model3_retained  \\\n",
       "0                1            0              0             0                1   \n",
       "1                0            0              1             0                0   \n",
       "2                1            0              0             0                1   \n",
       "3                0            1              0             0                0   \n",
       "4                1            0              0             0                1   \n",
       "\n",
       "   Model3_week  Model4_2month  Model4_month  Model4_retained  Model4_week  \\\n",
       "0            0              0             0                1            0   \n",
       "1            0              1             0                0            0   \n",
       "2            0              0             0                1            0   \n",
       "3            1              0             0                0            1   \n",
       "4            0              0             0                1            0   \n",
       "\n",
       "   NUM_2month  NUM_month  NUM_week  NUM_retained  \n",
       "0           0          0         0             5  \n",
       "1           5          0         0             0  \n",
       "2           0          0         0             5  \n",
       "3           0          0         5             0  \n",
       "4           0          0         0             5  "
      ]
     },
     "execution_count": 41,
     "metadata": {},
     "output_type": "execute_result"
    }
   ],
   "source": [
    "'''\n",
    "model = SVC()\n",
    "model.fit(X_train, y_train)\n",
    "f1_score(y_test, model.predict(X_val), average = 'macro')\n",
    "'''"
   ]
  },
  {
   "cell_type": "code",
   "execution_count": 5,
   "metadata": {},
   "outputs": [
    {
     "name": "stdout",
     "output_type": "stream",
     "text": [
      "train score :  0.74563876953433\n",
      "test score :  0.7466330406512977\n"
     ]
    }
   ],
   "source": [
    "'''\n",
    "model = RandomForestClassifier(n_estimators=300)\n",
    "model.fit(X_train, y_train)\n",
    "\n",
    "print(\"train score : \", f1_score(y_train, model.predict(X_train), average = 'macro'))\n",
    "print(\"test score : \", f1_score(y_val, model.predict(X_val), average = 'macro'))\n",
    "'''"
   ]
  },
  {
   "cell_type": "code",
   "execution_count": 12,
   "metadata": {},
   "outputs": [
    {
     "name": "stdout",
     "output_type": "stream",
     "text": [
      "train score :  0.7455600530997288\n",
      "test score :  0.7475181356032725\n"
     ]
    }
   ],
   "source": [
    "model = ExtraTreesClassifier(n_estimators=500)\n",
    "model.fit(X_train, y_train)\n",
    "\n",
    "print(\"train score : \", f1_score(y_train, model.predict(X_train), average = 'macro'))\n",
    "print(\"test score : \", f1_score(y_val, model.predict(X_val), average = 'macro'))"
   ]
  },
  {
   "cell_type": "code",
   "execution_count": 25,
   "metadata": {
    "scrolled": true
   },
   "outputs": [
    {
     "data": {
      "text/plain": [
       "2month      1917\n",
       "month       1170\n",
       "retained    1110\n",
       "week         769\n",
       "Name: 0, dtype: int64"
      ]
     },
     "metadata": {},
     "output_type": "display_data"
    },
    {
     "data": {
      "text/plain": [
       "month       2166\n",
       "2month      1532\n",
       "retained     820\n",
       "week         448\n",
       "Name: 1, dtype: int64"
      ]
     },
     "metadata": {},
     "output_type": "display_data"
    }
   ],
   "source": [
    "result = pd.DataFrame(np.concatenate((model.predict(X_val).reshape(-1,1), y_val.reshape(-1,1)),axis=1))\n",
    "display(pd.value_counts(result[result[0] != result[1]][0]))\n",
    "display(pd.value_counts(result[result[0] != result[1]][1]))"
   ]
  },
  {
   "cell_type": "code",
   "execution_count": 15,
   "metadata": {},
   "outputs": [
    {
     "name": "stdout",
     "output_type": "stream",
     "text": [
      "train score :  0.7462899638937354\n",
      "test score :  0.7464703256031181\n"
     ]
    }
   ],
   "source": [
    "'''\n",
    "model = DecisionTreeClassifier()\n",
    "model.fit(X_train, y_train)\n",
    "\n",
    "print(\"train score : \", f1_score(y_train, model.predict(X_train), average = 'macro'))\n",
    "print(\"test score : \", f1_score(y_val, model.predict(X_val), average = 'macro'))\n",
    "\n",
    "'''"
   ]
  },
  {
   "cell_type": "code",
   "execution_count": 19,
   "metadata": {},
   "outputs": [
    {
     "name": "stdout",
     "output_type": "stream",
     "text": [
      "train score :  0.7420102386712704\n",
      "test score :  0.7456198207792556\n"
     ]
    }
   ],
   "source": [
    "'''\n",
    "model = LogisticRegression()\n",
    "model.fit(X_train, y_train)\n",
    "\n",
    "print(\"train score : \", f1_score(y_train, model.predict(X_train), average = 'macro'))\n",
    "print(\"test score : \", f1_score(y_val, model.predict(X_val), average = 'macro'))\n",
    "'''"
   ]
  },
  {
   "cell_type": "code",
   "execution_count": 20,
   "metadata": {},
   "outputs": [
    {
     "name": "stdout",
     "output_type": "stream",
     "text": [
      "train score :  0.7447346411036887\n",
      "test score :  0.7487918524413306\n"
     ]
    }
   ],
   "source": [
    "model = SVC()\n",
    "model.fit(X_train, y_train)\n",
    "\n",
    "print(\"train score : \", f1_score(y_train, model.predict(X_train), average = 'macro'))\n",
    "print(\"test score : \", f1_score(y_val, model.predict(X_val), average = 'macro'))"
   ]
  },
  {
   "cell_type": "code",
   "execution_count": null,
   "metadata": {},
   "outputs": [],
   "source": [
    "model.fit(X, y)\n",
    "print(\"train score : \", f1_score(y, model.predict(X), average = 'macro'))"
   ]
  },
  {
   "cell_type": "code",
   "execution_count": 11,
   "metadata": {},
   "outputs": [],
   "source": [
    "y_test = model.predict(X_test)\n",
    "TEST_DATA['label'] = y_test\n",
    "TEST_DATA[['acc_id', 'label']].to_csv(path+'result0907_stacking_RF.csv', index = False, encoding = False)"
   ]
  },
  {
   "cell_type": "code",
   "execution_count": null,
   "metadata": {},
   "outputs": [],
   "source": []
  }
 ],
 "metadata": {
  "kernelspec": {
   "display_name": "Python 3",
   "language": "python",
   "name": "python3"
  },
  "language_info": {
   "codemirror_mode": {
    "name": "ipython",
    "version": 3
   },
   "file_extension": ".py",
   "mimetype": "text/x-python",
   "name": "python",
   "nbconvert_exporter": "python",
   "pygments_lexer": "ipython3",
   "version": "3.6.5"
  }
 },
 "nbformat": 4,
 "nbformat_minor": 2
}
