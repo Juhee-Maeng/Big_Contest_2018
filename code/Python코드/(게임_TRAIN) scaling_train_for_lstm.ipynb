{
 "cells": [
  {
   "cell_type": "code",
   "execution_count": 1,
   "metadata": {},
   "outputs": [],
   "source": [
    "# Importing Libraries\n",
    "import pandas as pd\n",
    "import numpy as np\n",
    "\n",
    "def preprocess_data(filename): \n",
    "    path = 'data/final_data_rev/train/'\n",
    "    DF = pd.read_csv(path+'train_ver1_3.csv')\n",
    "\n",
    "    DF_wk1 = DF.loc[0:99999, :]\n",
    "    DF_wk2 = DF.loc[100000:199999, :].reset_index(drop=True)\n",
    "    DF_wk3 = DF.loc[200000:299999, :].reset_index(drop=True)\n",
    "    DF_wk4 = DF.loc[300000:399999, :].reset_index(drop=True)\n",
    "    DF_wk5 = DF.loc[400000:499999, :].reset_index(drop=True)\n",
    "    DF_wk6 = DF.loc[500000:599999, :].reset_index(drop=True)\n",
    "    DF_wk7 = DF.loc[600000:699999, :].reset_index(drop=True)\n",
    "    DF_wk8 = DF.loc[700000:799999, :].reset_index(drop=True)\n",
    "\n",
    "    DF_full = pd.merge(left = DF_wk1, right = DF_wk2, how = 'left', on = ['acc_id', 'label', 'guild'])\n",
    "    DF_full = pd.merge(left = DF_full, right = DF_wk3, how = 'left', on = ['acc_id', 'label', 'guild'])\n",
    "    DF_full = pd.merge(left = DF_full, right = DF_wk4, how = 'left', on = ['acc_id', 'label', 'guild'])\n",
    "    DF_full = pd.merge(left = DF_full, right = DF_wk5, how = 'left', on = ['acc_id', 'label', 'guild'])\n",
    "    DF_full = pd.merge(left = DF_full, right = DF_wk6, how = 'left', on = ['acc_id', 'label', 'guild'])\n",
    "    DF_full = pd.merge(left = DF_full, right = DF_wk7, how = 'left', on = ['acc_id', 'label', 'guild'])\n",
    "    DF_full = pd.merge(left = DF_full, right = DF_wk8, how = 'left', on = ['acc_id', 'label', 'guild'])\n",
    "\n",
    "    X_guild = DF_full['guild']\n",
    "    y = pd.get_dummies(DF_full['label'])\n",
    "    y = y[['week', 'month', '2month', 'retained']]\n",
    "    DF_full = DF_full.drop(['acc_id', 'label', 'guild'], axis = 1)\n",
    "    X = DF_full.values.reshape(100000, 8, 50)\n",
    "    \n",
    "    return X,X_guild,y"
   ]
  },
  {
   "cell_type": "code",
   "execution_count": null,
   "metadata": {},
   "outputs": [],
   "source": []
  }
 ],
 "metadata": {
  "kernelspec": {
   "display_name": "Python 3",
   "language": "python",
   "name": "python3"
  },
  "language_info": {
   "codemirror_mode": {
    "name": "ipython",
    "version": 3
   },
   "file_extension": ".py",
   "mimetype": "text/x-python",
   "name": "python",
   "nbconvert_exporter": "python",
   "pygments_lexer": "ipython3",
   "version": "3.6.5"
  }
 },
 "nbformat": 4,
 "nbformat_minor": 2
}
