{
 "cells": [
  {
   "cell_type": "code",
   "execution_count": 1,
   "metadata": {},
   "outputs": [],
   "source": [
    "import pandas as pd\n",
    "import numpy as np\n",
    "\n",
    "from sklearn.model_selection import train_test_split\n",
    "from sklearn.model_selection import KFold\n",
    "from sklearn.decomposition import PCA\n",
    "\n",
    "from sklearn.svm import SVC\n",
    "from sklearn.ensemble import RandomForestClassifier\n",
    "from sklearn.ensemble import ExtraTreesClassifier\n",
    "from sklearn.linear_model import LogisticRegression\n",
    "from sklearn.metrics import f1_score\n",
    "\n",
    "pd.options.display.max_columns = 410"
   ]
  },
  {
   "cell_type": "code",
   "execution_count": 2,
   "metadata": {},
   "outputs": [],
   "source": [
    "# Load Data\n",
    "TRAIN_META = pd.read_csv('data/train_meta.csv')\n",
    "TEST_META = pd.read_csv('data/test_meta.csv')"
   ]
  },
  {
   "cell_type": "code",
   "execution_count": 3,
   "metadata": {},
   "outputs": [],
   "source": [
    "# Load Data\n",
    "TRAIN_META = pd.read_csv('data/train_meta.csv')\n",
    "TEST_META = pd.read_csv('data/test_meta.csv')\n",
    "TRAIN_META = TRAIN_META[['acc_id', 'label', 'Model1', 'Model2','Model3', 'Model4', 'Model8']]\n",
    "TEST_META = TEST_META[['acc_id', 'label', 'Model1', 'Model2','Model3', 'Model4', 'Model8']]\n",
    "# Preprocessing train dataset\n",
    "TRAIN_META = pd.concat([TRAIN_META['label'], pd.get_dummies(TRAIN_META.iloc[:,2:])], axis = 1)\n",
    "TRAIN_META['NUM_2month'] = (TRAIN_META['Model1_2month'] + TRAIN_META['Model2_2month'] + \n",
    "                            TRAIN_META['Model3_2month'] + TRAIN_META['Model4_2month'] + TRAIN_META['Model8_2month'])\n",
    "TRAIN_META['NUM_month'] = (TRAIN_META['Model1_month'] + TRAIN_META['Model2_month'] + \n",
    "                           TRAIN_META['Model3_month'] + TRAIN_META['Model4_month'] + TRAIN_META['Model8_month'])\n",
    "TRAIN_META['NUM_week'] = (TRAIN_META['Model1_week'] + TRAIN_META['Model2_week'] + \n",
    "                          TRAIN_META['Model3_week'] + TRAIN_META['Model4_week'] + TRAIN_META['Model8_week'])\n",
    "TRAIN_META['NUM_retained'] = (TRAIN_META['Model1_retained'] + TRAIN_META['Model2_retained'] + \n",
    "                              TRAIN_META['Model3_retained'] + TRAIN_META['Model4_retained'] + TRAIN_META['Model8_retained'])\n",
    "\n",
    "# Preprocessing test dataset\n",
    "TEST_META = pd.concat([TEST_META['label'], pd.get_dummies(TEST_META.iloc[:,2:])], axis = 1)\n",
    "TEST_META['NUM_2month'] = (TEST_META['Model1_2month'] + TEST_META['Model2_2month'] + \n",
    "                           TEST_META['Model3_2month'] + TEST_META['Model4_2month'] + TEST_META['Model8_2month'])\n",
    "TEST_META['NUM_month'] = (TEST_META['Model1_month'] + TEST_META['Model2_month'] + \n",
    "                          TEST_META['Model3_month'] + TEST_META['Model4_month']  + TEST_META['Model8_month'])\n",
    "TEST_META['NUM_week'] = (TEST_META['Model1_week'] + TEST_META['Model2_week'] + \n",
    "                         TEST_META['Model3_week'] + TEST_META['Model4_week'] + TEST_META['Model8_week'])\n",
    "TEST_META['NUM_retained'] = (TEST_META['Model1_retained'] + TEST_META['Model2_retained'] + \n",
    "                             TEST_META['Model3_retained'] + TEST_META['Model4_retained'] + TEST_META['Model8_retained'])"
   ]
  },
  {
   "cell_type": "code",
   "execution_count": 5,
   "metadata": {},
   "outputs": [],
   "source": [
    "# Construct train dataset\n",
    "X = TRAIN_META.drop('label', axis = 1).values\n",
    "y = TRAIN_META['label'].values\n",
    "\n",
    "# Construct test dataset\n",
    "X_test = TEST_META.drop('label', axis = 1).values\n",
    "\n",
    "# kfold\n",
    "kf = KFold(n_splits = 5, shuffle = True, random_state = 1)"
   ]
  },
  {
   "cell_type": "code",
   "execution_count": 6,
   "metadata": {},
   "outputs": [
    {
     "name": "stdout",
     "output_type": "stream",
     "text": [
      "1 fold f1:  0.7489814750737107\n",
      "2 fold f1:  0.7408732080250685\n",
      "3 fold f1:  0.7484860795352042\n",
      "4 fold f1:  0.7431009455531724\n",
      "5 fold f1:  0.7409749856870427\n",
      "average f1 :  0.7444833387748397\n",
      "std f1 :  0.0035639236859482375\n"
     ]
    }
   ],
   "source": [
    "model = RandomForestClassifier(n_estimators = 150, random_state = 1)\n",
    "accuracy = []\n",
    "count = 1\n",
    "for train_index, test_index in kf.split(X):\n",
    "    X_train, X_val, y_train, y_val = X[train_index], X[test_index], y[train_index], y[test_index]\n",
    "    model.fit(X_train, y_train)\n",
    "    f1 = f1_score(y_val, model.predict(X_val), average = 'macro')\n",
    "    print(count,\"fold f1: \", f1)\n",
    "    accuracy.append(f1)\n",
    "    count += 1\n",
    "print(\"average f1 : \", np.array(accuracy).mean())\n",
    "print(\"std f1 : \", np.array(accuracy).std())"
   ]
  },
  {
   "cell_type": "code",
   "execution_count": 7,
   "metadata": {},
   "outputs": [
    {
     "name": "stdout",
     "output_type": "stream",
     "text": [
      "1 fold f1:  0.748995911401632\n",
      "2 fold f1:  0.7409115202199851\n",
      "3 fold f1:  0.7487627466726539\n",
      "4 fold f1:  0.7432816924935175\n",
      "5 fold f1:  0.740680197654223\n",
      "average f1 :  0.7445264136884022\n",
      "std f1 :  0.0036696890981281326\n"
     ]
    }
   ],
   "source": [
    "model = RandomForestClassifier(n_estimators = 200, random_state = 1)\n",
    "accuracy = []\n",
    "count = 1\n",
    "for train_index, test_index in kf.split(X):\n",
    "    X_train, X_val, y_train, y_val = X[train_index], X[test_index], y[train_index], y[test_index]\n",
    "    model.fit(X_train, y_train)\n",
    "    f1 = f1_score(y_val, model.predict(X_val), average = 'macro')\n",
    "    print(count,\"fold f1: \", f1)\n",
    "    accuracy.append(f1)\n",
    "    count += 1\n",
    "print(\"average f1 : \", np.array(accuracy).mean())\n",
    "print(\"std f1 : \", np.array(accuracy).std())"
   ]
  },
  {
   "cell_type": "code",
   "execution_count": 8,
   "metadata": {},
   "outputs": [
    {
     "name": "stdout",
     "output_type": "stream",
     "text": [
      "1 fold f1:  0.7490738266404638\n",
      "2 fold f1:  0.7404775692653515\n",
      "3 fold f1:  0.7484039566086262\n",
      "4 fold f1:  0.7433547201303261\n",
      "5 fold f1:  0.7401346346729394\n",
      "average f1 :  0.7442889414635414\n",
      "std f1 :  0.003807520669507167\n"
     ]
    }
   ],
   "source": [
    "model = ExtraTreesClassifier(n_estimators = 150, random_state = 1)\n",
    "accuracy = []\n",
    "count = 1\n",
    "for train_index, test_index in kf.split(X):\n",
    "    X_train, X_val, y_train, y_val = X[train_index], X[test_index], y[train_index], y[test_index]\n",
    "    model.fit(X_train, y_train)\n",
    "    f1 = f1_score(y_val, model.predict(X_val), average = 'macro')\n",
    "    print(count,\"fold f1: \", f1)\n",
    "    accuracy.append(f1)\n",
    "    count += 1\n",
    "print(\"average f1 : \", np.array(accuracy).mean())\n",
    "print(\"std f1 : \", np.array(accuracy).std())"
   ]
  },
  {
   "cell_type": "code",
   "execution_count": 9,
   "metadata": {},
   "outputs": [
    {
     "name": "stdout",
     "output_type": "stream",
     "text": [
      "1 fold f1:  0.7501263931674769\n",
      "2 fold f1:  0.7421086665130959\n",
      "3 fold f1:  0.748722879244835\n",
      "4 fold f1:  0.743434849122131\n",
      "5 fold f1:  0.7419266566104321\n",
      "average f1 :  0.7452638889315942\n",
      "std f1 :  0.0034654435828988805\n"
     ]
    }
   ],
   "source": [
    "model = SVC()\n",
    "accuracy = []\n",
    "count = 1\n",
    "for train_index, test_index in kf.split(X):\n",
    "    X_train, X_val, y_train, y_val = X[train_index], X[test_index], y[train_index], y[test_index]\n",
    "    model.fit(X_train, y_train)\n",
    "    f1 = f1_score(y_val, model.predict(X_val), average = 'macro')\n",
    "    print(count,\"fold f1: \", f1)\n",
    "    accuracy.append(f1)\n",
    "    count += 1\n",
    "print(\"average f1 : \", np.array(accuracy).mean())\n",
    "print(\"std f1 : \", np.array(accuracy).std())"
   ]
  },
  {
   "cell_type": "code",
   "execution_count": null,
   "metadata": {},
   "outputs": [],
   "source": []
  }
 ],
 "metadata": {
  "kernelspec": {
   "display_name": "Python 3",
   "language": "python",
   "name": "python3"
  },
  "language_info": {
   "codemirror_mode": {
    "name": "ipython",
    "version": 3
   },
   "file_extension": ".py",
   "mimetype": "text/x-python",
   "name": "python",
   "nbconvert_exporter": "python",
   "pygments_lexer": "ipython3",
   "version": "3.6.5"
  }
 },
 "nbformat": 4,
 "nbformat_minor": 2
}
