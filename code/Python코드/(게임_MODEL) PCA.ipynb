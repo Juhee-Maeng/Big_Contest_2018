{
 "cells": [
  {
   "cell_type": "code",
   "execution_count": 1,
   "metadata": {},
   "outputs": [],
   "source": [
    "import pandas as pd\n",
    "from sklearn.decomposition import PCA"
   ]
  },
  {
   "cell_type": "code",
   "execution_count": 2,
   "metadata": {},
   "outputs": [],
   "source": [
    "DF1 = pd.read_csv('data/final_data_rev/train/train_ver1_1.csv')\n",
    "DF2 = pd.read_csv('data/final_data_rev/train/train_feature.csv')\n",
    "DF3 = pd.read_csv('data/final_data_rev/test/test_ver1_1.csv')\n",
    "DF4 = pd.read_csv('data/final_data_rev/test/test_feature.csv')\n",
    "\n",
    "TRAIN = pd.merge(left = DF1, right = DF2, on = ['acc_id', 'label', 'guild'], how = 'left')\n",
    "TEST = pd.merge(left = DF3, right = DF4, on = ['acc_id', 'label', 'guild'], how = 'left')\n",
    "del DF1, DF2, DF3, DF4"
   ]
  },
  {
   "cell_type": "code",
   "execution_count": 3,
   "metadata": {},
   "outputs": [],
   "source": [
    "FULL = pd.concat([TRAIN, TEST], ignore_index=True)\n",
    "\n",
    "X = FULL.drop(['acc_id', 'label'],axis = 1)\n",
    "X = X.values\n",
    "\n",
    "pca = PCA(0.98)\n",
    "pca.fit(X)\n",
    "pca_result = pca.transform(X)"
   ]
  },
  {
   "cell_type": "code",
   "execution_count": 4,
   "metadata": {
    "scrolled": true
   },
   "outputs": [],
   "source": [
    "FULL = pd.concat([FULL,pd.DataFrame(pca_result)], axis = 1)"
   ]
  },
  {
   "cell_type": "code",
   "execution_count": 6,
   "metadata": {
    "scrolled": true
   },
   "outputs": [],
   "source": [
    "TRAIN = FULL.loc[0:99999,:]\n",
    "TEST = FULL.loc[100000:,]"
   ]
  },
  {
   "cell_type": "code",
   "execution_count": 10,
   "metadata": {},
   "outputs": [],
   "source": [
    "TRAIN.to_csv('data/train(0903).csv', index = False, encoding = False)\n",
    "TEST.to_csv('data/test(0903).csv', index = False, encoding = False)"
   ]
  },
  {
   "cell_type": "code",
   "execution_count": null,
   "metadata": {},
   "outputs": [],
   "source": []
  }
 ],
 "metadata": {
  "kernelspec": {
   "display_name": "Python 3",
   "language": "python",
   "name": "python3"
  },
  "language_info": {
   "codemirror_mode": {
    "name": "ipython",
    "version": 3
   },
   "file_extension": ".py",
   "mimetype": "text/x-python",
   "name": "python",
   "nbconvert_exporter": "python",
   "pygments_lexer": "ipython3",
   "version": "3.6.5"
  }
 },
 "nbformat": 4,
 "nbformat_minor": 2
}
