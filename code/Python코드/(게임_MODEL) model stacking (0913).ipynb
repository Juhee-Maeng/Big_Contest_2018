{
 "cells": [
  {
   "cell_type": "code",
   "execution_count": 1,
   "metadata": {},
   "outputs": [],
   "source": [
    "import pandas as pd\n",
    "import numpy as np\n",
    "\n",
    "from sklearn.model_selection import train_test_split\n",
    "from sklearn.model_selection import KFold\n",
    "from sklearn.decomposition import PCA\n",
    "\n",
    "from sklearn.svm import SVC\n",
    "from sklearn.ensemble import RandomForestClassifier\n",
    "from sklearn.ensemble import ExtraTreesClassifier\n",
    "from sklearn.linear_model import LogisticRegression\n",
    "from sklearn.metrics import f1_score\n",
    "\n",
    "pd.options.display.max_columns = 410"
   ]
  },
  {
   "cell_type": "code",
   "execution_count": 2,
   "metadata": {},
   "outputs": [],
   "source": [
    "# Load Data\n",
    "TRAIN_META = pd.read_csv('data/train_meta.csv')\n",
    "TEST_META = pd.read_csv('data/test_meta.csv')"
   ]
  },
  {
   "cell_type": "code",
   "execution_count": 3,
   "metadata": {},
   "outputs": [],
   "source": [
    "# Load Data\n",
    "TRAIN_META = pd.read_csv('data/train_meta.csv')\n",
    "TEST_META = pd.read_csv('data/test_meta.csv')\n",
    "\n",
    "# Preprocessing train dataset\n",
    "TRAIN_META = pd.concat([TRAIN_META['label'], pd.get_dummies(TRAIN_META.iloc[:,2:])], axis = 1)\n",
    "TRAIN_META['NUM_2month'] = (TRAIN_META['Model0_2month'] + TRAIN_META['Model1_2month'] + TRAIN_META['Model2_2month'] + \n",
    "                            TRAIN_META['Model3_2month'] + TRAIN_META['Model4_2month'] + TRAIN_META['Model5_2month'] +\n",
    "                            TRAIN_META['Model6_2month'] + TRAIN_META['Model7_2month'] + TRAIN_META['Model8_2month'])\n",
    "TRAIN_META['NUM_month'] = (TRAIN_META['Model0_month'] + TRAIN_META['Model1_month'] + TRAIN_META['Model2_month'] + \n",
    "                           TRAIN_META['Model3_month'] + TRAIN_META['Model4_month'] + TRAIN_META['Model5_month'] +\n",
    "                           TRAIN_META['Model6_month'] + TRAIN_META['Model7_month'] + TRAIN_META['Model8_month'])\n",
    "TRAIN_META['NUM_week'] = (TRAIN_META['Model0_week'] + TRAIN_META['Model1_week'] + TRAIN_META['Model2_week'] + \n",
    "                          TRAIN_META['Model3_week'] + TRAIN_META['Model4_week'] + TRAIN_META['Model5_week'] +\n",
    "                          TRAIN_META['Model6_week'] + TRAIN_META['Model7_week'] + TRAIN_META['Model8_week'])\n",
    "TRAIN_META['NUM_retained'] = (TRAIN_META['Model0_retained'] + TRAIN_META['Model1_retained'] + TRAIN_META['Model2_retained'] + \n",
    "                              TRAIN_META['Model3_retained'] + TRAIN_META['Model4_retained'] + TRAIN_META['Model5_retained'] +\n",
    "                              TRAIN_META['Model6_retained'] + TRAIN_META['Model7_retained'] + TRAIN_META['Model8_retained'])\n",
    "\n",
    "# Preprocessing test dataset\n",
    "TEST_META = pd.concat([TEST_META['label'], pd.get_dummies(TEST_META.iloc[:,2:])], axis = 1)\n",
    "TEST_META['NUM_2month'] = (TEST_META['Model0_2month'] + TEST_META['Model1_2month'] + TEST_META['Model2_2month'] + \n",
    "                           TEST_META['Model3_2month'] + TEST_META['Model4_2month'] + TEST_META['Model5_2month'] + \n",
    "                           TEST_META['Model6_2month'] + TEST_META['Model7_2month'] + TEST_META['Model8_2month'])\n",
    "TEST_META['NUM_month'] = (TEST_META['Model0_month'] + TEST_META['Model1_month'] + TEST_META['Model2_month'] + \n",
    "                          TEST_META['Model3_month'] + TEST_META['Model4_month'] + TEST_META['Model5_month'] + \n",
    "                          TEST_META['Model6_month'] + TEST_META['Model7_month'] + TEST_META['Model8_month'])\n",
    "TEST_META['NUM_week'] = (TEST_META['Model0_week'] + TEST_META['Model1_week'] + TEST_META['Model2_week'] + \n",
    "                         TEST_META['Model3_week'] + TEST_META['Model4_week'] + TEST_META['Model5_week'] + \n",
    "                         TEST_META['Model6_week'] + TEST_META['Model7_week'] + TEST_META['Model8_week'])\n",
    "TEST_META['NUM_retained'] = (TEST_META['Model0_retained'] + TEST_META['Model1_retained'] + TEST_META['Model2_retained'] + \n",
    "                             TEST_META['Model3_retained'] + TEST_META['Model4_retained'] + TEST_META['Model5_retained'] + \n",
    "                             TEST_META['Model6_retained'] + TEST_META['Model7_retained'] + TEST_META['Model8_retained'])"
   ]
  },
  {
   "cell_type": "code",
   "execution_count": 4,
   "metadata": {},
   "outputs": [],
   "source": [
    "# Construct train dataset\n",
    "X = TRAIN_META.drop('label', axis = 1).values\n",
    "y = TRAIN_META['label'].values\n",
    "\n",
    "# Construct test dataset\n",
    "X_test = TEST_META.drop('label', axis = 1).values\n",
    "\n",
    "# kfold\n",
    "kf = KFold(n_splits = 5, shuffle = True, random_state = 1)"
   ]
  },
  {
   "cell_type": "code",
   "execution_count": 5,
   "metadata": {},
   "outputs": [
    {
     "name": "stdout",
     "output_type": "stream",
     "text": [
      "1 fold f1:  0.7472519644362938\n",
      "2 fold f1:  0.7387402146505039\n",
      "3 fold f1:  0.7459513243821966\n",
      "4 fold f1:  0.7424397984919269\n",
      "5 fold f1:  0.7373057469883619\n",
      "average f1 :  0.7423378097898566\n",
      "std f1 :  0.0038853867791607366\n"
     ]
    }
   ],
   "source": [
    "model = RandomForestClassifier(n_estimators = 150, random_state = 1)\n",
    "accuracy = []\n",
    "count = 1\n",
    "for train_index, test_index in kf.split(X):\n",
    "    X_train, X_val, y_train, y_val = X[train_index], X[test_index], y[train_index], y[test_index]\n",
    "    model.fit(X_train, y_train)\n",
    "    f1 = f1_score(y_val, model.predict(X_val), average = 'macro')\n",
    "    print(count,\"fold f1: \", f1)\n",
    "    accuracy.append(f1)\n",
    "    count += 1\n",
    "print(\"average f1 : \", np.array(accuracy).mean())\n",
    "print(\"std f1 : \", np.array(accuracy).std())"
   ]
  },
  {
   "cell_type": "code",
   "execution_count": 6,
   "metadata": {},
   "outputs": [
    {
     "name": "stdout",
     "output_type": "stream",
     "text": [
      "1 fold f1:  0.7474048952154835\n",
      "2 fold f1:  0.7382087699744834\n",
      "3 fold f1:  0.7459083098488551\n",
      "4 fold f1:  0.7424011197595209\n",
      "5 fold f1:  0.7374036567915373\n",
      "average f1 :  0.742265350317976\n",
      "std f1 :  0.003994907189575311\n"
     ]
    }
   ],
   "source": [
    "model = RandomForestClassifier(n_estimators = 200, random_state = 1)\n",
    "accuracy = []\n",
    "count = 1\n",
    "for train_index, test_index in kf.split(X):\n",
    "    X_train, X_val, y_train, y_val = X[train_index], X[test_index], y[train_index], y[test_index]\n",
    "    model.fit(X_train, y_train)\n",
    "    f1 = f1_score(y_val, model.predict(X_val), average = 'macro')\n",
    "    print(count,\"fold f1: \", f1)\n",
    "    accuracy.append(f1)\n",
    "    count += 1\n",
    "print(\"average f1 : \", np.array(accuracy).mean())\n",
    "print(\"std f1 : \", np.array(accuracy).std())"
   ]
  },
  {
   "cell_type": "code",
   "execution_count": 7,
   "metadata": {},
   "outputs": [
    {
     "name": "stdout",
     "output_type": "stream",
     "text": [
      "1 fold f1:  0.7470922374943729\n",
      "2 fold f1:  0.7372987494295847\n",
      "3 fold f1:  0.7457465354571502\n",
      "4 fold f1:  0.7421968788767896\n",
      "5 fold f1:  0.7372381509055457\n",
      "average f1 :  0.7419145104326885\n",
      "std f1 :  0.00411695502323008\n"
     ]
    }
   ],
   "source": [
    "model = ExtraTreesClassifier(n_estimators = 150, random_state = 1)\n",
    "accuracy = []\n",
    "count = 1\n",
    "for train_index, test_index in kf.split(X):\n",
    "    X_train, X_val, y_train, y_val = X[train_index], X[test_index], y[train_index], y[test_index]\n",
    "    model.fit(X_train, y_train)\n",
    "    f1 = f1_score(y_val, model.predict(X_val), average = 'macro')\n",
    "    print(count,\"fold f1: \", f1)\n",
    "    accuracy.append(f1)\n",
    "    count += 1\n",
    "print(\"average f1 : \", np.array(accuracy).mean())\n",
    "print(\"std f1 : \", np.array(accuracy).std())"
   ]
  },
  {
   "cell_type": "code",
   "execution_count": 8,
   "metadata": {},
   "outputs": [
    {
     "name": "stdout",
     "output_type": "stream",
     "text": [
      "1 fold f1:  0.7506644056239032\n",
      "2 fold f1:  0.743025010555905\n",
      "3 fold f1:  0.7490207281154346\n",
      "4 fold f1:  0.744381086395666\n",
      "5 fold f1:  0.7433532155269454\n",
      "average f1 :  0.7460888892435709\n",
      "std f1 :  0.003140664999045316\n"
     ]
    }
   ],
   "source": [
    "model = SVC()\n",
    "accuracy = []\n",
    "count = 1\n",
    "for train_index, test_index in kf.split(X):\n",
    "    X_train, X_val, y_train, y_val = X[train_index], X[test_index], y[train_index], y[test_index]\n",
    "    model.fit(X_train, y_train)\n",
    "    f1 = f1_score(y_val, model.predict(X_val), average = 'macro')\n",
    "    print(count,\"fold f1: \", f1)\n",
    "    accuracy.append(f1)\n",
    "    count += 1\n",
    "print(\"average f1 : \", np.array(accuracy).mean())\n",
    "print(\"std f1 : \", np.array(accuracy).std())"
   ]
  },
  {
   "cell_type": "code",
   "execution_count": null,
   "metadata": {},
   "outputs": [],
   "source": []
  }
 ],
 "metadata": {
  "kernelspec": {
   "display_name": "Python 3",
   "language": "python",
   "name": "python3"
  },
  "language_info": {
   "codemirror_mode": {
    "name": "ipython",
    "version": 3
   },
   "file_extension": ".py",
   "mimetype": "text/x-python",
   "name": "python",
   "nbconvert_exporter": "python",
   "pygments_lexer": "ipython3",
   "version": "3.6.5"
  }
 },
 "nbformat": 4,
 "nbformat_minor": 2
}
