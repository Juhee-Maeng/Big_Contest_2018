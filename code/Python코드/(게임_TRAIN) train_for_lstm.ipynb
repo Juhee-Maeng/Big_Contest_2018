{
 "cells": [
  {
   "cell_type": "code",
   "execution_count": 1,
   "metadata": {},
   "outputs": [],
   "source": [
    "# Importing Libraries\n",
    "import pandas as pd\n",
    "import numpy as np\n",
    "\n",
    "path = 'data/final_data_rev/test/'\n",
    "DF = pd.read_csv(path+'test_ver1_1.csv')\n",
    "\n",
    "col_list = DF.columns.tolist()\n",
    "weekend = ['wk1', 'wk2', 'wk3', 'wk4', 'wk5', 'wk6', 'wk7', 'wk8']\n",
    "basis = ['acc_id', 'label', 'guild']\n",
    "dic = {'wk1' : [], 'wk2' : [], 'wk3' : [], 'wk4' : [], 'wk5' : [], 'wk6' : [], 'wk7' : [], 'wk8' : []}\n",
    "\n",
    "for wk in weekend:\n",
    "    for col in col_list:\n",
    "        if wk in col:\n",
    "            dic[wk].append(col)\n",
    "\n",
    "DF_wk1 = pd.concat([DF[basis], DF[dic['wk1']]], axis = 1).values\n",
    "DF_wk2 = pd.concat([DF[basis], DF[dic['wk2']]], axis = 1).values\n",
    "DF_wk3 = pd.concat([DF[basis], DF[dic['wk3']]], axis = 1).values\n",
    "DF_wk4 = pd.concat([DF[basis], DF[dic['wk4']]], axis = 1).values\n",
    "DF_wk5 = pd.concat([DF[basis], DF[dic['wk5']]], axis = 1).values\n",
    "DF_wk6 = pd.concat([DF[basis], DF[dic['wk6']]], axis = 1).values\n",
    "DF_wk7 = pd.concat([DF[basis], DF[dic['wk7']]], axis = 1).values\n",
    "DF_wk8 = pd.concat([DF[basis], DF[dic['wk8']]], axis = 1).values\n",
    "\n",
    "\n",
    "'''\n",
    "X = np.concatenate((DF_wk1, DF_wk2, DF_wk3, DF_wk4, DF_wk5, DF_wk6, DF_wk7, DF_wk8),axis = 1)\n",
    "X = X.reshape(100000,8,51)\n",
    "\n",
    "y = pd.get_dummies(DF['label'])\n",
    "y = y[['week', 'month', '2month', 'retained']]\n",
    "'''"
   ]
  }
 ],
 "metadata": {
  "kernelspec": {
   "display_name": "Python 3",
   "language": "python",
   "name": "python3"
  },
  "language_info": {
   "codemirror_mode": {
    "name": "ipython",
    "version": 3
   },
   "file_extension": ".py",
   "mimetype": "text/x-python",
   "name": "python",
   "nbconvert_exporter": "python",
   "pygments_lexer": "ipython3",
   "version": "3.6.5"
  }
 },
 "nbformat": 4,
 "nbformat_minor": 2
}
