{
 "cells": [
  {
   "cell_type": "code",
   "execution_count": 1,
   "metadata": {},
   "outputs": [],
   "source": [
    "import pandas as pd\n",
    "import numpy as np\n",
    "\n",
    "from sklearn.model_selection import train_test_split\n",
    "from sklearn.model_selection import KFold\n",
    "from sklearn.decomposition import PCA\n",
    "\n",
    "from sklearn.svm import SVC\n",
    "from sklearn.ensemble import RandomForestClassifier\n",
    "from sklearn.ensemble import ExtraTreesClassifier\n",
    "from sklearn.linear_model import LogisticRegression\n",
    "from sklearn.metrics import f1_score\n",
    "\n",
    "pd.options.display.max_columns = 410"
   ]
  },
  {
   "cell_type": "code",
   "execution_count": 2,
   "metadata": {},
   "outputs": [],
   "source": [
    "# Load Data\n",
    "TRAIN_META = pd.read_csv('data/train_meta.csv')\n",
    "TEST_META = pd.read_csv('data/test_meta.csv')"
   ]
  },
  {
   "cell_type": "code",
   "execution_count": 3,
   "metadata": {},
   "outputs": [],
   "source": [
    "# Load Data\n",
    "TRAIN_META = pd.read_csv('data/train_meta.csv')\n",
    "TEST_META = pd.read_csv('data/test_meta.csv')\n",
    "TRAIN_META = TRAIN_META[['acc_id', 'label', 'Model1', 'Model2', 'Model8']]\n",
    "TEST_META = TEST_META[['acc_id', 'label', 'Model1', 'Model2', 'Model8']]\n",
    "# Preprocessing train dataset\n",
    "TRAIN_META = pd.concat([TRAIN_META['label'], pd.get_dummies(TRAIN_META.iloc[:,2:])], axis = 1)\n",
    "TRAIN_META['NUM_2month'] = (TRAIN_META['Model1_2month'] + TRAIN_META['Model2_2month'] + TRAIN_META['Model8_2month'])\n",
    "TRAIN_META['NUM_month'] = (TRAIN_META['Model1_month'] + TRAIN_META['Model2_month'] + TRAIN_META['Model8_month'])\n",
    "TRAIN_META['NUM_week'] = (TRAIN_META['Model1_week'] + TRAIN_META['Model2_week']  + TRAIN_META['Model8_week'])\n",
    "TRAIN_META['NUM_retained'] = (TRAIN_META['Model1_retained'] + TRAIN_META['Model2_retained'] + TRAIN_META['Model8_retained'])\n",
    "\n",
    "# Preprocessing test dataset\n",
    "TEST_META = pd.concat([TEST_META['label'], pd.get_dummies(TEST_META.iloc[:,2:])], axis = 1)\n",
    "TEST_META['NUM_2month'] = (TEST_META['Model1_2month'] + TEST_META['Model2_2month']+ TEST_META['Model8_2month'])\n",
    "TEST_META['NUM_month'] = (TEST_META['Model1_month'] + TEST_META['Model2_month']  + TEST_META['Model8_month'])\n",
    "TEST_META['NUM_week'] = (TEST_META['Model1_week'] + TEST_META['Model2_week']  + TEST_META['Model8_week'])\n",
    "TEST_META['NUM_retained'] = (TEST_META['Model1_retained'] + TEST_META['Model2_retained'] + TEST_META['Model8_retained'])"
   ]
  },
  {
   "cell_type": "code",
   "execution_count": 4,
   "metadata": {},
   "outputs": [],
   "source": [
    "# Construct train dataset\n",
    "X = TRAIN_META.drop('label', axis = 1).values\n",
    "y = TRAIN_META['label'].values\n",
    "\n",
    "# Construct test dataset\n",
    "X_test = TEST_META.drop('label', axis = 1).values\n",
    "\n",
    "# kfold\n",
    "kf = KFold(n_splits = 5, shuffle = True, random_state = 1)"
   ]
  },
  {
   "cell_type": "code",
   "execution_count": 5,
   "metadata": {},
   "outputs": [
    {
     "name": "stdout",
     "output_type": "stream",
     "text": [
      "1 fold f1:  0.7499244595744812\n",
      "2 fold f1:  0.7423096551739561\n",
      "3 fold f1:  0.7503372225653658\n",
      "4 fold f1:  0.74252917080652\n",
      "5 fold f1:  0.7413077138602935\n",
      "average f1 :  0.7452816443961232\n",
      "std f1 :  0.003982852196791998\n"
     ]
    }
   ],
   "source": [
    "model = RandomForestClassifier(n_estimators = 150, random_state = 1)\n",
    "accuracy = []\n",
    "count = 1\n",
    "for train_index, test_index in kf.split(X):\n",
    "    X_train, X_val, y_train, y_val = X[train_index], X[test_index], y[train_index], y[test_index]\n",
    "    model.fit(X_train, y_train)\n",
    "    f1 = f1_score(y_val, model.predict(X_val), average = 'macro')\n",
    "    print(count,\"fold f1: \", f1)\n",
    "    accuracy.append(f1)\n",
    "    count += 1\n",
    "print(\"average f1 : \", np.array(accuracy).mean())\n",
    "print(\"std f1 : \", np.array(accuracy).std())"
   ]
  },
  {
   "cell_type": "code",
   "execution_count": 6,
   "metadata": {},
   "outputs": [
    {
     "name": "stdout",
     "output_type": "stream",
     "text": [
      "1 fold f1:  0.7498661269676065\n",
      "2 fold f1:  0.7422072407680439\n",
      "3 fold f1:  0.7503372225653658\n",
      "4 fold f1:  0.7425210827954608\n",
      "5 fold f1:  0.7413156495412832\n",
      "average f1 :  0.745249464527552\n",
      "std f1 :  0.003984292824626896\n"
     ]
    }
   ],
   "source": [
    "model = RandomForestClassifier(n_estimators = 200, random_state = 1)\n",
    "accuracy = []\n",
    "count = 1\n",
    "for train_index, test_index in kf.split(X):\n",
    "    X_train, X_val, y_train, y_val = X[train_index], X[test_index], y[train_index], y[test_index]\n",
    "    model.fit(X_train, y_train)\n",
    "    f1 = f1_score(y_val, model.predict(X_val), average = 'macro')\n",
    "    print(count,\"fold f1: \", f1)\n",
    "    accuracy.append(f1)\n",
    "    count += 1\n",
    "print(\"average f1 : \", np.array(accuracy).mean())\n",
    "print(\"std f1 : \", np.array(accuracy).std())"
   ]
  },
  {
   "cell_type": "code",
   "execution_count": 7,
   "metadata": {},
   "outputs": [
    {
     "name": "stdout",
     "output_type": "stream",
     "text": [
      "1 fold f1:  0.749509262823635\n",
      "2 fold f1:  0.742202369582753\n",
      "3 fold f1:  0.7503883922857063\n",
      "4 fold f1:  0.7425243210067307\n",
      "5 fold f1:  0.7413309507801444\n",
      "average f1 :  0.745191059295794\n",
      "std f1 :  0.00391416271945029\n"
     ]
    }
   ],
   "source": [
    "model = ExtraTreesClassifier(n_estimators = 150, random_state = 1)\n",
    "accuracy = []\n",
    "count = 1\n",
    "for train_index, test_index in kf.split(X):\n",
    "    X_train, X_val, y_train, y_val = X[train_index], X[test_index], y[train_index], y[test_index]\n",
    "    model.fit(X_train, y_train)\n",
    "    f1 = f1_score(y_val, model.predict(X_val), average = 'macro')\n",
    "    print(count,\"fold f1: \", f1)\n",
    "    accuracy.append(f1)\n",
    "    count += 1\n",
    "print(\"average f1 : \", np.array(accuracy).mean())\n",
    "print(\"std f1 : \", np.array(accuracy).std())"
   ]
  },
  {
   "cell_type": "code",
   "execution_count": null,
   "metadata": {},
   "outputs": [],
   "source": [
    "model = SVC()\n",
    "accuracy = []\n",
    "count = 1\n",
    "for train_index, test_index in kf.split(X):\n",
    "    X_train, X_val, y_train, y_val = X[train_index], X[test_index], y[train_index], y[test_index]\n",
    "    model.fit(X_train, y_train)\n",
    "    f1 = f1_score(y_val, model.predict(X_val), average = 'macro')\n",
    "    print(count,\"fold f1: \", f1)\n",
    "    accuracy.append(f1)\n",
    "    count += 1\n",
    "print(\"average f1 : \", np.array(accuracy).mean())\n",
    "print(\"std f1 : \", np.array(accuracy).std())"
   ]
  },
  {
   "cell_type": "code",
   "execution_count": null,
   "metadata": {},
   "outputs": [],
   "source": []
  }
 ],
 "metadata": {
  "kernelspec": {
   "display_name": "Python 3",
   "language": "python",
   "name": "python3"
  },
  "language_info": {
   "codemirror_mode": {
    "name": "ipython",
    "version": 3
   },
   "file_extension": ".py",
   "mimetype": "text/x-python",
   "name": "python",
   "nbconvert_exporter": "python",
   "pygments_lexer": "ipython3",
   "version": "3.6.5"
  }
 },
 "nbformat": 4,
 "nbformat_minor": 2
}
